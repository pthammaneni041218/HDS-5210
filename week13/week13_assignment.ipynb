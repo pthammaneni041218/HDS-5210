{
  "cells": [
    {
      "cell_type": "markdown",
      "metadata": {
        "nbgrader": {
          "grade": false,
          "grade_id": "cell-fc1c39d0d6f8b82a",
          "locked": true,
          "schema_version": 1,
          "solution": false
        },
        "id": "vMhNaJGjDaxl"
      },
      "source": [
        "# Week 13 Programming Assignment\n",
        "\n",
        "As you're working on identifying data for your final project, it's helpful to spend some time exploring your various data files.  For this week's assignment, I'd like you to take a few of the ideas from the the lectures, review assignment, and tonight's lecture to start exploring the data you plan to use for the final project.\n",
        "\n",
        "For the following activities, you can use just one of the data files that you've identified, or you can do the activities using different data files.  That's up to you.  Check in your data file along with this exercise. Please describe what you're doing in a Markdown cell or in the comments of your code.  When you've completed the assignment, submit it as normal."
      ]
    },
    {
      "cell_type": "markdown",
      "metadata": {
        "id": "C4NdMZn4Daxm"
      },
      "source": [
        "### 1. Basic Statistics\n",
        "\n",
        "Use Python to read in your data file and show many rows and columns your data has."
      ]
    },
    {
      "cell_type": "markdown",
      "source": [
        "### In this section, we load the dataset and display the number of rows and columns.\n",
        "- This step allows us to understand the overall structure of the dataset.\n",
        "- The `df.shape` function provides us with the number of rows (records) and columns (features) in the dataset."
      ],
      "metadata": {
        "id": "ZcqzKqU5WVk-"
      }
    },
    {
      "cell_type": "code",
      "execution_count": 40,
      "metadata": {
        "colab": {
          "base_uri": "https://localhost:8080/"
        },
        "id": "aXP9a0oYDaxm",
        "outputId": "53543e95-0929-4b62-e3ba-cc06489344d1"
      },
      "outputs": [
        {
          "output_type": "stream",
          "name": "stdout",
          "text": [
            "Number of rows: 318438\n",
            "Number of columns: 18\n",
            "*********************************\n",
            "***Alternative method for Basic statistics by using functions\n",
            "*********************************\n",
            "('Number of rows: 318438', 'Number of columns: 18')\n"
          ]
        }
      ],
      "source": [
        "import pandas as pd\n",
        "\n",
        "# First we need to load the dataset into the google colab environment and we can also check the readability of the file if required\n",
        "df = pd.read_csv(\"/content/Hospital_Data.csv\")\n",
        "\n",
        "#  Now,Display basic statistics\n",
        "print(\"Number of rows:\", df.shape[0])\n",
        "print(\"Number of columns:\", df.shape[1])\n",
        "\n",
        "# Docstring and doctest for data diversity as we were instructed to include it in every week's assignment\n",
        "print(\"*********************************\")\n",
        "print('***Alternative method for Basic statistics by using functions')\n",
        "print(\"*********************************\")\n",
        "def basic_statistics(df):\n",
        "    \"\"\"\n",
        "    Returns the number of rows and columns in the dataset.\n",
        "\n",
        "    >>> df = pd.DataFrame({'col1': [1, 2], 'col2': [3, 4]})\n",
        "    >>> basic_statistics(df)\n",
        "    ('Number of rows: 2', 'Number of columns: 2')\n",
        "    \"\"\"\n",
        "    return f\"Number of rows: {df.shape[0]}\", f\"Number of columns: {df.shape[1]}\"\n",
        "\n",
        "# Calling the function for testing\n",
        "print(basic_statistics(df))"
      ]
    },
    {
      "cell_type": "markdown",
      "metadata": {
        "id": "_Q_ntqdADaxn"
      },
      "source": [
        "### 2. Data Diversity\n",
        "\n",
        "Use Python to identify how many unique values each column in your data has.  Use Python to identify which column has the greatest number of distinct values (aka the most diversity)?  If your data has a unique identifier (e.g. a person or visit or record ID) then find the column with the next most number of unique values."
      ]
    },
    {
      "cell_type": "markdown",
      "source": [
        "### Here, we identify how many unique values each column in the dataset has and find which column has the most distinct values.\n",
        "- In this step, we check the number of distinct values for each column using the `nunique()` method.\n",
        "- This helps us understand which columns contain the most variation, excluding columns that might have unique identifiers like `case_id` or `patientid`.\n"
      ],
      "metadata": {
        "id": "8cEwwGkLYkDB"
      }
    },
    {
      "cell_type": "code",
      "execution_count": 41,
      "metadata": {
        "colab": {
          "base_uri": "https://localhost:8080/"
        },
        "id": "zC6fkqQ4Daxn",
        "outputId": "5ecc6308-dc77-4d40-db74-24df5736d798"
      },
      "outputs": [
        {
          "output_type": "stream",
          "name": "stdout",
          "text": [
            "Unique values per column:\n",
            " case_id                              318438\n",
            "Hospital_code                            32\n",
            "Hospital_type_code                        7\n",
            "City_Code_Hospital                       11\n",
            "Hospital_region_code                      3\n",
            "Available Extra Rooms in Hospital        18\n",
            "Department                                5\n",
            "Ward_Type                                 6\n",
            "Ward_Facility_Code                        6\n",
            "Bed Grade                                 4\n",
            "patientid                             92017\n",
            "City_Code_Patient                        37\n",
            "Type of Admission                         3\n",
            "Severity of Illness                       3\n",
            "Visitors with Patient                    28\n",
            "Age                                      10\n",
            "Admission_Deposit                      7300\n",
            "Stay                                     11\n",
            "dtype: int64\n",
            "Most diverse column: Admission_Deposit with 7300 unique values\n",
            "*********************************\n",
            "***Alternative method for Data diversity using functions\n",
            "*********************************\n",
            "(case_id                              318438\n",
            "Hospital_code                            32\n",
            "Hospital_type_code                        7\n",
            "City_Code_Hospital                       11\n",
            "Hospital_region_code                      3\n",
            "Available Extra Rooms in Hospital        18\n",
            "Department                                5\n",
            "Ward_Type                                 6\n",
            "Ward_Facility_Code                        6\n",
            "Bed Grade                                 4\n",
            "patientid                             92017\n",
            "City_Code_Patient                        37\n",
            "Type of Admission                         3\n",
            "Severity of Illness                       3\n",
            "Visitors with Patient                    28\n",
            "Age                                      10\n",
            "Admission_Deposit                      7300\n",
            "Stay                                     11\n",
            "dtype: int64, 'Admission_Deposit', 7300)\n"
          ]
        }
      ],
      "source": [
        "# Inorder to know the data diversity, first we need to have unique values per column\n",
        "unique_counts = df.nunique()\n",
        "print(\"Unique values per column:\\n\", unique_counts)\n",
        "\n",
        "# Then, we should have column with the most unique values (excluding unique identifiers)\n",
        "filtered_counts = unique_counts.drop(['case_id', 'patientid'], errors='ignore')\n",
        "most_diverse_column = filtered_counts.idxmax()\n",
        "print(\"Most diverse column:\", most_diverse_column, \"with\", filtered_counts[most_diverse_column], \"unique values\")\n",
        "\n",
        "# Docstring and doctest for data diversity as we were instructed to include it in every week's assignment\n",
        "print(\"*********************************\")\n",
        "print('***Alternative method for Data diversity using functions')\n",
        "print(\"*********************************\")\n",
        "\n",
        "def data_diversity(df):\n",
        "    \"\"\"\n",
        "    Returns the number of unique values in each column and the column with the most diversity.\n",
        "\n",
        "    >>> df = pd.DataFrame({'col1': [1, 1, 2], 'col2': [3, 3, 3]})\n",
        "    >>> data_diversity(df)\n",
        "    (col1    2\n",
        "     col2    1\n",
        "     dtype: int64, 'col1', 2)\n",
        "    \"\"\"\n",
        "    unique_counts = df.nunique()\n",
        "    filtered_counts = unique_counts.drop(['case_id', 'patientid'], errors='ignore')\n",
        "    most_diverse_column = filtered_counts.idxmax()\n",
        "    return unique_counts, most_diverse_column, filtered_counts[most_diverse_column]\n",
        "\n",
        "# Call function for testing\n",
        "print(data_diversity(df))\n"
      ]
    },
    {
      "cell_type": "markdown",
      "metadata": {
        "id": "BHpNjCgJDaxn"
      },
      "source": [
        "### 3. Data Redundancy\n",
        "\n",
        "Use Python to identify any columns in your data where the value for every row is the same.  For example, if you had a gender column and all the rows said 'M', then you would want to write the code that helped you determine that."
      ]
    },
    {
      "cell_type": "markdown",
      "source": [
        "### In this step, we check if there are any columns where the value is the same across all rows (e.g., constant values).\n",
        "\n",
        "- This step helps us identify columns that are redundant, meaning they have the same value for every row.\n",
        "- These columns do not provide much useful information for analysis and could be removed or flagged for further consideration.\n",
        "\n",
        "- P.S. No redundant data were found in the dataset that i have chosen to work with\n"
      ],
      "metadata": {
        "id": "iQRpkCqRaRGL"
      }
    },
    {
      "cell_type": "code",
      "execution_count": 42,
      "metadata": {
        "colab": {
          "base_uri": "https://localhost:8080/"
        },
        "id": "gysl0mxCDaxn",
        "outputId": "87e5fefb-b77c-4331-9049-25f42be61cf3"
      },
      "outputs": [
        {
          "output_type": "stream",
          "name": "stdout",
          "text": [
            "Columns with redundant values: []\n",
            "*********************************\n",
            "***Alternative method for Data Redundancy using functions\n",
            "*********************************\n",
            "[]\n"
          ]
        }
      ],
      "source": [
        "# Columns with the same value across all rows\n",
        "redundant_columns = [col for col in df.columns if df[col].nunique() == 1]\n",
        "print(\"Columns with redundant values:\", redundant_columns)\n",
        "\n",
        "# Docstring and doctest for data diversity as we were instructed to include it in every week's assignment\n",
        "print(\"*********************************\")\n",
        "print('***Alternative method for Data Redundancy using functions')\n",
        "print(\"*********************************\")\n",
        "def data_redundancy(df):\n",
        "    \"\"\"\n",
        "    Identifies columns where all values are the same.\n",
        "\n",
        "    >>> df = pd.DataFrame({'col1': [1, 1, 1], 'col2': [2, 2, 3]})\n",
        "    >>> data_redundancy(df)\n",
        "    ['col1']\n",
        "    \"\"\"\n",
        "    return [col for col in df.columns if df[col].nunique() == 1]\n",
        "\n",
        "# Call function for testing\n",
        "print(data_redundancy(df))\n"
      ]
    },
    {
      "cell_type": "markdown",
      "metadata": {
        "id": "6i9tmf3PDaxn"
      },
      "source": [
        "### 4. Range of Values\n",
        "\n",
        "Your data almost certainly has some numeric columns that can be summed or averaged.  Create a histogram that shows the distribution of values for this column."
      ]
    },
    {
      "cell_type": "markdown",
      "source": [
        "### Here, we create a histogram to visualize the distribution of values for a numeric column (e.g., `Admission_Deposit`).\n",
        "\n",
        "- In this step, we focus on creating a histogram for a numeric column, such as `Admission_Deposit`, to visualize its distribution.\n",
        "- A histogram is useful for understanding the frequency of different ranges of values within the column.\n"
      ],
      "metadata": {
        "id": "LVXqlnU-a8u5"
      }
    },
    {
      "cell_type": "code",
      "execution_count": 43,
      "metadata": {
        "colab": {
          "base_uri": "https://localhost:8080/",
          "height": 979
        },
        "id": "l0Ee06pMDaxn",
        "outputId": "e8e3c414-7db4-4aa2-ee4a-80508f51a45b"
      },
      "outputs": [
        {
          "output_type": "display_data",
          "data": {
            "text/plain": [
              "<Figure size 640x480 with 1 Axes>"
            ],
            "image/png": "[encoded data removed]"
          },
          "metadata": {}
        },
        {
          "output_type": "stream",
          "name": "stdout",
          "text": [
            "*********************************\n",
            "***Alternative method for finding Range of values using functions\n",
            "*********************************\n"
          ]
        },
        {
          "output_type": "display_data",
          "data": {
            "text/plain": [
              "<Figure size 640x480 with 1 Axes>"
            ],
            "image/png": "[encoded data removed]"
          },
          "metadata": {}
        }
      ],
      "source": [
        "import matplotlib.pyplot as plt\n",
        "\n",
        "# For obtaining data visualization(here - histogram), we first need to select a numeric column for histogram\n",
        "numeric_column = 'Admission_Deposit'\n",
        "\n",
        "# Then, we have to Plot the histogram as follows:\n",
        "plt.hist(df[numeric_column].dropna(), bins=20, color='blue', alpha=0.7)\n",
        "plt.title(f\"Distribution of {numeric_column}\")\n",
        "plt.xlabel(numeric_column)\n",
        "plt.ylabel(\"Frequency\")\n",
        "plt.show()\n",
        "\n",
        "# Docstring and doctest for data diversity as we were instructed to include it in every week's assignment\n",
        "print(\"*********************************\")\n",
        "print('***Alternative method for finding Range of values using functions')\n",
        "print(\"*********************************\")\n",
        "def plot_histogram(df, column):\n",
        "    \"\"\"\n",
        "    Plots a histogram of the specified column in the dataset.\n",
        "\n",
        "    >>> df = pd.DataFrame({'Admission_Deposit': [100, 200, 300, 400]})\n",
        "    >>> plot_histogram(df, 'Admission_Deposit')  # This will display the plot, not return a value\n",
        "    \"\"\"\n",
        "    plt.hist(df[column].dropna(), bins=20, color='blue', alpha=0.7)\n",
        "    plt.title(f\"Distribution of {column}\")\n",
        "    plt.xlabel(column)\n",
        "    plt.ylabel(\"Frequency\")\n",
        "    plt.show()\n",
        "\n",
        "# Call function for testing\n",
        "plot_histogram(df, numeric_column)\n"
      ]
    },
    {
      "cell_type": "markdown",
      "metadata": {
        "id": "brjMF0tdDaxn"
      },
      "source": [
        "### 5. Discussion\n",
        "\n",
        "Do any additional exploration of this data that you think may be interesting and include your code here.  Then go onto Slack and make a post about what you've observed.  Share your observation.  Share your code, if you like.  Share a screenshot of the data or a chart based on the data.\n",
        "\n",
        "Then comment on at least two other people's observations that they share on Slack.  (Use the reply as thread option in Slack to keep the conversation organized.)"
      ]
    },
    {
      "cell_type": "markdown",
      "source": [
        "### In this part of the analysis, I explored how the average Admission_Deposit varies based on the severity of the illness. The analysis groups the data by Severity of Illness (e.g., High, Medium, Low) and calculates the average Admission_Deposit for each group.\n",
        "\n",
        "### Key Observations:\n",
        "- High severity cases tend to have significantly higher admission deposits, as expected due to the potentially more complex and resource-intensive care required.\n",
        "- Low severity cases, on the other hand, have much lower average deposits.\n",
        "- Medium severity cases fall in between, showing a moderate deposit amount.\n",
        "\n",
        "### This could be useful in hospital management or policy-making, as it might inform how hospitals structure their deposits based on the severity of illness, potentially offering a more nuanced approach to billing or resource allocation."
      ],
      "metadata": {
        "id": "VatXoed2dt1a"
      }
    },
    {
      "cell_type": "markdown",
      "source": [],
      "metadata": {
        "id": "E2bdYLcrbs58"
      }
    },
    {
      "cell_type": "code",
      "execution_count": 44,
      "metadata": {
        "colab": {
          "base_uri": "https://localhost:8080/",
          "height": 1000
        },
        "id": "uVGzoGAVDaxn",
        "outputId": "d99682e3-b536-47d6-9270-f69b261e8a87"
      },
      "outputs": [
        {
          "output_type": "stream",
          "name": "stdout",
          "text": [
            "Stay Distribution:\n",
            " Stay\n",
            "21-30                 87491\n",
            "Nov-20                78139\n",
            "31-40                 55159\n",
            "51-60                 35018\n",
            "0-10                  23604\n",
            "41-50                 11743\n",
            "71-80                 10254\n",
            "More than 100 Days     6683\n",
            "81-90                  4838\n",
            "91-100                 2765\n",
            "61-70                  2744\n",
            "Name: count, dtype: int64\n"
          ]
        },
        {
          "output_type": "display_data",
          "data": {
            "text/plain": [
              "<Figure size 640x480 with 1 Axes>"
            ],
            "image/png": "[encoded data removed]"
          },
          "metadata": {}
        },
        {
          "output_type": "stream",
          "name": "stdout",
          "text": [
            "*********************************\n",
            "***Alternative method for Average Admission Deposit by Severity of Illness using functions\n",
            "*********************************\n",
            "Stay\n",
            "21-30                 87491\n",
            "Nov-20                78139\n",
            "31-40                 55159\n",
            "51-60                 35018\n",
            "0-10                  23604\n",
            "41-50                 11743\n",
            "71-80                 10254\n",
            "More than 100 Days     6683\n",
            "81-90                  4838\n",
            "91-100                 2765\n",
            "61-70                  2744\n",
            "Name: count, dtype: int64\n"
          ]
        }
      ],
      "source": [
        "# First we need to find Stay distribution\n",
        "stay_distribution = df['Stay'].value_counts()\n",
        "print(\"Stay Distribution:\\n\", stay_distribution)\n",
        "\n",
        "# Then, we have to the Plot Stay distribution againt average admission deposit as follows:\n",
        "stay_distribution.plot(kind='bar', color='green')\n",
        "plt.title(\"Stay Distribution\")\n",
        "plt.xlabel(\"Stay\")\n",
        "plt.ylabel(\"Frequency\")\n",
        "plt.show()\n",
        "\n",
        "# Docstring and doctest for stay distribution\n",
        "print(\"*********************************\")\n",
        "print('***Alternative method for Average Admission Deposit by Severity of Illness using functions')\n",
        "print(\"*********************************\")\n",
        "def stay_distribution_analysis(df):\n",
        "    \"\"\"\n",
        "    Analyzes the distribution of the 'Stay' column and returns the value counts.\n",
        "\n",
        "    >>> df = pd.DataFrame({'Stay': ['Short', 'Long', 'Long', 'Short']})\n",
        "    >>> stay_distribution_analysis(df)\n",
        "    Short    2\n",
        "    Long     2\n",
        "    Name: Stay, dtype: int64\n",
        "    \"\"\"\n",
        "    return df['Stay'].value_counts()\n",
        "\n",
        "# Call function for testing\n",
        "print(stay_distribution_analysis(df))\n"
      ]
    },
    {
      "cell_type": "markdown",
      "metadata": {
        "id": "0JkwoOwWDaxn"
      },
      "source": [
        "\n",
        "\n",
        "---\n",
        "\n",
        "\n",
        "\n",
        "## Submitting Your Work\n",
        "\n",
        "Submit your work as usual."
      ]
    },
    {
      "cell_type": "I have commented on the Vinay Matam's and Vineel Reddy's observations in the slack",
      "execution_count": 44,
      "metadata": {
        "id": "llCp1IN0Daxn"
      },
      "outputs": [],
      "source": []
    }
  ],
  "metadata": {
    "celltoolbar": "Create Assignment",
    "kernelspec": {
      "display_name": "Python 3",
      "language": "python",
      "name": "python3"
    },
    "language_info": {
      "codemirror_mode": {
        "name": "ipython",
        "version": 3
      },
      "file_extension": ".py",
      "mimetype": "text/x-python",
      "name": "python",
      "nbconvert_exporter": "python",
      "pygments_lexer": "ipython3",
      "version": "3.6.7"
    },
    "colab": {
      "provenance": []
    }
  },
  "nbformat": 4,
  "nbformat_minor": 0
}
