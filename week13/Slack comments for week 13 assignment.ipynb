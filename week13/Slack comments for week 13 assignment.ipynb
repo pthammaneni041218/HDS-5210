{
  "nbformat": 4,
  "nbformat_minor": 0,
  "metadata": {
    "colab": {
      "provenance": []
    },
    "kernelspec": {
      "name": "python3",
      "display_name": "Python 3"
    },
    "language_info": {
      "name": "python"
    }
  },
  "cells": [
    {
      "cell_type": "markdown",
      "source": [
        "## I have commmented on Vinay Matam's and Vineel Reddy's observation in the slack.\n",
        "\n",
        "## I am so sorry to upload this as a separate one forgot to mention this in the week 13 assignment and when trying to change and mention it directly in the week 13 assignment i am unable to do so. Kindly excuse me for this inconvenience\n"
      ],
      "metadata": {
        "id": "ShcJtVopIBtK"
      }
    },
    {
      "cell_type": "code",
      "source": [],
      "metadata": {
        "id": "Wot3AgF2IiCi"
      },
      "execution_count": null,
      "outputs": []
    }
  ]
}