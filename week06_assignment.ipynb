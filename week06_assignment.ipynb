{
  "cells": [
    {
      "cell_type": "markdown",
      "metadata": {
        "id": "view-in-github",
        "colab_type": "text"
      },
      "source": [
        "<a href=\"https://colab.research.google.com/github/pthammaneni041218/HDS-5210/blob/main/week06_assignment.ipynb\" target=\"_parent\"><img src=\"https://colab.research.google.com/assets/colab-badge.svg\" alt=\"Open In Colab\"/></a>"
      ]
    },
    {
      "cell_type": "markdown",
      "metadata": {
        "nbgrader": {
          "grade": false,
          "grade_id": "intro",
          "locked": true,
          "schema_version": 1,
          "solution": false
        },
        "id": "UFh7TMM-0e2T"
      },
      "source": [
        "# Week 6 Exercises\n",
        "\n",
        "_McKinney 6.1_\n",
        "\n",
        "There are multiple ways to solve the problems below.  You can use any one of several approaches.  For example, you can read CSV files using Pandas or the csv module.  Your score won't depend on which modules you choose to use unless explicitly noted below, but your programming style will still matter."
      ]
    },
    {
      "cell_type": "markdown",
      "metadata": {
        "nbgrader": {
          "grade": false,
          "grade_id": "q1-description",
          "locked": true,
          "schema_version": 1,
          "solution": false
        },
        "id": "jkVmO0QP0e2U"
      },
      "source": [
        "### 30.1 List of Allergies\n",
        "\n",
        "In the /data directory on the Jupyter server, there is a file called `allergies.json` that contains a list of patient allergies.  It is taken from sample data provided by the EHR vendor, Epic, here: https://open.epic.com/Clinical/Allergy\n",
        "\n",
        "Take some time to look at the structure of the file.  You can open it directly in Jupyter by clicking the _Home_ icon, then the _from_instructor_ folder, and then the _data_ folder.\n",
        "\n",
        "Within the file, you'll see that it is a dictionary with many items in it.  One of those items is called `entry` and that item is a list of things.  You can tell that because the item name is immediately followed by an opening square bracket, signifying the start of a list.  It's line 11 of the file: `  \"entry\": [`\n",
        "\n",
        "Write a function named `allergy_count(json_file)` that takes as one parameter the name of the JSON file and returns an integer number of entries in that file.  Your function should open the file, read the json into a Python object, and return how many items there are in the list of `entry`s."
      ]
    },
    {
      "cell_type": "code",
      "execution_count": 96,
      "metadata": {
        "id": "0IqfXDXQ0e2U"
      },
      "outputs": [],
      "source": [
        "import json\n",
        "ALLERGIES_FILE=\"allergies.json\""
      ]
    },
    {
      "cell_type": "code",
      "execution_count": 97,
      "metadata": {
        "nbgrader": {
          "grade": false,
          "grade_id": "q1-answer",
          "locked": false,
          "schema_version": 1,
          "solution": true
        },
        "id": "VceVsF1E0e2V"
      },
      "outputs": [],
      "source": [
        "import json\n",
        "\n",
        "def allergy_count(json_file):\n",
        "    \"\"\"\n",
        "    Counts the number of allergy entries in the JSON file.\n",
        "\n",
        "    Args:\n",
        "        json_file (str): The name of the JSON file containing allergies data.\n",
        "\n",
        "    Returns:\n",
        "        int: The number of allergy entries.\n",
        "\n",
        "    Example:\n",
        "        >>> count = allergy_count(\"allergies.json\")\n",
        "        >>> print(count)  # This will print the total number of allergy entries.\n",
        "    \"\"\"\n",
        "    # This opens the JSON file and read its contents\n",
        "    with open(json_file, 'r') as f:\n",
        "        data = json.load(f)  # Load the JSON data into a Python dictionary\n",
        "\n",
        "    # hTis step returns the count of entries in the \"entry\" list\n",
        "    return len(data[\"entry\"])  # Count the number of entries and return it\n"
      ]
    },
    {
      "cell_type": "code",
      "execution_count": 98,
      "metadata": {
        "id": "o-aZ1i3X0e2V",
        "colab": {
          "base_uri": "https://localhost:8080/"
        },
        "outputId": "967f7550-2b55-4a0e-b2fe-52d13cd1a6bf"
      },
      "outputs": [
        {
          "output_type": "execute_result",
          "data": {
            "text/plain": [
              "4"
            ]
          },
          "metadata": {},
          "execution_count": 98
        }
      ],
      "source": [
        "allergy_count(ALLERGIES_FILE)"
      ]
    },
    {
      "cell_type": "code",
      "execution_count": 99,
      "metadata": {
        "nbgrader": {
          "grade": true,
          "grade_id": "q1-tests",
          "locked": true,
          "points": 5,
          "schema_version": 1,
          "solution": false
        },
        "id": "J4iyHEIK0e2V"
      },
      "outputs": [],
      "source": [
        "assert type(allergy_count(ALLERGIES_FILE)) == int\n",
        "assert allergy_count(ALLERGIES_FILE) == 4"
      ]
    },
    {
      "cell_type": "markdown",
      "metadata": {
        "id": "kZcKASwx0e2V"
      },
      "source": [
        "### 30.2 Number of Patients\n",
        "\n",
        "If you dig a little bit deaper into this list of allergies, you'll see that each result has a patient associated with it.  Create a funcation called `patient_count(json_file)` that will count how many unique patients we have in this JSON structure.  "
      ]
    },
    {
      "cell_type": "code",
      "execution_count": 100,
      "metadata": {
        "id": "IxNhwDac0e2V"
      },
      "outputs": [],
      "source": [
        "def patient_count(json_file):\n",
        "    \"\"\"\n",
        "    Counts the number of unique patients in the JSON file containing allergy data.\n",
        "\n",
        "    Args:\n",
        "        json_file (str): The name of the JSON file containing allergy data.\n",
        "\n",
        "    Returns:\n",
        "        int: The number of unique patients.\n",
        "\n",
        "    Example:\n",
        "        >>> count = patient_count(\"allergies.json\")\n",
        "        >>> print(count)  # This will print the number of unique patients.\n",
        "    \"\"\"\n",
        "    unique_patients = set()  # Use a set to store unique patient names\n",
        "\n",
        "    # This step opens the JSON file and read its contents\n",
        "    with open(json_file, \"r\") as f:\n",
        "        data = json.load(f)  # Load the JSON data into a Python dictionary\n",
        "\n",
        "        # Now we need to iterate through each entry in the \"entry\" list\n",
        "        for entry in data[\"entry\"]:\n",
        "            patient = entry[\"resource\"][\"patient\"][\"display\"]  # Get the patient name\n",
        "            unique_patients.add(patient)  # Add the patient to the set (only unique values are stored)\n",
        "\n",
        "    # Finally this return the number of unique patients\n",
        "    return len(unique_patients)  # Return the count of unique patients\n"
      ]
    },
    {
      "cell_type": "code",
      "execution_count": 101,
      "metadata": {
        "id": "36PjWQkQ0e2V",
        "colab": {
          "base_uri": "https://localhost:8080/"
        },
        "outputId": "ab06cb67-4516-47d0-fd38-e15e881629a3"
      },
      "outputs": [
        {
          "output_type": "execute_result",
          "data": {
            "text/plain": [
              "2"
            ]
          },
          "metadata": {},
          "execution_count": 101
        }
      ],
      "source": [
        "patient_count(ALLERGIES_FILE)"
      ]
    },
    {
      "cell_type": "code",
      "execution_count": 102,
      "metadata": {
        "id": "_WlGfmOB0e2V"
      },
      "outputs": [],
      "source": [
        "assert type(patient_count(ALLERGIES_FILE)) == int\n",
        "assert patient_count(ALLERGIES_FILE) == 2"
      ]
    },
    {
      "cell_type": "markdown",
      "metadata": {
        "id": "zN3J6O9e0e2V"
      },
      "source": [
        "### 30.3 How Many Allergies per Patient\n",
        "\n",
        "Although each entry is a separate allergy, several of them are for the same patient.  Write a function called `allergy_per_patient(json_file)` that counts up how many allergies each patient has.\n"
      ]
    },
    {
      "cell_type": "code",
      "execution_count": 103,
      "metadata": {
        "id": "Zpwb0Wx_0e2V"
      },
      "outputs": [],
      "source": [
        "def allergy_per_patient(json_file):\n",
        "    \"\"\"\n",
        "    Counts how many allergies each patient has.\n",
        "\n",
        "    Args:\n",
        "        json_file (str): The name of the JSON file containing allergy data.\n",
        "\n",
        "    Returns:\n",
        "        dict: A dictionary where the keys are patient names and the values are counts of their allergies.\n",
        "\n",
        "    Example:\n",
        "        >>> allergies_count = allergy_per_patient(\"allergies.json\")\n",
        "        >>> print(allergies_count)  # This will print a dictionary of patients and their allergy counts.\n",
        "    \"\"\"\n",
        "    allergy_counts = {}  # Initialize an empty dictionary is created to store counts\n",
        "\n",
        "    # This is to open the JSON file and read its contents\n",
        "    with open(json_file, \"r\") as f:\n",
        "        data = json.load(f)  # Load the JSON data into a Python dictionary\n",
        "\n",
        "        # Now iterate through each entry in the \"entry\" list\n",
        "        for entry in data[\"entry\"]:\n",
        "            patient = entry[\"resource\"][\"patient\"][\"display\"]  # Get the patient name\n",
        "\n",
        "            # Update the count for this patient\n",
        "            if patient in allergy_counts:\n",
        "                allergy_counts[patient] += 1  # Increment count if patient exists\n",
        "            else:\n",
        "                allergy_counts[patient] = 1  # Initialize count if patient is new\n",
        "\n",
        "    return allergy_counts  # Return the dictionary of allergy counts\n"
      ]
    },
    {
      "cell_type": "code",
      "execution_count": 104,
      "metadata": {
        "id": "2gDJWEjL0e2W",
        "colab": {
          "base_uri": "https://localhost:8080/"
        },
        "outputId": "e1f81c02-c2c3-43ed-8b5c-540025f67676"
      },
      "outputs": [
        {
          "output_type": "execute_result",
          "data": {
            "text/plain": [
              "{'Jason Argonaut': 3, 'Paul Boal': 1}"
            ]
          },
          "metadata": {},
          "execution_count": 104
        }
      ],
      "source": [
        "allergy_per_patient(ALLERGIES_FILE)"
      ]
    },
    {
      "cell_type": "code",
      "execution_count": 105,
      "metadata": {
        "id": "-N_1P8T00e2W"
      },
      "outputs": [],
      "source": [
        "assert type(allergy_per_patient(ALLERGIES_FILE)) == dict\n",
        "assert allergy_per_patient(ALLERGIES_FILE) == {'Paul Boal': 1, 'Jason Argonaut': 3}"
      ]
    },
    {
      "cell_type": "markdown",
      "metadata": {
        "nbgrader": {
          "grade": false,
          "grade_id": "q2-question",
          "locked": true,
          "schema_version": 1,
          "solution": false
        },
        "id": "uWhPZbSq0e2W"
      },
      "source": [
        "### 30.4 Patient Allergies and Reaction\n",
        "\n",
        "You'll see in the file that each of the items in the `entry` list have several other attributes including a patient name, substance text representation, and a reaction manifestation.  Create a function named `allergy_list(json_file)` that will create an output list that has patient name, allergy, and reaction for each `entry`.  The actual result you should get will be:\n",
        "\n",
        "```python\n",
        "[['Jason Argonaut', 'PENICILLIN G', 'Hives'],\n",
        " ['Paul Boal', 'PENICILLIN G', 'Bruising'],\n",
        " ['Jason Argonaut', 'SHELLFISH-DERIVED PRODUCTS', 'Itching'],\n",
        " ['Jason Argonaut', 'STRAWBERRY', 'Anaphylaxis']]\n",
        "```\n",
        "\n",
        "You'll notice that the reaction and the manifestation of that action are lists.  You only need to capture the first reaction and the first manifestation of the action.  That is, if there is a list of things, just output the first one."
      ]
    },
    {
      "cell_type": "code",
      "execution_count": 106,
      "metadata": {
        "nbgrader": {
          "grade": false,
          "grade_id": "q2-answer",
          "locked": false,
          "schema_version": 1,
          "solution": true
        },
        "id": "apZEF4rI0e2W"
      },
      "outputs": [],
      "source": [
        "def allergy_list(json_file):\n",
        "    \"\"\"\n",
        "    Creates a list of allergies for each patient, including the patient's name, substance they are allergic to,\n",
        "    and their reaction.\n",
        "\n",
        "    Args:\n",
        "        json_file (str): The name of the JSON file containing allergy data.\n",
        "\n",
        "    Returns:\n",
        "        list: A sorted list of lists, where each inner list contains the patient's name,\n",
        "              the substance they are allergic to, and the first reaction.\n",
        "\n",
        "    Example:\n",
        "        >>> allergies = allergy_list(\"allergies.json\")\n",
        "        >>> print(allergies)\n",
        "        # This will print a list of allergies like the following:\n",
        "        # [['Jason Argonaut', 'PENICILLIN G', 'Hives'], ...]\n",
        "    \"\"\"\n",
        "    result = []  # Initialize an empty list to store the results\n",
        "\n",
        "    # Open the JSON file and read its contents\n",
        "    with open(json_file) as file:\n",
        "        data = json.load(file)  # Load the JSON data into a Python dictionary\n",
        "\n",
        "    # Iterate through each entry in the \"entry\" list\n",
        "    for entry in data['entry']:\n",
        "        patient = entry['resource']['patient']['display']  # Get the patient name\n",
        "        allergy = entry['resource']['substance']['text']  # Get the allergy substance\n",
        "        reaction = entry['resource']['reaction'][0]['manifestation'][0]['text']  # Get the first reaction\n",
        "\n",
        "        # Append the patient's name, allergy, and reaction as a list to the result\n",
        "        result.append([patient, allergy, reaction])\n",
        "\n",
        "    return sorted(result)  # Return the sorted list of results\n"
      ]
    },
    {
      "cell_type": "code",
      "execution_count": 107,
      "metadata": {
        "id": "12QgvbFc0e2W",
        "colab": {
          "base_uri": "https://localhost:8080/"
        },
        "outputId": "a4d01e53-33fd-49bf-bdcd-52f20b58553d"
      },
      "outputs": [
        {
          "output_type": "execute_result",
          "data": {
            "text/plain": [
              "[['Jason Argonaut', 'PENICILLIN G', 'Hives'],\n",
              " ['Jason Argonaut', 'SHELLFISH-DERIVED PRODUCTS', 'Itching'],\n",
              " ['Jason Argonaut', 'STRAWBERRY', 'Anaphylaxis'],\n",
              " ['Paul Boal', 'PENICILLIN G', 'Bruising']]"
            ]
          },
          "metadata": {},
          "execution_count": 107
        }
      ],
      "source": [
        "allergy_list(ALLERGIES_FILE)"
      ]
    },
    {
      "cell_type": "code",
      "execution_count": 108,
      "metadata": {
        "nbgrader": {
          "grade": true,
          "grade_id": "q2-tests",
          "locked": true,
          "points": 10,
          "schema_version": 1,
          "solution": false
        },
        "id": "KF44WR380e2W"
      },
      "outputs": [],
      "source": [
        "assert allergy_list(ALLERGIES_FILE) == [['Jason Argonaut', 'PENICILLIN G', 'Hives'],\n",
        " ['Jason Argonaut', 'SHELLFISH-DERIVED PRODUCTS', 'Itching'],\n",
        " ['Jason Argonaut', 'STRAWBERRY', 'Anaphylaxis'],\n",
        " ['Paul Boal', 'PENICILLIN G', 'Bruising']]\n"
      ]
    },
    {
      "cell_type": "markdown",
      "metadata": {
        "nbgrader": {
          "grade": false,
          "grade_id": "q3-question",
          "locked": true,
          "schema_version": 1,
          "solution": false
        },
        "id": "VE5VNwbD0e2W"
      },
      "source": [
        "### 30.5 Allergy Reaction\n",
        "\n",
        "Write a function called `allergy_reaction(json_file,patient,substance)` that takes three parameter and returns the reaction that will happen if the patient takes the specified substance.  You can solve this, in part, by calling your `allergy_list` function inside your new `allergy_reaction` function.\n",
        "\n",
        "If the substance is not found in the allergy list, the function should return None."
      ]
    },
    {
      "cell_type": "code",
      "execution_count": 109,
      "metadata": {
        "nbgrader": {
          "grade": false,
          "grade_id": "q3-answer",
          "locked": false,
          "schema_version": 1,
          "solution": true
        },
        "id": "Bojw6Eu30e2W"
      },
      "outputs": [],
      "source": [
        "def allergy_reaction(json_file, patient, substance):\n",
        "    \"\"\"\n",
        "    Retrieves the reaction for a specific patient's allergy to a specified substance.\n",
        "\n",
        "    Args:\n",
        "        json_file (str): The name of the JSON file containing allergy data.\n",
        "        patient (str): The name of the patient whose allergy reaction is to be retrieved.\n",
        "        substance (str): The name of the substance to check for allergies.\n",
        "\n",
        "    Returns:\n",
        "        str or None: The reaction the patient has to the specified substance,\n",
        "                     or None if the patient does not have an allergy to that substance.\n",
        "\n",
        "    Example:\n",
        "        >>> reaction = allergy_reaction(\"allergies.json\", \"Jason Argonaut\", \"PENICILLIN G\")\n",
        "        >>> print(reaction)  # This will print 'Hives'\n",
        "    \"\"\"\n",
        "    allergies = allergy_list(json_file)  # Get the list of allergies\n",
        "    for record in allergies:\n",
        "        # Check if the record matches the specified patient and substance\n",
        "        if record[0] == patient and record[1] == substance:\n",
        "            return record[2]  # Return the reaction if found\n",
        "    return None  # Return None if no match is found\n"
      ]
    },
    {
      "cell_type": "code",
      "execution_count": 110,
      "metadata": {
        "id": "VHbVbERk0e2W",
        "colab": {
          "base_uri": "https://localhost:8080/",
          "height": 35
        },
        "outputId": "05c11571-f882-4948-827b-6ebe65af2324"
      },
      "outputs": [
        {
          "output_type": "execute_result",
          "data": {
            "text/plain": [
              "'Hives'"
            ],
            "application/vnd.google.colaboratory.intrinsic+json": {
              "type": "string"
            }
          },
          "metadata": {},
          "execution_count": 110
        }
      ],
      "source": [
        "allergy_reaction(ALLERGIES_FILE, 'Jason Argonaut', 'PENICILLIN G')"
      ]
    },
    {
      "cell_type": "code",
      "execution_count": 111,
      "metadata": {
        "nbgrader": {
          "grade": true,
          "grade_id": "q3-tests",
          "locked": true,
          "points": 5,
          "schema_version": 1,
          "solution": false
        },
        "id": "ckHXoUrY0e2W"
      },
      "outputs": [],
      "source": [
        "assert allergy_reaction(ALLERGIES_FILE, 'Jason Argonaut', 'PENICILLIN G') == 'Hives'\n",
        "assert allergy_reaction(ALLERGIES_FILE, 'Jason Argonaut', 'SHELLFISH-DERIVED PRODUCTS') == 'Itching'\n",
        "assert allergy_reaction(ALLERGIES_FILE, 'Jason Argonaut', 'STRAWBERRY') == 'Anaphylaxis'\n",
        "assert allergy_reaction(ALLERGIES_FILE, 'Jason Argonaut', 'PENICILLIN') == None\n",
        "assert allergy_reaction(ALLERGIES_FILE, 'Paul Boal', 'PENICILLIN G') == 'Bruising'"
      ]
    },
    {
      "cell_type": "markdown",
      "metadata": {
        "id": "_OK--c-A0e2W"
      },
      "source": [
        "---\n",
        "\n",
        "## Check your work above\n",
        "\n",
        "If you didn't get them all correct, take a few minutes to think through those that aren't correct.\n",
        "\n",
        "\n",
        "## Submitting Your Work\n",
        "\n",
        "In order to submit your work, you'll need to save this notebook file back to GitHub.  To do that in Google Colab:\n",
        "1. File -> Save a Copy in GitHub\n",
        "2. Make sure your HDS5210 repository is selected\n",
        "3. Make sure the file name includes the week number like this: `week06/week06_assignment_2.ipynb`\n",
        "4. Add a commit message that means something\n",
        "\n",
        "**Be sure week names are lowercase and use a two digit week number!!**\n",
        "\n",
        "**Be sure you use the same file name provided by the instructor!!**\n",
        "\n"
      ]
    }
  ],
  "metadata": {
    "celltoolbar": "Create Assignment",
    "kernelspec": {
      "display_name": "Python 3",
      "language": "python",
      "name": "python3"
    },
    "language_info": {
      "codemirror_mode": {
        "name": "ipython",
        "version": 3
      },
      "file_extension": ".py",
      "mimetype": "text/x-python",
      "name": "python",
      "nbconvert_exporter": "python",
      "pygments_lexer": "ipython3",
      "version": "3.9.16"
    },
    "colab": {
      "provenance": [],
      "include_colab_link": true
    }
  },
  "nbformat": 4,
  "nbformat_minor": 0
}