{
  "cells": [
    {
      "cell_type": "markdown",
      "metadata": {
        "id": "CT4NmFpJTRPK"
      },
      "source": [
        "# Week 7 Assignment\n",
        "\n",
        "We've been working with different types of data structures in Python (dictionary, list, etc), how those are represented in JSON documents, and how to write code to access specific data elements. In this week's assignment, you will need to create your own JSON document to store information about yourself and the grades you've received from week 1 to week 4 and the week 6 quiz.  That is, everything you should have received a grade for.  Then you'll need to show me you know how to navigate the JSON in that file.\n",
        "\n",
        "Different from what we've done in the past, you do not have to write any functions or include any docstrings.  Just create some JSON and write some code.\n",
        "\n",
        "---"
      ]
    },
    {
      "cell_type": "markdown",
      "metadata": {
        "id": "2U8x4ZzxTRPL"
      },
      "source": [
        "## 7.1 Create a JSON file\n",
        "\n",
        "Create a JSON file that contains your name, email, year you were born, all of the grades you've received back so far, and a comment about what you thought was most challenging on each of those assignments.  This can be any structure you choose, but make sure it uses a dictionary and a list, and has at least two levels of hierarchy.  That is, it can't just be one big long list."
      ]
    },
    {
      "cell_type": "markdown",
      "metadata": {
        "id": "x1BmVJQmTRPL"
      },
      "source": [
        "First, explain how your data structure is going to look..."
      ]
    },
    {
      "cell_type": "markdown",
      "metadata": {
        "id": "W9Kx3gJ9TRPM"
      },
      "source": [
        "* Put your explanation here in text...\n",
        "\n",
        "---\n",
        "The JSON structure I will create contains two main sections:\n",
        "\n",
        "1) Self-Intro: This section holds basic details about the myself (name, email, year of birth). It will be represented as a dictionary with keys for each attribute\n",
        "\n",
        "2)Grades: This section contains a list of dictionaries, with each dictionary representing a specific week's assignment. Each week will have a grade and a comment on the most challenging aspect of the assignment as suggested to write in the instructions.\n",
        "This hierarchical structure ensures that there are at least two levels (the top level for student info and grades, and the second level for each week's details inside the grades list).\n",
        "\n",
        "\n",
        "\n",
        "\n",
        "---\n",
        "\n"
      ]
    },
    {
      "cell_type": "markdown",
      "metadata": {
        "id": "gNSMjr2GTRPM"
      },
      "source": [
        "Then put the actual JSON you've created inside the multiline string below..."
      ]
    },
    {
      "cell_type": "code",
      "execution_count": 29,
      "metadata": {
        "id": "vZ8mRAy8TRPM"
      },
      "outputs": [],
      "source": [
        "hds5210 = \"\"\"\n",
        "{\n",
        "    \"student\": {\n",
        "        \"name\": \"Thammaneni Praveen\",\n",
        "        \"email\": \"praveenreddie84@gmail.com\",\n",
        "        \"year_of_birth\": 1999\n",
        "    },\n",
        "    \"grades\": [\n",
        "        {\n",
        "            \"week\": 1,\n",
        "            \"grade\": 10,\n",
        "            \"comment\": \"Github creation was easy but creating a repository and inviting others took sometime as i have no prior knowledge of coding .\"\n",
        "        },\n",
        "        {\n",
        "            \"week\": 2,\n",
        "            \"grade\": 10,\n",
        "            \"comment\": \"Understanding how to write a code and BMI calculation logic involving conversions between metric and imperial systems was tricky.\"\n",
        "        },\n",
        "        {\n",
        "            \"week\": 3,\n",
        "            \"grade\": 10,\n",
        "            \"comment\": \"How to write combine coding to handling the logical outcome of public health data using data provided was quite a bit difficult.\"\n",
        "        },\n",
        "        {\n",
        "            \"week\": 4,\n",
        "            \"grade\": 9,\n",
        "            \"comment\": \"Working with lists and dictionaries and converting between them was enjoyable but required focus and was easy when compared with previous weeks.\"\n",
        "        },\n",
        "        {\n",
        "            \"week\": 5,\n",
        "            \"grade\": 9,\n",
        "            \"comment\": \"Including Docstrings and creating examples to ensure whoever uses this code understands theme and its usage.\"\n",
        "        },\n",
        "        {\n",
        "            \"week\": 6,\n",
        "            \"grade\": \"still to be graded\",\n",
        "            \"comment\": \"Analyzing patient allergy data in JSON format was a bit complex.\"\n",
        "        }\n",
        "    ]\n",
        "}\n",
        "\"\"\"\n"
      ]
    },
    {
      "cell_type": "markdown",
      "metadata": {
        "id": "OyYkSEX3TRPM"
      },
      "source": [
        "## 7.2 Do something with your JSON\n",
        "\n",
        "Now use Python code to do something with the Json above.  Turn it into English text, but make sure that you use at least one loop to access some dict or list content of your JSON.  Below, I've provided some basic code to read in the string above as JSON and return a Python object.  Your job is to work with that data structure and print out the important information like your name, email, and how you did on each assignment."
      ]
    },
    {
      "cell_type": "code",
      "execution_count": 30,
      "metadata": {
        "colab": {
          "base_uri": "https://localhost:8080/"
        },
        "id": "zotbA05jTRPM",
        "outputId": "f280b3db-10c5-41af-c979-06a5625d0663"
      },
      "outputs": [
        {
          "output_type": "stream",
          "name": "stdout",
          "text": [
            "Hi, my name is Thammaneni Praveen, and my email address is praveenreddie84@gmail.com. I have received the following grades for my assignments:\n",
            " - Week 1: I received a grade of 10. My comment: 'Github creation was easy but creating a repository and inviting others took sometime as i have no prior knowledge of coding .'.\n",
            " - Week 2: I received a grade of 10. My comment: 'Understanding how to write a code and BMI calculation logic involving conversions between metric and imperial systems was tricky.'.\n",
            " - Week 3: I received a grade of 10. My comment: 'How to write combine coding to handling the logical outcome of public health data using data provided was quite a bit difficult.'.\n",
            " - Week 4: I received a grade of 9. My comment: 'Working with lists and dictionaries and converting between them was enjoyable but required focus and was easy when compared with previous weeks.'.\n",
            " - Week 5: I received a grade of 9. My comment: 'Including Docstrings and creating examples to ensure whoever uses this code understands theme and its usage.'.\n",
            " - Week 6: I received a grade of still to be graded. My comment: 'Analyzing patient allergy data in JSON format was a bit complex.'.\n",
            "\n"
          ]
        }
      ],
      "source": [
        "import json\n",
        "\n",
        "# Load the JSON data from the multiline string\n",
        "info = json.loads(hds5210)\n",
        "\n",
        "# Extracting self intro from json\n",
        "name = info[\"student\"][\"name\"]\n",
        "email = info[\"student\"][\"email\"]\n",
        "\n",
        "# Starting the output paragraph\n",
        "output = f\"Hi, my name is {name}, and my email address is {email}. I have received the following grades for my assignments:\\n\"\n",
        "\n",
        "# Looping through the grades to get details for each week\n",
        "for grade_info in info[\"grades\"]:\n",
        "    week = grade_info[\"week\"]\n",
        "    grade = grade_info[\"grade\"]\n",
        "    comment = grade_info[\"comment\"]\n",
        "    output += f\" - Week {week}: I received a grade of {grade}. My comment: '{comment}'.\\n\"\n",
        "\n",
        "print(output)\n"
      ]
    },
    {
      "cell_type": "markdown",
      "metadata": {
        "id": "5l8I2FNwTRPM"
      },
      "source": [
        "## 7.3 Reflect\n",
        "\n",
        "Write a paragraph on any reflections you have. Was this hard? Easy?  What parts were most challenging or easiest? What did you like or dislike about the assignment?  Share whatever important thoughts you have abou this assignment."
      ]
    },
    {
      "cell_type": "markdown",
      "metadata": {
        "id": "RpmcjONhTRPM"
      },
      "source": [
        "This assignment gave me useful practice in working with JSON data, which is important in health data science for organizing complex information. Creating the JSON file was fairly simple as it is like organizing patient files like in my previous job . The only tricky part was making sure the data was formatted correctly—small mistakes stop the code from working.\n",
        "\n",
        "I'll need to do this while working with big health datasets, thus using loops to extract particular details proved helpful. In general, this assignment improved my ability to arrange and handle data, which is critical for healthcare decision-making."
      ]
    },
    {
      "cell_type": "markdown",
      "metadata": {
        "id": "FKwy8PdGTRPN"
      },
      "source": [
        "---\n",
        "\n",
        "# Example\n",
        "\n",
        "Below is an example of something similar, but this uses information my and my friend's kids instead of grades."
      ]
    },
    {
      "cell_type": "code",
      "execution_count": 31,
      "metadata": {
        "colab": {
          "base_uri": "https://localhost:8080/"
        },
        "id": "PLYA_AzITRPN",
        "outputId": "d37a59cf-b1d4-4e06-e725-9129a6733983"
      },
      "outputs": [
        {
          "output_type": "stream",
          "name": "stdout",
          "text": [
            "Hi, my name is Paul. I've got 3 kids. Their names are Ellie, Ada, Teddy.\n",
            "My friend, Anny has 1 kids. That's fewer than me. Their names are 1\n"
          ]
        }
      ],
      "source": [
        "hds5210 = \"\"\"\n",
        "{\n",
        "    \"me\": {\n",
        "        \"name\": \"Paul\",\n",
        "        \"kids\": [\"Ellie\", \"Ada\", \"Teddy\"]\n",
        "    },\n",
        "    \"friend\": {\n",
        "        \"name\": \"Anny\",\n",
        "        \"kids\": [\"Abby\"]\n",
        "    }\n",
        "}\n",
        "\"\"\"\n",
        "\n",
        "import json\n",
        "\n",
        "info = json.loads(hds5210)\n",
        "\n",
        "me = info[\"me\"][\"name\"]\n",
        "my_kids_count = len(info[\"me\"][\"kids\"])\n",
        "kids_list = \", \".join(info[\"me\"][\"kids\"])\n",
        "friend = info[\"friend\"][\"name\"]\n",
        "friends_kid_count = len(info[\"friend\"][\"kids\"])\n",
        "friend_kids = \", \".join(info[\"friend\"][\"kids\"])\n",
        "compare = \"more\" if friends_kid_count > my_kids_count else \"fewer\"\n",
        "\n",
        "print(f\"Hi, my name is {me}. I've got {my_kids_count} kids. Their names are {kids_list}.\")\n",
        "print(f\"My friend, {friend} has {friends_kid_count} kids. That's {compare} than me. Their names are {friends_kid_count}\")"
      ]
    }
  ],
  "metadata": {
    "kernelspec": {
      "display_name": "Python 3",
      "language": "python",
      "name": "python3"
    },
    "language_info": {
      "codemirror_mode": {
        "name": "ipython",
        "version": 3
      },
      "file_extension": ".py",
      "mimetype": "text/x-python",
      "name": "python",
      "nbconvert_exporter": "python",
      "pygments_lexer": "ipython3",
      "version": "3.9.16"
    },
    "colab": {
      "provenance": []
    }
  },
  "nbformat": 4,
  "nbformat_minor": 0
}