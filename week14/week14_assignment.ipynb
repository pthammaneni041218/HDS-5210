{
  "cells": [
    {
      "cell_type": "markdown",
      "metadata": {
        "nbgrader": {
          "grade": false,
          "grade_id": "intro",
          "locked": true,
          "schema_version": 1,
          "solution": false
        },
        "id": "liXY-LLy8Iwf"
      },
      "source": [
        "# Working with multiple data sets\n",
        "\n",
        "There are two data files that we'll be working with for this week's assignment.  They are described below.  Load those data files in with Pandas and then work to answering each of the questions below.  All of these files are found in our usual s3 bucket: `https://hds5210-data.s3.amazonaws.com`\n",
        "\n",
        "## npidata.csv\n",
        "\n",
        "This file is basic information about every healthcare provider in the US.  It has one row for each NPI (National Provider Identifier).  It contains information such as the provider's name and address.\n",
        "\n",
        "* https://hds5210-data.s3.amazonaws.com/npidata.csv\n",
        "\n",
        "\n",
        "## cmsYYYY.csv\n",
        "\n",
        "These are files about what kinds of procedures and patients providers in the US are serving under CMS programs, Medicare and Medicaid.  Each contains various statistics about providers over the course of a year.  There are three of these, for the years 2014, 2015, and 2016.  These files, however, don't contain information about the provider such as where the provider is located.\n",
        "\n",
        "* https://hds5210-data.s3.amazonaws.com/cms2014.csv\n",
        "* https://hds5210-data.s3.amazonaws.com/cms2015.csv\n",
        "* https://hds5210-data.s3.amazonaws.com/cms2016.csv\n",
        "\n",
        "## Our Goals\n",
        "\n",
        "For this assignment, we're going to want to compute some statistics based on the data in the **cms** files, but aggregate that data based on information in the **npidata** file.  As in last week's assignment, you'll need to store your answers in a variable called `answer` at the end of each step."
      ]
    },
    {
      "cell_type": "code",
      "execution_count": 122,
      "metadata": {
        "nbgrader": {
          "grade": false,
          "grade_id": "import",
          "locked": true,
          "schema_version": 1,
          "solution": false
        },
        "id": "yNIUSfRJ8Iwg"
      },
      "outputs": [],
      "source": [
        "import pandas as pd"
      ]
    },
    {
      "cell_type": "markdown",
      "metadata": {
        "nbgrader": {
          "grade": false,
          "grade_id": "01-intro",
          "locked": true,
          "schema_version": 1,
          "solution": false
        },
        "id": "kOJ-1v7t8Iwg"
      },
      "source": [
        "## Part 1\n",
        "\n",
        "In this first step, we'll need to merge together all of the **cms** files into a single dataframe.  Be careful that these files might not be identical, so you'll have to look a little bit to figure out how to merge them.\n",
        "\n",
        "As you are merging them, make sure that you retain information about which file (i.e. which year) the data came from.  Call that new columns `year`.\n",
        "\n",
        "In your `answer` variable, provide a complete data frame that contains all of the rows and columns from the **cms** files, plus an additional column to store the year/file that particular row came from.\n",
        "\n",
        "The assertion tests will give you a good idea as to if you're merging the files correctly."
      ]
    },
    {
      "cell_type": "code",
      "execution_count": 123,
      "metadata": {
        "nbgrader": {
          "grade": false,
          "grade_id": "01-solution",
          "locked": false,
          "schema_version": 1,
          "solution": true
        },
        "id": "bzceGUod8Iwg"
      },
      "outputs": [],
      "source": [
        "import pandas as pd\n",
        "\n",
        "def load_and_combine_cms_data():\n",
        "    \"\"\"\n",
        "    Load CMS datasets for the years 2014, 2015, and 2016,\n",
        "    standardize column names, align columns for consistency,\n",
        "    and concatenate them into a single DataFrame with a 'year' column.\n",
        "\n",
        "    Returns:\n",
        "        pd.DataFrame: Combined CMS data with an added 'year' column.\n",
        "\n",
        "    >>> combined_cms = load_and_combine_cms_data()\n",
        "    >>> combined_cms['year'].nunique()  # Check the number of unique years\n",
        "    3\n",
        "    >>> combined_cms.shape[0] > 0  # Ensure there is data in the combined DataFrame\n",
        "    True\n",
        "    >>> combined_cms['year'].isin([2014, 2015, 2016]).all()  # Ensure years are correct\n",
        "    True\n",
        "    \"\"\"\n",
        "    # First step is to load the CMS datasets\n",
        "    cms_2014 = pd.read_csv(\"/content/cms2014.csv\")\n",
        "    cms_2015 = pd.read_csv(\"/content/cms2015.csv\")\n",
        "    cms_2016 = pd.read_csv(\"/content/cms2016.csv\")\n",
        "\n",
        "    # Next, we have to standardize column names: lowercase and strip whitespace\n",
        "    cms_2014.columns = cms_2014.columns.str.lower().str.strip()\n",
        "    cms_2015.columns = cms_2015.columns.str.lower().str.strip()\n",
        "    cms_2016.columns = cms_2016.columns.str.lower().str.strip()\n",
        "\n",
        "    # Then, we have to align columns to ensure consistency\n",
        "    all_columns = list(set(cms_2014.columns) | set(cms_2015.columns) | set(cms_2016.columns))\n",
        "    cms_2014 = cms_2014.reindex(columns=all_columns)\n",
        "    cms_2015 = cms_2015.reindex(columns=all_columns)\n",
        "    cms_2016 = cms_2016.reindex(columns=all_columns)\n",
        "\n",
        "    # Now add year column to each dataset to concatenate them\n",
        "    cms_2014[\"year\"] = 2014\n",
        "    cms_2015[\"year\"] = 2015\n",
        "    cms_2016[\"year\"] = 2016\n",
        "\n",
        "    combined_cms = pd.concat([cms_2014, cms_2015, cms_2016], axis=0, ignore_index=True)\n",
        "    return combined_cms\n",
        "\n",
        "answer = load_and_combine_cms_data()"
      ]
    },
    {
      "cell_type": "code",
      "execution_count": 124,
      "metadata": {
        "nbgrader": {
          "grade": true,
          "grade_id": "01-tests",
          "locked": true,
          "points": 5,
          "schema_version": 1,
          "solution": false
        },
        "id": "MOSXxSk38Iwg"
      },
      "outputs": [],
      "source": [
        "assert(answer.shape == (193862, 60))\n",
        "assert(list(answer['year'].unique()) == [2014,2015,2016])\n",
        "assert(set(answer.columns.str.lower()) == set(['year', 'nbr', 'npi', 'provider_type',\n",
        "       'medicare_participation_indicator', 'number_of_hcpcs', 'total_services',\n",
        "       'total_unique_benes', 'total_submitted_chrg_amt',\n",
        "       'total_medicare_allowed_amt', 'total_medicare_payment_amt',\n",
        "       'total_medicare_stnd_amt', 'drug_suppress_indicator',\n",
        "       'number_of_drug_hcpcs', 'total_drug_services',\n",
        "       'total_drug_unique_benes', 'total_drug_submitted_chrg_amt',\n",
        "       'total_drug_medicare_allowed_amt', 'total_drug_medicare_payment_amt',\n",
        "       'total_drug_medicare_stnd_amt', 'med_suppress_indicator',\n",
        "       'number_of_med_hcpcs', 'total_med_services', 'total_med_unique_benes',\n",
        "       'total_med_submitted_chrg_amt', 'total_med_medicare_allowed_amt',\n",
        "       'total_med_medicare_payment_amt', 'total_med_medicare_stnd_amt',\n",
        "       'beneficiary_average_age', 'beneficiary_age_less_65_count',\n",
        "       'beneficiary_age_65_74_count', 'beneficiary_age_75_84_count',\n",
        "       'beneficiary_age_greater_84_count', 'beneficiary_female_count',\n",
        "       'beneficiary_male_count', 'beneficiary_race_white_count',\n",
        "       'beneficiary_race_black_count', 'beneficiary_race_api_count',\n",
        "       'beneficiary_race_hispanic_count', 'beneficiary_race_natind_count',\n",
        "       'beneficiary_race_other_count', 'beneficiary_nondual_count',\n",
        "       'beneficiary_dual_count', 'beneficiary_cc_afib_percent',\n",
        "       'beneficiary_cc_alzrdsd_percent', 'beneficiary_cc_asthma_percent',\n",
        "       'beneficiary_cc_cancer_percent', 'beneficiary_cc_chf_percent',\n",
        "       'beneficiary_cc_ckd_percent', 'beneficiary_cc_copd_percent',\n",
        "       'beneficiary_cc_depr_percent', 'beneficiary_cc_diab_percent',\n",
        "       'beneficiary_cc_hyperl_percent', 'beneficiary_cc_hypert_percent',\n",
        "       'beneficiary_cc_ihd_percent', 'beneficiary_cc_ost_percent',\n",
        "       'beneficiary_cc_raoa_percent', 'beneficiary_cc_schiot_percent',\n",
        "       'beneficiary_cc_strk_percent', 'beneficiary_average_risk_score']))"
      ]
    },
    {
      "cell_type": "code",
      "execution_count": 124,
      "metadata": {
        "id": "JEpqSH1P8Iwg"
      },
      "outputs": [],
      "source": []
    },
    {
      "cell_type": "markdown",
      "metadata": {
        "nbgrader": {
          "grade": false,
          "grade_id": "02-intro",
          "locked": true,
          "schema_version": 1,
          "solution": false
        },
        "id": "xsgi3haQ8Iwg"
      },
      "source": [
        "## Part 2\n",
        "\n",
        "In this next part, we're going to join the **cms** data with the provider information in the **/data/npidata.csv** file.  In this join, we don't want to lose any records from the **cms** files, even if no matching provider exists in the **npidata** file.  However, we don't care about any providers from the **npidata** file that don't have records in the **cms** files.  Those providers can be ignored.\n",
        "\n",
        "Join the data files together to create one unified data frame called `answer`.  This dataframe should have all the columns from both **cms** and **npidata** files, joined together using the `npi` column.  \n",
        "\n",
        "Note that `npi` is unique in the **npidata** file."
      ]
    },
    {
      "cell_type": "code",
      "execution_count": 125,
      "metadata": {
        "nbgrader": {
          "grade": false,
          "grade_id": "02-solution",
          "locked": false,
          "schema_version": 1,
          "solution": true
        },
        "id": "ZP5FhKsg8Iwh",
        "outputId": "15c9463c-230d-42b6-9301-8ba63b985ce2",
        "colab": {
          "base_uri": "https://localhost:8080/"
        }
      },
      "outputs": [
        {
          "output_type": "stream",
          "name": "stderr",
          "text": [
            "<ipython-input-125-9526073c0840>:43: DtypeWarning: Columns (18,33) have mixed types. Specify dtype option on import or set low_memory=False.\n",
            "  npi_data = pd.read_csv('/content/npidata.csv')\n"
          ]
        }
      ],
      "source": [
        "import numpy\n",
        "import pandas as pd\n",
        "\n",
        "def load_and_merge_cms_npi_data():\n",
        "    \"\"\"\n",
        "    Load and preprocess CMS data for the years 2014, 2015, and 2016,\n",
        "    merge it with NPI data, and return the merged DataFrame.\n",
        "\n",
        "    The function ensures:\n",
        "    - CMS data column names are standardized to lowercase.\n",
        "    - CMS datasets are combined with an added 'year' column.\n",
        "    - NPI data is merged with the CMS data using the 'npi' column.\n",
        "\n",
        "    Returns:\n",
        "        pd.DataFrame: Merged CMS and NPI data.\n",
        "\n",
        "    >>> merged_data = load_and_merge_cms_npi_data()\n",
        "    >>> merged_data['year'].nunique()  # Check that there are 3 years in the data\n",
        "    3\n",
        "    >>> 'npi' in merged_data.columns  # Ensure NPI column exists in the merged data\n",
        "    True\n",
        "    >>> merged_data.shape[0] > 0  # Ensure the merged data has rows\n",
        "    True\n",
        "    \"\"\"\n",
        "    # First we have to load and preprocess CMS data\n",
        "    cms_2014 = pd.read_csv('cms2014.csv')\n",
        "    cms_2014.columns = cms_2014.columns.str.lower()\n",
        "    cms_2015 = pd.read_csv('cms2015.csv')\n",
        "    cms_2015.columns = cms_2015.columns.str.lower()\n",
        "    cms_2016 = pd.read_csv('cms2016.csv')\n",
        "    cms_2016.columns = cms_2016.columns.str.lower()\n",
        "\n",
        "    # Now combine CMS data into a single DataFrame\n",
        "    combined_cms = pd.concat(\n",
        "        [cms_2014, cms_2015, cms_2016],\n",
        "        axis=0,\n",
        "        sort=False,\n",
        "        keys=[2014, 2015, 2016],\n",
        "        names=['year']\n",
        "    ).reset_index(level='year')\n",
        "\n",
        "    # Then we have ton load NPI data\n",
        "    npi_data = pd.read_csv('/content/npidata.csv')\n",
        "\n",
        "    # Convert 'npi' columns to string for consistency\n",
        "    combined_cms['npi'] = combined_cms['npi'].astype(str)\n",
        "    npi_data['NPI'] = npi_data['NPI'].astype(str)\n",
        "\n",
        "    # Finally, merge CMS and NPI data\n",
        "    merged_data = pd.merge(combined_cms, npi_data, how='left', left_on='npi', right_on='NPI')\n",
        "\n",
        "    return merged_data\n",
        "\n",
        "answer = load_and_merge_cms_npi_data()"
      ]
    },
    {
      "cell_type": "code",
      "execution_count": 126,
      "metadata": {
        "nbgrader": {
          "grade": true,
          "grade_id": "02-tests",
          "locked": true,
          "points": 5,
          "schema_version": 1,
          "solution": false
        },
        "id": "JFXmeYis8Iwh"
      },
      "outputs": [],
      "source": [
        "import numpy\n",
        "assert(answer.shape == (193862, 103))\n",
        "assert(list(answer['Provider Business Mailing Address State Name'].unique()) == ['IL','MO',numpy.nan,'WY'])\n",
        "assert(list(answer.groupby('Provider Business Mailing Address State Name').NPI.count()) == [111520, 53366, 4805])"
      ]
    },
    {
      "cell_type": "markdown",
      "metadata": {
        "nbgrader": {
          "grade": false,
          "grade_id": "03-intro",
          "locked": true,
          "schema_version": 1,
          "solution": false
        },
        "id": "eC82qTNQ8Iwh"
      },
      "source": [
        "## Part 3\n",
        "\n",
        "If you did everything right above, you'll notice that grouping by a column with NaN in it will cause some rows to disappear from the aggregation test.  So, let's create a new column called `'State'` that has the same value as whatever is in the `'Provider Business Mailing Address State Name'` column or a value of `'XX'` if there is no state information.\n",
        "\n",
        "Set `answer` to be your final data frame with the new `'State'` column added."
      ]
    },
    {
      "cell_type": "code",
      "execution_count": 127,
      "metadata": {
        "nbgrader": {
          "grade": false,
          "grade_id": "03-solution",
          "locked": false,
          "schema_version": 1,
          "solution": true
        },
        "id": "SskEXC8d8Iwh"
      },
      "outputs": [],
      "source": [
        "def add_state_column(answer):\n",
        "    \"\"\"\n",
        "    Add a 'State' column to the given DataFrame.\n",
        "    The new column will contain the values from the 'Provider Business Mailing Address State Name' column,\n",
        "    replacing any NaN values with 'XX'.\n",
        "\n",
        "    Parameters:\n",
        "        answer (pd.DataFrame): The DataFrame to which the 'State' column will be added.\n",
        "\n",
        "    Returns:\n",
        "        pd.DataFrame: The updated DataFrame with the new 'State' column.\n",
        "\n",
        "    >>> import pandas as pd\n",
        "    >>> data = {'Provider Business Mailing Address State Name': ['IL', None, 'MO']}\n",
        "    >>> df = pd.DataFrame(data)\n",
        "    >>> updated_df = add_state_column(df)\n",
        "    >>> updated_df['State'].tolist()  # Check the new 'State' column values\n",
        "    ['IL', 'XX', 'MO']\n",
        "    >>> updated_df.shape[1]  # Ensure the number of columns increased by 1\n",
        "    2\n",
        "    \"\"\"\n",
        "    # In this we have to create the 'State' column based on the 'Provider Business Mailing Address State Name' column\n",
        "    answer['State'] = answer['Provider Business Mailing Address State Name'].fillna('XX')\n",
        "    return answer\n",
        "\n",
        "answer = add_state_column(answer)"
      ]
    },
    {
      "cell_type": "code",
      "execution_count": 128,
      "metadata": {
        "nbgrader": {
          "grade": true,
          "grade_id": "03-tests",
          "locked": true,
          "points": 5,
          "schema_version": 1,
          "solution": false
        },
        "id": "WlppN01q8Iwh"
      },
      "outputs": [],
      "source": [
        "assert(list(answer.groupby('State').npi.count()) == [111520, 53366, 4805, 24171])\n",
        "assert(answer.shape == (193862, 104))"
      ]
    },
    {
      "cell_type": "markdown",
      "metadata": {
        "nbgrader": {
          "grade": false,
          "grade_id": "04-intro",
          "locked": true,
          "schema_version": 1,
          "solution": false
        },
        "id": "lxXmIkVo8Iwh"
      },
      "source": [
        "## Part 4\n",
        "\n",
        "Next, let's summarize the data by year and by State.  Create a pivot table that contains one row for each state and one column for each year.  Within the pivot table, put a sum of total services as the values.\n",
        "\n",
        "Assign `answer` to be that resulting pivot table.  In the tests, I'm going to plot a bar chart of your pivot table."
      ]
    },
    {
      "cell_type": "code",
      "execution_count": 129,
      "metadata": {
        "nbgrader": {
          "grade": false,
          "grade_id": "04-solution",
          "locked": false,
          "schema_version": 1,
          "solution": true
        },
        "id": "0Aq2MUtc8Iwh",
        "outputId": "9d1f9086-3d6d-446b-f23b-6be109d05d75",
        "colab": {
          "base_uri": "https://localhost:8080/",
          "height": 734
        }
      },
      "outputs": [
        {
          "output_type": "stream",
          "name": "stdout",
          "text": [
            "Pivot Table:\n",
            "year          2014         2015         2016\n",
            "state                                       \n",
            "IL     101393758.4  103048716.3  105432032.4\n",
            "MO      48577227.1   50808468.0   50854632.1\n",
            "WY       3487240.6    3800978.9    3604487.9\n",
            "XX      14938636.4   16533705.2   16705781.4\n"
          ]
        },
        {
          "output_type": "display_data",
          "data": {
            "text/plain": [
              "<Figure size 1200x600 with 1 Axes>"
            ],
            "image/png": "[encoded data removed]"
          },
          "metadata": {}
        }
      ],
      "source": [
        "import matplotlib.pyplot as plt\n",
        "import numpy as np\n",
        "\n",
        "answer.columns = answer.columns.str.lower()\n",
        "\n",
        "# First we have to create the pivot table\n",
        "pivot_answer = answer.pivot_table(\n",
        "    index='state',\n",
        "    columns='year',\n",
        "    values='total_services',\n",
        "    aggfunc='sum',\n",
        "    fill_value=0\n",
        ")\n",
        "\n",
        "answer = pivot_answer\n",
        "\n",
        "print(\"Pivot Table:\")\n",
        "print(answer)\n",
        "\n",
        "# Plot the pivot table as a bar chart\n",
        "%matplotlib inline\n",
        "answer.plot(kind='bar', figsize=(12, 6))\n",
        "plt.title(\"Total Services by Year and State\")\n",
        "plt.xlabel(\"State\")\n",
        "plt.ylabel(\"Total Services\")\n",
        "plt.legend(title=\"Year\")\n",
        "plt.tight_layout()\n",
        "plt.show()\n"
      ]
    },
    {
      "cell_type": "code",
      "source": [
        "assert(answer.shape == (4,3))\n",
        "assert answer.sum().sum() == 519185664.7\n",
        "assert(answer[2016].sum() == 176596933.8)\n",
        "assert(answer.loc['WY'].sum() == 10892707.4)"
      ],
      "metadata": {
        "id": "LLn1suQw_m3T"
      },
      "execution_count": 130,
      "outputs": []
    },
    {
      "cell_type": "code",
      "execution_count": 131,
      "metadata": {
        "id": "IzZcX2-D8Iwh",
        "outputId": "b7a7e365-cb09-4edf-a4f6-d96016701dac",
        "colab": {
          "base_uri": "https://localhost:8080/",
          "height": 491
        }
      },
      "outputs": [
        {
          "output_type": "execute_result",
          "data": {
            "text/plain": [
              "<Axes: xlabel='state'>"
            ]
          },
          "metadata": {},
          "execution_count": 131
        },
        {
          "output_type": "display_data",
          "data": {
            "text/plain": [
              "<Figure size 640x480 with 1 Axes>"
            ],
            "image/png": "[encoded data removed]"
          },
          "metadata": {}
        }
      ],
      "source": [
        "%matplotlib inline\n",
        "answer.plot.bar()"
      ]
    },
    {
      "cell_type": "code",
      "execution_count": 131,
      "metadata": {
        "id": "3NcmvcEi8Iwh"
      },
      "outputs": [],
      "source": []
    }
  ],
  "metadata": {
    "celltoolbar": "Create Assignment",
    "kernelspec": {
      "display_name": "Python 3",
      "language": "python",
      "name": "python3"
    },
    "language_info": {
      "codemirror_mode": {
        "name": "ipython",
        "version": 3
      },
      "file_extension": ".py",
      "mimetype": "text/x-python",
      "name": "python",
      "nbconvert_exporter": "python",
      "pygments_lexer": "ipython3",
      "version": "3.6.7"
    },
    "colab": {
      "provenance": []
    }
  },
  "nbformat": 4,
  "nbformat_minor": 0
}