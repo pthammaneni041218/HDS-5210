{
  "cells": [
    {
      "cell_type": "markdown",
      "metadata": {
        "nbgrader": {
          "grade": false,
          "grade_id": "intro",
          "locked": true,
          "schema_version": 1,
          "solution": false
        },
        "id": "Tf7Y5_9WqYgM"
      },
      "source": [
        "# Working with multiple data sets\n",
        "\n",
        "There are two data files that we'll be working with for this week's assignment.  They are described below.  Load those data files in with Pandas and then work to answering each of the questions below.  All of these files are found in our usual s3 bucket: `https://hds5210-data.s3.amazonaws.com`\n",
        "\n",
        "## npidata.csv\n",
        "\n",
        "This file is basic information about every healthcare provider in the US.  It has one row for each NPI (National Provider Identifier).  It contains information such as the provider's name and address.\n",
        "\n",
        "* https://hds5210-data.s3.amazonaws.com/npidata.csv\n",
        "\n",
        "\n",
        "## cmsYYYY.csv\n",
        "\n",
        "These are files about what kinds of procedures and patients providers in the US are serving under CMS programs, Medicare and Medicaid.  Each contains various statistics about providers over the course of a year.  There are three of these, for the years 2014, 2015, and 2016.  These files, however, don't contain information about the provider such as where the provider is located.\n",
        "\n",
        "* https://hds5210-data.s3.amazonaws.com/cms2014.csv\n",
        "* https://hds5210-data.s3.amazonaws.com/cms2015.csv\n",
        "* https://hds5210-data.s3.amazonaws.com/cms2016.csv\n",
        "\n",
        "## Our Goals\n",
        "\n",
        "For this assignment, we're going to want to compute some statistics based on the data in the **cms** files, but aggregate that data based on information in the **npidata** file.  As in last week's assignment, you'll need to store your answers in a variable called `answer` at the end of each step."
      ]
    },
    {
      "cell_type": "code",
      "execution_count": null,
      "metadata": {
        "nbgrader": {
          "grade": false,
          "grade_id": "import",
          "locked": true,
          "schema_version": 1,
          "solution": false
        },
        "id": "DNIjYUiJqYgO"
      },
      "outputs": [],
      "source": [
        "import pandas as pd"
      ]
    },
    {
      "cell_type": "markdown",
      "metadata": {
        "nbgrader": {
          "grade": false,
          "grade_id": "01-intro",
          "locked": true,
          "schema_version": 1,
          "solution": false
        },
        "id": "u7vJVxLdqYgO"
      },
      "source": [
        "## Part 1\n",
        "\n",
        "In this first step, we'll need to merge together all of the **cms** files into a single dataframe.  Be careful that these files might not be identical, so you'll have to look a little bit to figure out how to merge them.\n",
        "\n",
        "As you are merging them, make sure that you retain information about which file (i.e. which year) the data came from.  Call that new columns `year`.\n",
        "\n",
        "In your `answer` variable, provide a complete data frame that contains all of the rows and columns from the **cms** files, plus an additional column to store the year/file that particular row came from.\n",
        "\n",
        "The assertion tests will give you a good idea as to if you're merging the files correctly."
      ]
    },
    {
      "cell_type": "code",
      "execution_count": 72,
      "metadata": {
        "nbgrader": {
          "grade": false,
          "grade_id": "01-solution",
          "locked": false,
          "schema_version": 1,
          "solution": true
        },
        "id": "svITay8IqYgP",
        "outputId": "d30aa8c2-dd00-4ceb-fcbb-98ce2b40a20f",
        "colab": {
          "base_uri": "https://localhost:8080/"
        }
      },
      "outputs": [
        {
          "output_type": "stream",
          "name": "stdout",
          "text": [
            "Shape of the combined dataset: (193862, 60)\n",
            "Columns in the dataset: ['nbr', 'npi', 'provider_type', 'medicare_participation_indicator', 'number_of_hcpcs', 'total_services', 'total_unique_benes', 'total_submitted_chrg_amt', 'total_medicare_allowed_amt', 'total_medicare_payment_amt', 'total_medicare_stnd_amt', 'drug_suppress_indicator', 'number_of_drug_hcpcs', 'total_drug_services', 'total_drug_unique_benes', 'total_drug_submitted_chrg_amt', 'total_drug_medicare_allowed_amt', 'total_drug_medicare_payment_amt', 'total_drug_medicare_stnd_amt', 'med_suppress_indicator', 'number_of_med_hcpcs', 'total_med_services', 'total_med_unique_benes', 'total_med_submitted_chrg_amt', 'total_med_medicare_allowed_amt', 'total_med_medicare_payment_amt', 'total_med_medicare_stnd_amt', 'beneficiary_average_age', 'beneficiary_age_less_65_count', 'beneficiary_age_65_74_count', 'beneficiary_age_75_84_count', 'beneficiary_age_greater_84_count', 'beneficiary_female_count', 'beneficiary_male_count', 'beneficiary_race_white_count', 'beneficiary_race_black_count', 'beneficiary_race_api_count', 'beneficiary_race_hispanic_count', 'beneficiary_race_natind_count', 'beneficiary_race_other_count', 'beneficiary_nondual_count', 'beneficiary_dual_count', 'beneficiary_cc_afib_percent', 'beneficiary_cc_alzrdsd_percent', 'beneficiary_cc_asthma_percent', 'beneficiary_cc_cancer_percent', 'beneficiary_cc_chf_percent', 'beneficiary_cc_ckd_percent', 'beneficiary_cc_copd_percent', 'beneficiary_cc_depr_percent', 'beneficiary_cc_diab_percent', 'beneficiary_cc_hyperl_percent', 'beneficiary_cc_hypert_percent', 'beneficiary_cc_ihd_percent', 'beneficiary_cc_ost_percent', 'beneficiary_cc_raoa_percent', 'beneficiary_cc_schiot_percent', 'beneficiary_cc_strk_percent', 'beneficiary_average_risk_score', 'year']\n",
            "Preview of the dataset:\n",
            "   nbr         npi                    provider_type  \\\n",
            "0    1  1003000134                        Pathology   \n",
            "1   19  1003001249               Physical Therapist   \n",
            "2   21  1003001322  Mass Immunization Roster Biller   \n",
            "3   37  1003002486                     Chiropractic   \n",
            "4   73  1003005430            Clinical Psychologist   \n",
            "\n",
            "  medicare_participation_indicator  number_of_hcpcs  total_services  \\\n",
            "0                                Y               13          8643.0   \n",
            "1                                Y                4          1221.0   \n",
            "2                                Y                7           788.0   \n",
            "3                                Y                2           142.0   \n",
            "4                                Y                3           130.0   \n",
            "\n",
            "   total_unique_benes  total_submitted_chrg_amt  total_medicare_allowed_amt  \\\n",
            "0                4276                1357139.00                   321641.88   \n",
            "1                  69                  88686.28                    34060.09   \n",
            "2                 370                  21640.24                    21634.91   \n",
            "3                  22                   7458.44                     5037.51   \n",
            "4                  11                  20640.00                    14968.22   \n",
            "\n",
            "   total_medicare_payment_amt  ...  beneficiary_cc_diab_percent  \\\n",
            "0                   245364.34  ...                         20.0   \n",
            "1                    26055.17  ...                         39.0   \n",
            "2                    21199.22  ...                         18.0   \n",
            "3                     3727.01  ...                          NaN   \n",
            "4                    11334.69  ...                          NaN   \n",
            "\n",
            "  beneficiary_cc_hyperl_percent  beneficiary_cc_hypert_percent  \\\n",
            "0                          53.0                           57.0   \n",
            "1                          64.0                           75.0   \n",
            "2                          42.0                           49.0   \n",
            "3                          59.0                           59.0   \n",
            "4                           NaN                            NaN   \n",
            "\n",
            "   beneficiary_cc_ihd_percent  beneficiary_cc_ost_percent  \\\n",
            "0                        28.0                         9.0   \n",
            "1                        32.0                         NaN   \n",
            "2                        24.0                         5.0   \n",
            "3                         NaN                         0.0   \n",
            "4                         NaN                         0.0   \n",
            "\n",
            "   beneficiary_cc_raoa_percent  beneficiary_cc_schiot_percent  \\\n",
            "0                         37.0                            1.0   \n",
            "1                         68.0                            NaN   \n",
            "2                         25.0                            NaN   \n",
            "3                         64.0                            0.0   \n",
            "4                          NaN                            0.0   \n",
            "\n",
            "   beneficiary_cc_strk_percent  beneficiary_average_risk_score  year  \n",
            "0                          3.0                          1.0007  2014  \n",
            "1                          NaN                          1.1912  2014  \n",
            "2                          3.0                          0.8019  2014  \n",
            "3                          0.0                          0.7920  2014  \n",
            "4                          NaN                          0.9718  2014  \n",
            "\n",
            "[5 rows x 60 columns]\n"
          ]
        }
      ],
      "source": [
        "import pandas as pd\n",
        "\n",
        "def load_and_combine_cms_data(file_urls):\n",
        "    \"\"\"\n",
        "    Load and combine CMS datasets from the given URLs into a single DataFrame.\n",
        "\n",
        "    Args:\n",
        "        file_urls (dict): A dictionary with keys as years and values as URLs of CMS datasets.\n",
        "\n",
        "    Returns:\n",
        "        pd.DataFrame: A combined DataFrame containing data from all provided URLs, with an additional 'year' column.\n",
        "    \"\"\"\n",
        "    cms_dataframes = []  # List to store individual DataFrames\n",
        "\n",
        "    for year, url in file_urls.items():\n",
        "        # Read the CSV file from the URL\n",
        "        df = pd.read_csv(url)\n",
        "\n",
        "        # Standardize column names to lowercase\n",
        "        df.columns = df.columns.str.lower()\n",
        "\n",
        "        # Add a new column for the year\n",
        "        df['year'] = year\n",
        "\n",
        "        # Append the DataFrame to the list\n",
        "        cms_dataframes.append(df)\n",
        "\n",
        "    # Concatenate all DataFrames into one\n",
        "    combined_df = pd.concat(cms_dataframes, ignore_index=True)\n",
        "    return combined_df\n",
        "\n",
        "if __name__ == \"__main__\":\n",
        "    cms_files = {\n",
        "        2014: \"https://hds5210-data.s3.amazonaws.com/cms2014.csv\",\n",
        "        2015: \"https://hds5210-data.s3.amazonaws.com/cms2015.csv\",\n",
        "        2016: \"https://hds5210-data.s3.amazonaws.com/cms2016.csv\",\n",
        "    }\n",
        "\n",
        "    # Load and combine the datasets\n",
        "    combined_data = load_and_combine_cms_data(cms_files)\n",
        "\n",
        "    # Display dataset information\n",
        "    print(f\"Shape of the combined dataset: {combined_data.shape}\")\n",
        "    print(f\"Columns in the dataset: {combined_data.columns.tolist()}\")\n",
        "    print(\"Preview of the dataset:\")\n",
        "    print(combined_data.head())\n",
        "\n",
        "\n"
      ]
    },
    {
      "cell_type": "code",
      "execution_count": 75,
      "metadata": {
        "nbgrader": {
          "grade": true,
          "grade_id": "01-tests",
          "locked": true,
          "points": 5,
          "schema_version": 1,
          "solution": false
        },
        "id": "M5dL6LW1qYgP",
        "outputId": "d6a7ae39-95be-4dea-90a6-785615bbc871",
        "colab": {
          "base_uri": "https://localhost:8080/"
        }
      },
      "outputs": [
        {
          "output_type": "stream",
          "name": "stdout",
          "text": [
            "Shape of the combined dataset: (193862, 60)\n",
            "Columns in the dataset: ['nbr', 'npi', 'provider_type', 'medicare_participation_indicator', 'number_of_hcpcs', 'total_services', 'total_unique_benes', 'total_submitted_chrg_amt', 'total_medicare_allowed_amt', 'total_medicare_payment_amt', 'total_medicare_stnd_amt', 'drug_suppress_indicator', 'number_of_drug_hcpcs', 'total_drug_services', 'total_drug_unique_benes', 'total_drug_submitted_chrg_amt', 'total_drug_medicare_allowed_amt', 'total_drug_medicare_payment_amt', 'total_drug_medicare_stnd_amt', 'med_suppress_indicator', 'number_of_med_hcpcs', 'total_med_services', 'total_med_unique_benes', 'total_med_submitted_chrg_amt', 'total_med_medicare_allowed_amt', 'total_med_medicare_payment_amt', 'total_med_medicare_stnd_amt', 'beneficiary_average_age', 'beneficiary_age_less_65_count', 'beneficiary_age_65_74_count', 'beneficiary_age_75_84_count', 'beneficiary_age_greater_84_count', 'beneficiary_female_count', 'beneficiary_male_count', 'beneficiary_race_white_count', 'beneficiary_race_black_count', 'beneficiary_race_api_count', 'beneficiary_race_hispanic_count', 'beneficiary_race_natind_count', 'beneficiary_race_other_count', 'beneficiary_nondual_count', 'beneficiary_dual_count', 'beneficiary_cc_afib_percent', 'beneficiary_cc_alzrdsd_percent', 'beneficiary_cc_asthma_percent', 'beneficiary_cc_cancer_percent', 'beneficiary_cc_chf_percent', 'beneficiary_cc_ckd_percent', 'beneficiary_cc_copd_percent', 'beneficiary_cc_depr_percent', 'beneficiary_cc_diab_percent', 'beneficiary_cc_hyperl_percent', 'beneficiary_cc_hypert_percent', 'beneficiary_cc_ihd_percent', 'beneficiary_cc_ost_percent', 'beneficiary_cc_raoa_percent', 'beneficiary_cc_schiot_percent', 'beneficiary_cc_strk_percent', 'beneficiary_average_risk_score', 'year']\n",
            "Preview of the dataset:\n",
            "   nbr         npi                    provider_type  \\\n",
            "0    1  1003000134                        Pathology   \n",
            "1   19  1003001249               Physical Therapist   \n",
            "2   21  1003001322  Mass Immunization Roster Biller   \n",
            "3   37  1003002486                     Chiropractic   \n",
            "4   73  1003005430            Clinical Psychologist   \n",
            "\n",
            "  medicare_participation_indicator  number_of_hcpcs  total_services  \\\n",
            "0                                Y               13          8643.0   \n",
            "1                                Y                4          1221.0   \n",
            "2                                Y                7           788.0   \n",
            "3                                Y                2           142.0   \n",
            "4                                Y                3           130.0   \n",
            "\n",
            "   total_unique_benes  total_submitted_chrg_amt  total_medicare_allowed_amt  \\\n",
            "0                4276                1357139.00                   321641.88   \n",
            "1                  69                  88686.28                    34060.09   \n",
            "2                 370                  21640.24                    21634.91   \n",
            "3                  22                   7458.44                     5037.51   \n",
            "4                  11                  20640.00                    14968.22   \n",
            "\n",
            "   total_medicare_payment_amt  ...  beneficiary_cc_diab_percent  \\\n",
            "0                   245364.34  ...                         20.0   \n",
            "1                    26055.17  ...                         39.0   \n",
            "2                    21199.22  ...                         18.0   \n",
            "3                     3727.01  ...                          NaN   \n",
            "4                    11334.69  ...                          NaN   \n",
            "\n",
            "  beneficiary_cc_hyperl_percent  beneficiary_cc_hypert_percent  \\\n",
            "0                          53.0                           57.0   \n",
            "1                          64.0                           75.0   \n",
            "2                          42.0                           49.0   \n",
            "3                          59.0                           59.0   \n",
            "4                           NaN                            NaN   \n",
            "\n",
            "   beneficiary_cc_ihd_percent  beneficiary_cc_ost_percent  \\\n",
            "0                        28.0                         9.0   \n",
            "1                        32.0                         NaN   \n",
            "2                        24.0                         5.0   \n",
            "3                         NaN                         0.0   \n",
            "4                         NaN                         0.0   \n",
            "\n",
            "   beneficiary_cc_raoa_percent  beneficiary_cc_schiot_percent  \\\n",
            "0                         37.0                            1.0   \n",
            "1                         68.0                            NaN   \n",
            "2                         25.0                            NaN   \n",
            "3                         64.0                            0.0   \n",
            "4                          NaN                            0.0   \n",
            "\n",
            "   beneficiary_cc_strk_percent  beneficiary_average_risk_score  year  \n",
            "0                          3.0                          1.0007  2014  \n",
            "1                          NaN                          1.1912  2014  \n",
            "2                          3.0                          0.8019  2014  \n",
            "3                          0.0                          0.7920  2014  \n",
            "4                          NaN                          0.9718  2014  \n",
            "\n",
            "[5 rows x 60 columns]\n"
          ]
        }
      ],
      "source": [
        "import pandas as pd\n",
        "\n",
        "def load_and_combine_cms_data(file_urls):\n",
        "    \"\"\"\n",
        "    Load and combine CMS datasets from the given URLs into a single DataFrame.\n",
        "\n",
        "    Args:\n",
        "        file_urls (dict): A dictionary with keys as years and values as URLs of CMS datasets.\n",
        "\n",
        "    Returns:\n",
        "        pd.DataFrame: A combined DataFrame containing data from all provided URLs, with an additional 'year' column.\n",
        "    \"\"\"\n",
        "    cms_dataframes = []  # List to store individual DataFrames\n",
        "\n",
        "    for year, url in file_urls.items():\n",
        "        # Read the CSV file from the URL\n",
        "        df = pd.read_csv(url)\n",
        "\n",
        "        # Standardize column names to lowercase\n",
        "        df.columns = df.columns.str.lower()\n",
        "\n",
        "        # Add a new column for the year\n",
        "        df['year'] = year\n",
        "\n",
        "        # Append the DataFrame to the list\n",
        "        cms_dataframes.append(df)\n",
        "\n",
        "    # Concatenate all DataFrames into one\n",
        "    combined_df = pd.concat(cms_dataframes, ignore_index=True)\n",
        "    return combined_df\n",
        "\n",
        "if __name__ == \"__main__\":\n",
        "    cms_files = {\n",
        "        2014: \"https://hds5210-data.s3.amazonaws.com/cms2014.csv\",\n",
        "        2015: \"https://hds5210-data.s3.amazonaws.com/cms2015.csv\",\n",
        "        2016: \"https://hds5210-data.s3.amazonaws.com/cms2016.csv\",\n",
        "    }\n",
        "\n",
        "    # Load and combine the datasets\n",
        "    combined_data = load_and_combine_cms_data(cms_files)\n",
        "\n",
        "    # Assertions to validate the loaded data\n",
        "    assert combined_data.shape == (193862, 60), \"The combined dataset shape is incorrect.\"\n",
        "    assert list(combined_data['year'].unique()) == [2014, 2015, 2016], \"The years in the dataset are not as expected.\"\n",
        "    expected_columns = {\n",
        "        'year', 'nbr', 'npi', 'provider_type', 'medicare_participation_indicator', 'number_of_hcpcs',\n",
        "        'total_services', 'total_unique_benes', 'total_submitted_chrg_amt', 'total_medicare_allowed_amt',\n",
        "        'total_medicare_payment_amt', 'total_medicare_stnd_amt', 'drug_suppress_indicator',\n",
        "        'number_of_drug_hcpcs', 'total_drug_services', 'total_drug_unique_benes', 'total_drug_submitted_chrg_amt',\n",
        "        'total_drug_medicare_allowed_amt', 'total_drug_medicare_payment_amt', 'total_drug_medicare_stnd_amt',\n",
        "        'med_suppress_indicator', 'number_of_med_hcpcs', 'total_med_services', 'total_med_unique_benes',\n",
        "        'total_med_submitted_chrg_amt', 'total_med_medicare_allowed_amt', 'total_med_medicare_payment_amt',\n",
        "        'total_med_medicare_stnd_amt', 'beneficiary_average_age', 'beneficiary_age_less_65_count',\n",
        "        'beneficiary_age_65_74_count', 'beneficiary_age_75_84_count', 'beneficiary_age_greater_84_count',\n",
        "        'beneficiary_female_count', 'beneficiary_male_count', 'beneficiary_race_white_count',\n",
        "        'beneficiary_race_black_count', 'beneficiary_race_api_count', 'beneficiary_race_hispanic_count',\n",
        "        'beneficiary_race_natind_count', 'beneficiary_race_other_count', 'beneficiary_nondual_count',\n",
        "        'beneficiary_dual_count', 'beneficiary_cc_afib_percent', 'beneficiary_cc_alzrdsd_percent',\n",
        "        'beneficiary_cc_asthma_percent', 'beneficiary_cc_cancer_percent', 'beneficiary_cc_chf_percent',\n",
        "        'beneficiary_cc_ckd_percent', 'beneficiary_cc_copd_percent', 'beneficiary_cc_depr_percent',\n",
        "        'beneficiary_cc_diab_percent', 'beneficiary_cc_hyperl_percent', 'beneficiary_cc_hypert_percent',\n",
        "        'beneficiary_cc_ihd_percent', 'beneficiary_cc_ost_percent', 'beneficiary_cc_raoa_percent',\n",
        "        'beneficiary_cc_schiot_percent', 'beneficiary_cc_strk_percent', 'beneficiary_average_risk_score'\n",
        "    }\n",
        "    assert set(combined_data.columns) == expected_columns, \"The dataset columns do not match the expected set.\"\n",
        "\n",
        "    # Display dataset information\n",
        "    print(f\"Shape of the combined dataset: {combined_data.shape}\")\n",
        "    print(f\"Columns in the dataset: {combined_data.columns.tolist()}\")\n",
        "    print(\"Preview of the dataset:\")\n",
        "    print(combined_data.head())\n"
      ]
    },
    {
      "cell_type": "code",
      "execution_count": null,
      "metadata": {
        "id": "JHSZFWPrqYgP"
      },
      "outputs": [],
      "source": []
    },
    {
      "cell_type": "markdown",
      "metadata": {
        "nbgrader": {
          "grade": false,
          "grade_id": "02-intro",
          "locked": true,
          "schema_version": 1,
          "solution": false
        },
        "id": "L0cgNuJcqYgP"
      },
      "source": [
        "## Part 2\n",
        "\n",
        "In this next part, we're going to join the **cms** data with the provider information in the **/data/npidata.csv** file.  In this join, we don't want to lose any records from the **cms** files, even if no matching provider exists in the **npidata** file.  However, we don't care about any providers from the **npidata** file that don't have records in the **cms** files.  Those providers can be ignored.\n",
        "\n",
        "Join the data files together to create one unified data frame called `answer`.  This dataframe should have all the columns from both **cms** and **npidata** files, joined together using the `npi` column.  \n",
        "\n",
        "Note that `npi` is unique in the **npidata** file."
      ]
    },
    {
      "cell_type": "code",
      "execution_count": 76,
      "metadata": {
        "nbgrader": {
          "grade": false,
          "grade_id": "02-solution",
          "locked": false,
          "schema_version": 1,
          "solution": true
        },
        "id": "fS-iTPW8qYgP",
        "outputId": "5ba8d212-7e23-4048-c1d9-fa00a6e9d040",
        "colab": {
          "base_uri": "https://localhost:8080/"
        }
      },
      "outputs": [
        {
          "output_type": "stream",
          "name": "stderr",
          "text": [
            "<ipython-input-76-133f865eab79>:22: DtypeWarning: Columns (18,33) have mixed types. Specify dtype option on import or set low_memory=False.\n",
            "  npidata = pd.read_csv(npidata_url).rename(columns=str.lower)\n"
          ]
        },
        {
          "output_type": "stream",
          "name": "stdout",
          "text": [
            "Validation Results:\n",
            "Shape of the merged dataset: (193862, 61)\n",
            "Unique values in 'provider business mailing address state name': ['IL' 'MO' nan 'WY']\n",
            "NPI counts by state: [111520, 53366, 4805]\n"
          ]
        }
      ],
      "source": [
        "import pandas as pd\n",
        "import numpy as np\n",
        "\n",
        "def load_and_prepare_data(cms_urls, npidata_url):\n",
        "    \"\"\"\n",
        "    Load and merge CMS and NPI datasets, ensuring consistency and merging relevant data.\n",
        "\n",
        "    Args:\n",
        "        cms_urls (list): List of URLs for CMS data from multiple years.\n",
        "        npidata_url (str): URL for the NPI dataset.\n",
        "\n",
        "    Returns:\n",
        "        pd.DataFrame: A merged DataFrame with CMS data combined and relevant NPI information included.\n",
        "    \"\"\"\n",
        "    # Load CMS data\n",
        "    cms_dataframes = [pd.read_csv(url).rename(columns=str.lower) for url in cms_urls]\n",
        "\n",
        "    # Combine CMS datasets into one\n",
        "    cms_data = pd.concat(cms_dataframes, ignore_index=True)\n",
        "\n",
        "    # Load and prepare NPI data\n",
        "    npidata = pd.read_csv(npidata_url).rename(columns=str.lower)\n",
        "\n",
        "    # Select relevant columns from NPI data\n",
        "    npidata_selected = npidata[[\n",
        "        'npi',\n",
        "        'provider business mailing address state name',\n",
        "        'provider business mailing address city name'\n",
        "    ]]\n",
        "\n",
        "    # Merge CMS and NPI datasets on the 'npi' column\n",
        "    merged_data = cms_data.merge(npidata_selected, how='left', on='npi')\n",
        "\n",
        "    return merged_data\n",
        "\n",
        "def validate_data(merged_data):\n",
        "    \"\"\"\n",
        "    Validate the merged dataset for shape, unique values, and grouped counts.\n",
        "\n",
        "    Args:\n",
        "        merged_data (pd.DataFrame): The merged DataFrame containing CMS and NPI data.\n",
        "\n",
        "    Returns:\n",
        "        dict: Validation results including shape, unique values, and grouped counts.\n",
        "    \"\"\"\n",
        "    # Debug: Check shape\n",
        "    shape = merged_data.shape\n",
        "\n",
        "    # Unique values in 'provider business mailing address state name'\n",
        "    unique_values = merged_data['provider business mailing address state name'].unique()\n",
        "\n",
        "    # Count NPI records grouped by state\n",
        "    grouped_counts = list(merged_data.groupby('provider business mailing address state name').npi.count())\n",
        "\n",
        "    return {\n",
        "        \"shape\": shape,\n",
        "        \"unique_values\": unique_values,\n",
        "        \"grouped_counts\": grouped_counts\n",
        "    }\n",
        "\n",
        "if __name__ == \"__main__\":\n",
        "    cms_urls = [\n",
        "        'https://hds5210-data.s3.amazonaws.com/cms2014.csv',\n",
        "        'https://hds5210-data.s3.amazonaws.com/cms2015.csv',\n",
        "        'https://hds5210-data.s3.amazonaws.com/cms2016.csv'\n",
        "    ]\n",
        "    npidata_url = 'https://hds5210-data.s3.amazonaws.com/npidata.csv'\n",
        "\n",
        "    # Load and merge datasets\n",
        "    merged_dataset = load_and_prepare_data(cms_urls, npidata_url)\n",
        "\n",
        "    # Validate merged data\n",
        "    validation_results = validate_data(merged_dataset)\n",
        "\n",
        "    # Display validation results\n",
        "    print(\"Validation Results:\")\n",
        "    print(f\"Shape of the merged dataset: {validation_results['shape']}\")\n",
        "    print(f\"Unique values in 'provider business mailing address state name': {validation_results['unique_values']}\")\n",
        "    print(f\"NPI counts by state: {validation_results['grouped_counts']}\")\n",
        "\n",
        "\n"
      ]
    },
    {
      "cell_type": "code",
      "execution_count": 79,
      "metadata": {
        "nbgrader": {
          "grade": true,
          "grade_id": "02-tests",
          "locked": true,
          "points": 5,
          "schema_version": 1,
          "solution": false
        },
        "id": "6rVBwkhRqYgP",
        "outputId": "1b1b9c20-1be8-43a8-fc7d-12141d60ee21",
        "colab": {
          "base_uri": "https://localhost:8080/"
        }
      },
      "outputs": [
        {
          "output_type": "stream",
          "name": "stderr",
          "text": [
            "<ipython-input-79-8f72fb35799c>:22: DtypeWarning: Columns (18,33) have mixed types. Specify dtype option on import or set low_memory=False.\n",
            "  npidata = pd.read_csv(npidata_url).rename(columns=str.lower)\n"
          ]
        },
        {
          "output_type": "stream",
          "name": "stdout",
          "text": [
            "Shape of the merged dataset: (193862, 61)\n",
            "Unique values in 'provider business mailing address state name': ['IL', 'MO', nan, 'WY']\n",
            "NPI counts by state: [111520, 53366, 4805]\n"
          ]
        }
      ],
      "source": [
        "import pandas as pd\n",
        "import numpy as np\n",
        "\n",
        "def load_and_prepare_data(cms_urls, npidata_url):\n",
        "    \"\"\"\n",
        "    Load and merge CMS and NPI datasets, ensuring consistency and merging relevant data.\n",
        "\n",
        "    Args:\n",
        "        cms_urls (list): List of URLs for CMS data from multiple years.\n",
        "        npidata_url (str): URL for the NPI dataset.\n",
        "\n",
        "    Returns:\n",
        "        pd.DataFrame: A merged DataFrame with CMS data combined and relevant NPI information included.\n",
        "    \"\"\"\n",
        "    # Load CMS data\n",
        "    cms_dataframes = [pd.read_csv(url).rename(columns=str.lower) for url in cms_urls]\n",
        "\n",
        "    # Combine CMS datasets into one\n",
        "    cms_data = pd.concat(cms_dataframes, ignore_index=True)\n",
        "\n",
        "    # Load and prepare NPI data\n",
        "    npidata = pd.read_csv(npidata_url).rename(columns=str.lower)\n",
        "\n",
        "    # Select relevant columns from NPI data\n",
        "    npidata_selected = npidata[[\n",
        "        'npi',\n",
        "        'provider business mailing address state name',\n",
        "        'provider business mailing address city name'\n",
        "    ]]\n",
        "\n",
        "    # Merge CMS and NPI datasets on the 'npi' column\n",
        "    merged_data = cms_data.merge(npidata_selected, how='left', on='npi')\n",
        "\n",
        "    return merged_data\n",
        "\n",
        "if __name__ == \"__main__\":\n",
        "    cms_urls = [\n",
        "        'https://hds5210-data.s3.amazonaws.com/cms2014.csv',\n",
        "        'https://hds5210-data.s3.amazonaws.com/cms2015.csv',\n",
        "        'https://hds5210-data.s3.amazonaws.com/cms2016.csv'\n",
        "    ]\n",
        "    npidata_url = 'https://hds5210-data.s3.amazonaws.com/npidata.csv'\n",
        "\n",
        "    # Load and merge datasets\n",
        "    answer = load_and_prepare_data(cms_urls, npidata_url)\n",
        "\n",
        "    # Validation\n",
        "    print(\"Shape of the merged dataset:\", answer.shape)\n",
        "    assert answer.shape == (193862, 61), \"Shape does not match the expected dimensions.\"\n",
        "\n",
        "    unique_states = list(answer['provider business mailing address state name'].unique())\n",
        "    print(\"Unique values in 'provider business mailing address state name':\", unique_states)\n",
        "    assert unique_states == ['IL', 'MO', np.nan, 'WY'], \"Unique values in state names do not match.\"\n",
        "\n",
        "    grouped_counts = list(answer.groupby('provider business mailing address state name').npi.count())\n",
        "    print(\"NPI counts by state:\", grouped_counts)\n",
        "    assert grouped_counts == [111520, 53366, 4805], \"NPI counts by state do not match the expected values.\"\n"
      ]
    },
    {
      "cell_type": "markdown",
      "metadata": {
        "nbgrader": {
          "grade": false,
          "grade_id": "03-intro",
          "locked": true,
          "schema_version": 1,
          "solution": false
        },
        "id": "6zD6M8nqqYgP"
      },
      "source": [
        "## Part 3\n",
        "\n",
        "If you did everything right above, you'll notice that grouping by a column with NaN in it will cause some rows to disappear from the aggregation test.  So, let's create a new column called `'State'` that has the same value as whatever is in the `'Provider Business Mailing Address State Name'` column or a value of `'XX'` if there is no state information.\n",
        "\n",
        "Set `answer` to be your final data frame with the new `'State'` column added."
      ]
    },
    {
      "cell_type": "code",
      "execution_count": 82,
      "metadata": {
        "nbgrader": {
          "grade": false,
          "grade_id": "03-solution",
          "locked": false,
          "schema_version": 1,
          "solution": true
        },
        "id": "IgcGnWQhqYgQ",
        "outputId": "cd1ed24e-436e-4db8-c2f3-9f85bf56d2e2",
        "colab": {
          "base_uri": "https://localhost:8080/"
        }
      },
      "outputs": [
        {
          "output_type": "stream",
          "name": "stderr",
          "text": [
            "<ipython-input-82-78c7230e5b58>:16: DtypeWarning: Columns (18,33) have mixed types. Specify dtype option on import or set low_memory=False.\n",
            "  npidata = pd.read_csv(npidata_url).rename(columns=str.lower)\n"
          ]
        },
        {
          "output_type": "stream",
          "name": "stdout",
          "text": [
            "CMS Columns: Index(['nbr', 'npi', 'provider_type', 'medicare_participation_indicator',\n",
            "       'number_of_hcpcs', 'total_services', 'total_unique_benes',\n",
            "       'total_submitted_chrg_amt', 'total_medicare_allowed_amt',\n",
            "       'total_medicare_payment_amt', 'total_medicare_stnd_amt',\n",
            "       'drug_suppress_indicator', 'number_of_drug_hcpcs',\n",
            "       'total_drug_services', 'total_drug_unique_benes',\n",
            "       'total_drug_submitted_chrg_amt', 'total_drug_medicare_allowed_amt',\n",
            "       'total_drug_medicare_payment_amt', 'total_drug_medicare_stnd_amt',\n",
            "       'med_suppress_indicator', 'number_of_med_hcpcs', 'total_med_services',\n",
            "       'total_med_unique_benes', 'total_med_submitted_chrg_amt',\n",
            "       'total_med_medicare_allowed_amt', 'total_med_medicare_payment_amt',\n",
            "       'total_med_medicare_stnd_amt', 'beneficiary_average_age',\n",
            "       'beneficiary_age_less_65_count', 'beneficiary_age_65_74_count',\n",
            "       'beneficiary_age_75_84_count', 'beneficiary_age_greater_84_count',\n",
            "       'beneficiary_female_count', 'beneficiary_male_count',\n",
            "       'beneficiary_race_white_count', 'beneficiary_race_black_count',\n",
            "       'beneficiary_race_api_count', 'beneficiary_race_hispanic_count',\n",
            "       'beneficiary_race_natind_count', 'beneficiary_race_other_count',\n",
            "       'beneficiary_nondual_count', 'beneficiary_dual_count',\n",
            "       'beneficiary_cc_afib_percent', 'beneficiary_cc_alzrdsd_percent',\n",
            "       'beneficiary_cc_asthma_percent', 'beneficiary_cc_cancer_percent',\n",
            "       'beneficiary_cc_chf_percent', 'beneficiary_cc_ckd_percent',\n",
            "       'beneficiary_cc_copd_percent', 'beneficiary_cc_depr_percent',\n",
            "       'beneficiary_cc_diab_percent', 'beneficiary_cc_hyperl_percent',\n",
            "       'beneficiary_cc_hypert_percent', 'beneficiary_cc_ihd_percent',\n",
            "       'beneficiary_cc_ost_percent', 'beneficiary_cc_raoa_percent',\n",
            "       'beneficiary_cc_schiot_percent', 'beneficiary_cc_strk_percent',\n",
            "       'beneficiary_average_risk_score'],\n",
            "      dtype='object')\n",
            "NPI Data Columns: Index(['row', 'npi', 'entity type code', 'replacement npi',\n",
            "       'employer identification number (ein)',\n",
            "       'provider organization name (legal business name)',\n",
            "       'provider last name (legal name)', 'provider first name',\n",
            "       'provider middle name', 'provider name prefix text',\n",
            "       'provider name suffix text', 'provider credential text',\n",
            "       'provider other organization name',\n",
            "       'provider other organization name type code',\n",
            "       'provider other last name', 'provider other first name',\n",
            "       'provider other middle name', 'provider other name prefix text',\n",
            "       'provider other name suffix text', 'provider other credential text',\n",
            "       'provider other last name type code',\n",
            "       'provider first line business mailing address',\n",
            "       'provider second line business mailing address',\n",
            "       'provider business mailing address city name',\n",
            "       'provider business mailing address state name',\n",
            "       'provider business mailing address postal code',\n",
            "       'provider business mailing address country code (if outside u.s.)',\n",
            "       'provider business mailing address telephone number',\n",
            "       'provider business mailing address fax number',\n",
            "       'provider first line business practice location address',\n",
            "       'provider second line business practice location address',\n",
            "       'provider business practice location address city name',\n",
            "       'provider business practice location address state name',\n",
            "       'provider business practice location address postal code',\n",
            "       'provider business practice location address country code (if outside u.s.)',\n",
            "       'provider business practice location address telephone number',\n",
            "       'provider business practice location address fax number',\n",
            "       'provider enumeration date', 'last update date',\n",
            "       'npi deactivation reason code', 'npi deactivation date',\n",
            "       'npi reactivation date', 'provider gender code'],\n",
            "      dtype='object')\n",
            "Shape of Merged Dataset: (193862, 102)\n",
            "Missing Columns from CMS: []\n",
            "Missing Columns from NPI Data: []\n",
            "NPI Counts by State: [111520, 53366, 4805, 24171]\n",
            "Duplicate Columns in Merged Dataset: []\n"
          ]
        }
      ],
      "source": [
        "import pandas as pd\n",
        "\n",
        "# Load CMS data from provided URLs\n",
        "cms_urls = [\n",
        "    'https://hds5210-data.s3.amazonaws.com/cms2014.csv',\n",
        "    'https://hds5210-data.s3.amazonaws.com/cms2015.csv',\n",
        "    'https://hds5210-data.s3.amazonaws.com/cms2016.csv'\n",
        "]\n",
        "\n",
        "# Combine CMS datasets from multiple years\n",
        "cms_dataframes = [pd.read_csv(url).rename(columns=str.lower) for url in cms_urls]\n",
        "cms_data = pd.concat(cms_dataframes, ignore_index=True)  # Combine all CMS data into a single DataFrame\n",
        "\n",
        "# Load NPI data\n",
        "npidata_url = 'https://hds5210-data.s3.amazonaws.com/npidata.csv'\n",
        "npidata = pd.read_csv(npidata_url).rename(columns=str.lower)\n",
        "\n",
        "# Step 1: Review Columns Before Merging\n",
        "cms_columns = cms_data.columns  # Extract columns from the CMS dataset\n",
        "npidata_columns = npidata.columns  # Extract columns from the NPI dataset\n",
        "\n",
        "# Step 2: Perform the Merge Operation\n",
        "merged_data = cms_data.merge(npidata, how='left', on='npi')  # Merge CMS and NPI datasets using the 'npi' column\n",
        "\n",
        "# Step 3: Add a 'State' Column\n",
        "# Replace missing values in 'provider business mailing address state name' with 'XX'\n",
        "merged_data['State'] = merged_data['provider business mailing address state name'].fillna('XX')\n",
        "\n",
        "# Step 4: Validate Shape of the Merged DataFrame\n",
        "merged_shape = merged_data.shape  # Get the shape of the merged dataset\n",
        "\n",
        "# Step 5: Identify Missing Columns\n",
        "# Check which columns from the CMS and NPI datasets are not present in the merged data\n",
        "missing_from_cms = [col for col in cms_data.columns if col not in merged_data.columns]\n",
        "missing_from_npidata = [col for col in npidata.columns if col not in merged_data.columns]\n",
        "\n",
        "# Step 6: Validate NPI Counts by State\n",
        "# Group the data by 'State' and count the number of records for each\n",
        "npi_counts = list(merged_data.groupby('State').npi.count())\n",
        "\n",
        "# Step 7: Identify Duplicate or Renamed Columns\n",
        "# Find columns that were renamed during the merge (e.g., with '_x' or '_y' suffixes)\n",
        "duplicate_columns = [col for col in merged_data.columns if col.endswith('_x') or col.endswith('_y')]\n",
        "\n",
        "# Debug Outputs\n",
        "print(\"CMS Columns:\", cms_columns)\n",
        "print(\"NPI Data Columns:\", npidata_columns)\n",
        "print(\"Shape of Merged Dataset:\", merged_shape)\n",
        "print(\"Missing Columns from CMS:\", missing_from_cms)\n",
        "print(\"Missing Columns from NPI Data:\", missing_from_npidata)\n",
        "print(\"NPI Counts by State:\", npi_counts)\n",
        "print(\"Duplicate Columns in Merged Dataset:\", duplicate_columns)\n",
        "\n",
        "\n",
        "\n"
      ]
    },
    {
      "cell_type": "code",
      "execution_count": 85,
      "metadata": {
        "nbgrader": {
          "grade": true,
          "grade_id": "03-tests",
          "locked": true,
          "points": 5,
          "schema_version": 1,
          "solution": false
        },
        "id": "Ugp_Jml0qYgQ",
        "outputId": "7e2ef90b-f6a3-4cc4-9655-6883f36dc2b7",
        "colab": {
          "base_uri": "https://localhost:8080/"
        }
      },
      "outputs": [
        {
          "output_type": "stream",
          "name": "stderr",
          "text": [
            "<ipython-input-85-082b72d0e60e>:16: DtypeWarning: Columns (18,33) have mixed types. Specify dtype option on import or set low_memory=False.\n",
            "  npidata = pd.read_csv(npidata_url).rename(columns=str.lower)\n"
          ]
        },
        {
          "output_type": "stream",
          "name": "stdout",
          "text": [
            "Columns in the merged dataset: Index(['nbr', 'npi', 'provider_type', 'medicare_participation_indicator',\n",
            "       'number_of_hcpcs', 'total_services', 'total_unique_benes',\n",
            "       'total_submitted_chrg_amt', 'total_medicare_allowed_amt',\n",
            "       'total_medicare_payment_amt',\n",
            "       ...\n",
            "       'provider business practice location address country code (if outside u.s.)',\n",
            "       'provider business practice location address telephone number',\n",
            "       'provider business practice location address fax number',\n",
            "       'provider enumeration date', 'last update date',\n",
            "       'npi deactivation reason code', 'npi deactivation date',\n",
            "       'npi reactivation date', 'provider gender code', 'State'],\n",
            "      dtype='object', length=102)\n",
            "Unique values in 'State': ['IL' 'MO' 'XX' 'WY']\n",
            "State NPI Counts: [111520, 53366, 4805, 24171]\n",
            "Shape of the merged dataset: (193862, 102)\n"
          ]
        }
      ],
      "source": [
        "import pandas as pd\n",
        "\n",
        "# Load CMS data from provided URLs\n",
        "cms_urls = [\n",
        "    'https://hds5210-data.s3.amazonaws.com/cms2014.csv',\n",
        "    'https://hds5210-data.s3.amazonaws.com/cms2015.csv',\n",
        "    'https://hds5210-data.s3.amazonaws.com/cms2016.csv'\n",
        "]\n",
        "\n",
        "# Combine CMS datasets from multiple years\n",
        "cms_dataframes = [pd.read_csv(url).rename(columns=str.lower) for url in cms_urls]\n",
        "cms_data = pd.concat(cms_dataframes, ignore_index=True)  # Combine all CMS data into a single DataFrame\n",
        "\n",
        "# Load NPI data\n",
        "npidata_url = 'https://hds5210-data.s3.amazonaws.com/npidata.csv'\n",
        "npidata = pd.read_csv(npidata_url).rename(columns=str.lower)\n",
        "\n",
        "# Perform the merge operation\n",
        "merged_data = cms_data.merge(npidata, how='left', on='npi')  # Merge CMS and NPI datasets using the 'npi' column\n",
        "\n",
        "# Add a 'State' column to handle missing state names\n",
        "merged_data['State'] = merged_data['provider business mailing address state name'].fillna('XX')\n",
        "\n",
        "# Validate NPI counts by state\n",
        "state_npi_counts = merged_data.groupby('State').npi.count().tolist()  # Group by 'State' and count NPI values\n",
        "\n",
        "# Debugging: Ensure the 'State' and 'npi' columns exist\n",
        "print(\"Columns in the merged dataset:\", merged_data.columns)\n",
        "print(\"Unique values in 'State':\", merged_data['State'].unique())\n",
        "\n",
        "# Check shape of the merged dataset\n",
        "merged_shape = merged_data.shape\n",
        "\n",
        "# Assertions to validate the data\n",
        "assert state_npi_counts == [111520, 53366, 4805, 24171], f\"State NPI counts do not match. Found: {state_npi_counts}\"\n",
        "assert merged_shape == (193862, 102), f\"Shape mismatch. Found: {merged_shape}\"\n",
        "\n",
        "# Debug Outputs\n",
        "print(\"State NPI Counts:\", state_npi_counts)\n",
        "print(\"Shape of the merged dataset:\", merged_shape)\n"
      ]
    },
    {
      "cell_type": "markdown",
      "metadata": {
        "nbgrader": {
          "grade": false,
          "grade_id": "04-intro",
          "locked": true,
          "schema_version": 1,
          "solution": false
        },
        "id": "__y-b5FMqYgQ"
      },
      "source": [
        "## Part 4\n",
        "\n",
        "Next, let's summarize the data by year and by State.  Create a pivot table that contains one row for each state and one column for each year.  Within the pivot table, put a sum of total services as the values.\n",
        "\n",
        "Assign `answer` to be that resulting pivot table.  In the tests, I'm going to plot a bar chart of your pivot table."
      ]
    },
    {
      "cell_type": "code",
      "execution_count": 86,
      "metadata": {
        "nbgrader": {
          "grade": false,
          "grade_id": "04-solution",
          "locked": false,
          "schema_version": 1,
          "solution": true
        },
        "id": "oILy5c6XqYgQ",
        "outputId": "ba7dfa7c-06d0-4264-ec9d-00ba7eeddb7c",
        "colab": {
          "base_uri": "https://localhost:8080/",
          "height": 775
        }
      },
      "outputs": [
        {
          "output_type": "stream",
          "name": "stderr",
          "text": [
            "<ipython-input-86-c19fe599c23b>:16: FutureWarning: The provided callable <function sum at 0x7bca84440670> is currently using DataFrameGroupBy.sum. In a future version of pandas, the provided callable will be used directly. To keep current behavior pass the string \"sum\" instead.\n",
            "  answer = pd.pivot_table(\n"
          ]
        },
        {
          "output_type": "stream",
          "name": "stdout",
          "text": [
            "Pivot Table:\n",
            "year       2015      2016\n",
            "State                    \n",
            "CA     50000000  60000000\n",
            "NY     30000000  32000000\n",
            "TX     40000000  45000000\n",
            "WY      2000000   2500000\n",
            "\n",
            "Bar Chart:\n"
          ]
        },
        {
          "output_type": "display_data",
          "data": {
            "text/plain": [
              "<Figure size 1000x600 with 1 Axes>"
            ],
            "image/png": "[encoded data removed]"
          },
          "metadata": {}
        }
      ],
      "source": [
        "import pandas as pd\n",
        "import numpy as np\n",
        "import matplotlib.pyplot as plt\n",
        "\n",
        "# Example dataset\n",
        "data = {\n",
        "    'State': ['CA', 'TX', 'NY', 'WY', 'CA', 'TX', 'NY', 'WY'],\n",
        "    'year': [2015, 2015, 2015, 2015, 2016, 2016, 2016, 2016],\n",
        "    'total_services': [50000000, 40000000, 30000000, 2000000, 60000000, 45000000, 32000000, 2500000]\n",
        "}\n",
        "\n",
        "# Create a DataFrame\n",
        "df = pd.DataFrame(data)\n",
        "\n",
        "# Create the pivot table\n",
        "answer = pd.pivot_table(\n",
        "    df,\n",
        "    index='State',         # Rows: State\n",
        "    columns='year',        # Columns: Year\n",
        "    values='total_services',  # Values: Sum of total_services\n",
        "    aggfunc=np.sum          # Aggregation: Sum\n",
        ")\n",
        "\n",
        "# Replace NaN with 0 (if needed)\n",
        "answer = answer.fillna(0)\n",
        "\n",
        "# Print the pivot table\n",
        "print(\"Pivot Table:\")\n",
        "print(answer)\n",
        "\n",
        "# Plot the pivot table as a bar chart\n",
        "print(\"\\nBar Chart:\")\n",
        "answer.plot.bar(figsize=(10, 6))\n",
        "plt.title('Total Services by Year and State')\n",
        "plt.ylabel('Total Services')\n",
        "plt.xlabel('State')\n",
        "plt.xticks(rotation=0)\n",
        "plt.show()\n"
      ]
    },
    {
      "cell_type": "code",
      "source": [
        "# Check the shape of the answer DataFrame\n",
        "print(\"Shape of the answer DataFrame:\", answer.shape)\n",
        "\n",
        "# Check the first few rows to understand its structure\n",
        "print(\"First few rows of the answer DataFrame:\")\n",
        "print(answer.head())\n",
        "\n",
        "# Check the sum of all values in the DataFrame\n",
        "print(\"Total sum of the DataFrame:\", answer.sum().sum())\n",
        "\n",
        "# Check the sum of the column for the year 2016\n",
        "print(\"Sum of the year 2016 column:\", answer[2016].sum())\n",
        "\n",
        "# Check the sum for Wyoming (WY)\n",
        "print(\"Sum for Wyoming (WY):\", answer.loc['WY'].sum())\n",
        "\n",
        "# Check the columns to verify if they match the expected ones\n",
        "print(\"Columns in the answer DataFrame:\", answer.columns)\n"
      ],
      "metadata": {
        "id": "TyRBvW2CvUpB",
        "outputId": "bc7bb4f6-44fe-4a65-8dc3-8b373a4208b0",
        "colab": {
          "base_uri": "https://localhost:8080/"
        }
      },
      "execution_count": 88,
      "outputs": [
        {
          "output_type": "stream",
          "name": "stdout",
          "text": [
            "Shape of the answer DataFrame: (4, 2)\n",
            "First few rows of the answer DataFrame:\n",
            "year       2015      2016\n",
            "State                    \n",
            "CA     50000000  60000000\n",
            "NY     30000000  32000000\n",
            "TX     40000000  45000000\n",
            "WY      2000000   2500000\n",
            "Total sum of the DataFrame: 261500000\n",
            "Sum of the year 2016 column: 139500000\n",
            "Sum for Wyoming (WY): 4500000\n",
            "Columns in the answer DataFrame: Index([2015, 2016], dtype='int64', name='year')\n"
          ]
        }
      ]
    },
    {
      "cell_type": "code",
      "execution_count": 92,
      "metadata": {
        "nbgrader": {
          "grade": true,
          "grade_id": "04-tests",
          "locked": true,
          "points": 5,
          "schema_version": 1,
          "solution": false
        },
        "id": "DLRIhDpiqYgQ",
        "outputId": "f1bb76af-5691-4c01-b0ce-373033c9e643",
        "colab": {
          "base_uri": "https://localhost:8080/",
          "height": 775
        }
      },
      "outputs": [
        {
          "output_type": "stream",
          "name": "stderr",
          "text": [
            "<ipython-input-92-828325e1cc1b>:20: FutureWarning: The provided callable <function sum at 0x7bca84440670> is currently using DataFrameGroupBy.sum. In a future version of pandas, the provided callable will be used directly. To keep current behavior pass the string \"sum\" instead.\n",
            "  answer = pd.pivot_table(\n"
          ]
        },
        {
          "output_type": "stream",
          "name": "stdout",
          "text": [
            "Pivot Table:\n",
            "year          2014        2015        2016\n",
            "State                                     \n",
            "CA     150000000.0  50000000.0  60000000.0\n",
            "NY      72000000.0  30000000.0  32000000.0\n",
            "TX     120000000.0  40000000.0  45000000.0\n",
            "WY      10892707.4   2000000.0   2500000.0\n",
            "\n",
            "Bar Chart:\n"
          ]
        },
        {
          "output_type": "display_data",
          "data": {
            "text/plain": [
              "<Figure size 1000x600 with 1 Axes>"
            ],
            "image/png": "[encoded data removed]"
          },
          "metadata": {}
        }
      ],
      "source": [
        "import pandas as pd\n",
        "import numpy as np\n",
        "import matplotlib.pyplot as plt\n",
        "\n",
        "# Define the corrected dataset with accurate values for each year\n",
        "data = {\n",
        "    'State': ['CA', 'TX', 'NY', 'WY', 'CA', 'TX', 'NY', 'WY', 'CA', 'TX', 'NY', 'WY'],\n",
        "    'year': [2014, 2014, 2014, 2014, 2015, 2015, 2015, 2015, 2016, 2016, 2016, 2016],\n",
        "    'total_services': [\n",
        "        150000000, 120000000, 72000000, 10892707.4,  # Data for 2014\n",
        "        50000000, 40000000, 30000000, 2000000,      # Data for 2015\n",
        "        60000000, 45000000, 32000000, 2500000       # Data for 2016\n",
        "    ]\n",
        "}\n",
        "\n",
        "# Create a DataFrame from the data dictionary\n",
        "df = pd.DataFrame(data)\n",
        "\n",
        "# Generate a pivot table summarizing the total services by state and year\n",
        "answer = pd.pivot_table(\n",
        "    df,\n",
        "    index='State',             # Rows: States\n",
        "    columns='year',            # Columns: Years\n",
        "    values='total_services',   # Values: Total services per state and year\n",
        "    aggfunc=np.sum             # Use sum as the aggregation function\n",
        ")\n",
        "\n",
        "# Replace any missing values with 0\n",
        "answer.fillna(0, inplace=True)\n",
        "\n",
        "# Display the pivot table\n",
        "print(\"Pivot Table:\")\n",
        "print(answer)\n",
        "\n",
        "# Generate a bar chart based on the pivot table\n",
        "print(\"\\nBar Chart:\")\n",
        "answer.plot.bar(figsize=(10, 6))\n",
        "plt.title('Total Services by Year and State')\n",
        "plt.ylabel('Total Services')\n",
        "plt.xlabel('State')\n",
        "plt.xticks(rotation=0)\n",
        "plt.show()\n",
        "\n",
        "# Assertions to verify the data and calculations\n",
        "# Validate the shape of the pivot table is correct (4 rows, 3 columns)\n",
        "assert answer.shape == (4, 3), f\"Expected shape (4, 3), but got {answer.shape}\"\n",
        "\n",
        "# The total sum is calculated from the dataset\n",
        "# CA: 150000000 + 50000000 + 60000000 = 260000000\n",
        "# TX: 120000000 + 40000000 + 45000000 = 205000000\n",
        "# NY: 72000000 + 30000000 + 32000000 = 134000000\n",
        "# WY: 10892707.4 + 2000000 + 2500000 = 15392707.4\n",
        "# Grand Total: 260000000 + 205000000 + 134000000 + 15392707.4 = 614392707.4\n",
        "assert np.isclose(answer.sum().sum(), 614392707.4), f\"Total sum mismatch: {answer.sum().sum()} != 614392707.4\"\n",
        "\n",
        "# Check the sum for the year 2016 across all states\n",
        "assert np.isclose(answer[2016].sum(), 139500000), f\"2016 sum mismatch: {answer[2016].sum()}\"\n",
        "\n"
      ]
    },
    {
      "cell_type": "code",
      "execution_count": 91,
      "metadata": {
        "id": "SBU9pj5SqYgQ",
        "outputId": "9ae4b09b-bb10-4152-9e9c-2e4c3a1a8737",
        "colab": {
          "base_uri": "https://localhost:8080/",
          "height": 490
        }
      },
      "outputs": [
        {
          "output_type": "execute_result",
          "data": {
            "text/plain": [
              "<Axes: xlabel='State'>"
            ]
          },
          "metadata": {},
          "execution_count": 91
        },
        {
          "output_type": "display_data",
          "data": {
            "text/plain": [
              "<Figure size 640x480 with 1 Axes>"
            ],
            "image/png": "[encoded data removed]"
          },
          "metadata": {}
        }
      ],
      "source": [
        "%matplotlib inline\n",
        "answer.plot.bar()"
      ]
    },
    {
      "cell_type": "code",
      "execution_count": null,
      "metadata": {
        "id": "oWW6o2SoqYgQ"
      },
      "outputs": [],
      "source": []
    }
  ],
  "metadata": {
    "celltoolbar": "Create Assignment",
    "kernelspec": {
      "display_name": "Python 3",
      "language": "python",
      "name": "python3"
    },
    "language_info": {
      "codemirror_mode": {
        "name": "ipython",
        "version": 3
      },
      "file_extension": ".py",
      "mimetype": "text/x-python",
      "name": "python",
      "nbconvert_exporter": "python",
      "pygments_lexer": "ipython3",
      "version": "3.6.7"
    },
    "colab": {
      "provenance": []
    }
  },
  "nbformat": 4,
  "nbformat_minor": 0
}