{
  "cells": [
    {
      "cell_type": "markdown",
      "metadata": {
        "nbgrader": {
          "grade": false,
          "grade_id": "intro",
          "locked": true,
          "schema_version": 1,
          "solution": false
        },
        "id": "nNZ5drZLEJ7H"
      },
      "source": [
        "# Week 5 Exercises\n",
        "\n",
        "_McKinney 3.2_\n",
        "\n",
        "**Unlike in previous weeks, in the exercises below, you will need to create a function definition from scratch.  I'll provide specific instructions and examples for how it will be used, but you will have to do the work of definiging the whole function.**\n",
        "\n",
        "---\n",
        "---"
      ]
    },
    {
      "cell_type": "markdown",
      "metadata": {
        "nbgrader": {
          "grade": false,
          "grade_id": "longest",
          "locked": true,
          "schema_version": 1,
          "solution": false
        },
        "id": "cF_BTRSJEJ7I"
      },
      "source": [
        "### 5.1 Longest String\n",
        "\n",
        "Write a function called `longest (L)` that takes as its only parameter a list of strings.  Your function needs to find the longest of those strings and return the position number of that longest string.  An example is provided below:\n",
        "\n",
        "The longest word in that list of strings is \"birthday\" in position #1, so `longest(strings)` should return 1.\n",
        "```\n",
        ">>> strings = ['happy', 'birthday', 'to', 'me']\n",
        ">>> longest(strings)\n",
        "1\n",
        "```\n",
        "\n",
        "Be sure to include a docstring.  Include test cases in your docstring if you want to."
      ]
    },
    {
      "cell_type": "code",
      "execution_count": 10,
      "metadata": {
        "nbgrader": {
          "grade": false,
          "grade_id": "longest-answer",
          "locked": false,
          "schema_version": 1,
          "solution": true
        },
        "id": "0F69Sh10EJ7I"
      },
      "outputs": [],
      "source": [
        "### BEGIN SOLUTION\n",
        "\n",
        "def longest(strings):\n",
        "    \"\"\"(list) -> int\n",
        "    This function finds the longest string in the list of input strings\n",
        "    and returns the position number of that longest string.\n",
        "\n",
        "    >>> longest(['happy', 'birthday', 'to', 'me'])\n",
        "    1\n",
        "\n",
        "    >>> longest(['one', 'two', 'three', 'four'])\n",
        "    2\n",
        "    \"\"\"\n",
        "\n",
        "    longest_pos = 0\n",
        "    longest_len = 0\n",
        "\n",
        "    print(\"Position  Item         Longest So Far\")\n",
        "    print(\"--------- ------------ --------------\")\n",
        "    for position, item in enumerate(strings):\n",
        "\n",
        "        if len(item) > longest_len:\n",
        "            longest_pos = position\n",
        "            longest_len = len(item)\n",
        "        print(\"{0:9} {1:12} {2} : {3}\".format(position, item, longest_pos, longest_len))\n",
        "\n",
        "    return longest_pos\n",
        "\n",
        "### END SOLUTION"
      ]
    },
    {
      "cell_type": "code",
      "execution_count": 11,
      "metadata": {
        "id": "VAmVB2IAEJ7I"
      },
      "outputs": [],
      "source": [
        "def longest(my_list):\n",
        "    \"\"\"(list)->int\n",
        "    Find the longest item in a list of strings and return the index for that string.\n",
        "    If there are multiple strings with the same length, return the index of the first of those longest strings.\n",
        "\n",
        "    >>> longest(['happy', 'birthday', 'to', 'me'])\n",
        "    1\n",
        "\n",
        "    >>> longest(['abc','def','ghi'])\n",
        "    0\n",
        "    \"\"\"\n",
        "\n",
        "    if type(my_list) != list:\n",
        "        raise TypeError(\"That isn't a list!\")\n",
        "\n",
        "    if len(my_list) == 0:\n",
        "        raise ValueError(\"There were no items in that list!\")\n",
        "\n",
        "    max_length = -1\n",
        "    max_index = None\n",
        "\n",
        "    for num, item in enumerate(my_list):\n",
        "        try:\n",
        "            if len(item) > max_length:\n",
        "                max_length = len(item)\n",
        "                max_index = num\n",
        "        except:\n",
        "            pass\n",
        "\n",
        "    return max_index\n",
        ""
      ]
    },
    {
      "cell_type": "code",
      "execution_count": 12,
      "metadata": {
        "id": "oWR714UQEJ7I",
        "outputId": "dc6266e8-d8c5-4d45-c17f-be8fbc460331",
        "colab": {
          "base_uri": "https://localhost:8080/"
        }
      },
      "outputs": [
        {
          "output_type": "execute_result",
          "data": {
            "text/plain": [
              "1"
            ]
          },
          "metadata": {},
          "execution_count": 12
        }
      ],
      "source": [
        "longest(['happy', 'birthday', 2, 'me'])"
      ]
    },
    {
      "cell_type": "code",
      "execution_count": 13,
      "metadata": {
        "id": "0GEloV8xEJ7J",
        "outputId": "fcb336a5-8452-4df6-ab9a-995097169d94",
        "colab": {
          "base_uri": "https://localhost:8080/"
        }
      },
      "outputs": [
        {
          "output_type": "execute_result",
          "data": {
            "text/plain": [
              "1"
            ]
          },
          "metadata": {},
          "execution_count": 13
        }
      ],
      "source": [
        "longest(['happy', 'birthday', 'to', 'me'])"
      ]
    },
    {
      "cell_type": "code",
      "execution_count": 14,
      "metadata": {
        "nbgrader": {
          "grade": true,
          "grade_id": "longest-tests",
          "locked": true,
          "points": 10,
          "schema_version": 1,
          "solution": false
        },
        "id": "7cWxCOncEJ7J"
      },
      "outputs": [],
      "source": [
        "assert longest(\"happy birthday to me\".split(\" \")) == 1\n",
        "assert longest(\"enjoy class\".split(\" \")) == 0\n",
        "assert longest(['when','what','where','how','who']) == 2"
      ]
    },
    {
      "cell_type": "code",
      "execution_count": 15,
      "metadata": {
        "id": "CJiU-bvjEJ7K",
        "outputId": "7b0adf10-a89f-4242-b4db-e99d207f7914",
        "colab": {
          "base_uri": "https://localhost:8080/"
        }
      },
      "outputs": [
        {
          "output_type": "stream",
          "name": "stdout",
          "text": [
            "Finding tests in NoName\n",
            "Trying:\n",
            "    longest(['happy', 'birthday', 'to', 'me'])\n",
            "Expecting:\n",
            "    1\n",
            "ok\n",
            "Trying:\n",
            "    longest(['abc','def','ghi'])\n",
            "Expecting:\n",
            "    0\n",
            "ok\n"
          ]
        }
      ],
      "source": [
        "import doctest\n",
        "doctest.run_docstring_examples(longest, globals(), verbose=True)"
      ]
    },
    {
      "cell_type": "markdown",
      "metadata": {
        "id": "QWSJYzYNEJ7K"
      },
      "source": [
        "### 5.2 Celsius to Farenheit\n",
        "\n",
        "Write a function called f_to_c() that converts a given temperature in degrees Farenheit to degrees Celsius.  If you don't recall that conversion, it is:\n",
        "\n",
        "$ temp_c = \\frac{5}{9} \\times (temp_f - 32) $\n",
        "\n",
        "Make sure that you code is well documented using the DocString examples, and that your code includes tests for 212f, 32f, and 98.6f."
      ]
    },
    {
      "cell_type": "code",
      "execution_count": 16,
      "metadata": {
        "id": "NEpdxrAGEJ7K"
      },
      "outputs": [],
      "source": [
        "### BEGIN SOLUTION\n",
        "def f_to_c(temp_f):\n",
        "    \"\"\"\n",
        "    Converting temperature from Fahrenheit to Celsius.\n",
        "\n",
        "    The formula used for conversion is:\n",
        "    temp_c = (5/9) * (temp_f - 32)                # mentioned as in 15.2 section\n",
        "\n",
        "    Args:\n",
        "    temp_f (float): The temperature in Fahrenheit.\n",
        "\n",
        "    Returns:\n",
        "    float: The temperature converted to Celsius.\n",
        "\n",
        "    Examples:\n",
        "    >>> f_to_c(212)\n",
        "    100.0\n",
        "    >>> f_to_c(32)\n",
        "    0.0\n",
        "    >>> f_to_c(98.6)\n",
        "    37.0\n",
        "    >>> f_to_c(0)\n",
        "    -17.8\n",
        "    >>> f_to_c(100)\n",
        "    37.8\n",
        "    \"\"\"\n",
        "    # Convert Fahrenheit to Celsius\n",
        "    temp_c = (5/9) * (temp_f - 32)\n",
        "    return round(temp_c, 1)\n",
        "\n",
        "\n",
        "### END SOLUTION"
      ]
    },
    {
      "cell_type": "code",
      "execution_count": 17,
      "metadata": {
        "id": "GhMp4vTiEJ7K"
      },
      "outputs": [],
      "source": [
        "assert f_to_c(212) == 100.0\n",
        "assert f_to_c(32) == 0.0\n",
        "assert f_to_c(98.6) == 37.0"
      ]
    },
    {
      "cell_type": "code",
      "execution_count": 18,
      "metadata": {
        "id": "3YacZpmNEJ7K",
        "outputId": "adc8adfd-79cf-4338-aed1-c73c0ea30789",
        "colab": {
          "base_uri": "https://localhost:8080/"
        }
      },
      "outputs": [
        {
          "output_type": "execute_result",
          "data": {
            "text/plain": [
              "100.0"
            ]
          },
          "metadata": {},
          "execution_count": 18
        }
      ],
      "source": [
        "f_to_c(212)"
      ]
    },
    {
      "cell_type": "code",
      "execution_count": 19,
      "metadata": {
        "id": "xhCbTFQ7EJ7K",
        "outputId": "98ddf1e1-6ce7-4da1-d865-2878fc127f69",
        "colab": {
          "base_uri": "https://localhost:8080/"
        }
      },
      "outputs": [
        {
          "output_type": "stream",
          "name": "stdout",
          "text": [
            "Finding tests in NoName\n",
            "Trying:\n",
            "    f_to_c(212)\n",
            "Expecting:\n",
            "    100.0\n",
            "ok\n",
            "Trying:\n",
            "    f_to_c(32)\n",
            "Expecting:\n",
            "    0.0\n",
            "ok\n",
            "Trying:\n",
            "    f_to_c(98.6)\n",
            "Expecting:\n",
            "    37.0\n",
            "ok\n",
            "Trying:\n",
            "    f_to_c(0)\n",
            "Expecting:\n",
            "    -17.8\n",
            "ok\n",
            "Trying:\n",
            "    f_to_c(100)\n",
            "Expecting:\n",
            "    37.8\n",
            "ok\n"
          ]
        }
      ],
      "source": [
        "import doctest\n",
        "doctest.run_docstring_examples(f_to_c, globals(), verbose=True)\n"
      ]
    },
    {
      "cell_type": "markdown",
      "metadata": {
        "id": "xNpyy_X1EJ7K"
      },
      "source": [
        "### 5.3 Computing Length of Stay\n",
        "\n",
        "For this problem, we have a collection of patient enounter data stored as a Python dictionary.  The `key` for the dictionary is the **encounter ID**, a code that starts with the letter `E` followed by four numbers.  The value associated with each encounter ID is another Python dictionary.  This \"inner\" dictionary holds three items: admit date, primary diagnosis, and discharge date.  See the example in the code below.\n",
        "\n",
        "You need to write a length of stay function that computes the length of stay, in whole days, between the admit date and discharge date.  However, if the diagnosis is \"Observation\" then the length of stay should always be returned as 0 regardless of the admit and discharge dates.\n",
        "\n",
        "You will find it handy to refer to this example here on how to calculate the number of days between two dates: https://stackoverflow.com/questions/151199/how-to-calculate-number-of-days-between-two-given-dates"
      ]
    },
    {
      "cell_type": "code",
      "execution_count": 20,
      "metadata": {
        "id": "j_nsh17bEJ7K"
      },
      "outputs": [],
      "source": [
        "from datetime import date\n",
        "\n",
        "### BEGIN SOLUTION\n",
        "def los(admit_date, discharge_date, diagnosis):\n",
        "    \"\"\"\n",
        "    Calculates the length of stay (LOS) between admit and discharge dates.\n",
        "\n",
        "    Args:\n",
        "        admit_date (date): The date of admission.\n",
        "        discharge_date (date): The date of discharge.\n",
        "        diagnosis (str): The patient's diagnosis.\n",
        "\n",
        "    Returns:\n",
        "        int: The length of stay in whole days, or 0 if the diagnosis is \"Observation\".\n",
        "\n",
        "    Examples:\n",
        "        >>> los(date(2019, 1, 3), date(2019, 1, 8), \"COPD\")\n",
        "        5\n",
        "        >>> los(date(2019, 1, 5), date(2019, 1, 9), \"Hypertension\")\n",
        "        4\n",
        "        >>> los(date(2019, 1, 12), date(2019, 1, 13), \"Anxiety\")\n",
        "        1\n",
        "        >>> los(date(2019, 1, 15), date(2019, 1, 16), \"Observation\")\n",
        "        0\n",
        "        >>> los(date(2019, 1, 4), date(2019, 1, 4), \"Anxiety\")\n",
        "        0\n",
        "    \"\"\"\n",
        "\n",
        "    # Check for Observation diagnosis\n",
        "    if diagnosis.upper() == \"OBSERVATION\":\n",
        "        return 0\n",
        "\n",
        "    # Calculate the difference in days (including both admit and discharge days)\n",
        "    delta = discharge_date - admit_date\n",
        "    return delta.days\n",
        "\n",
        "### END SOLUTION"
      ]
    },
    {
      "cell_type": "code",
      "execution_count": 21,
      "metadata": {
        "id": "6T3MDy_iEJ7K",
        "outputId": "78c8a47d-3142-48a1-f778-9d23d5970e98",
        "colab": {
          "base_uri": "https://localhost:8080/"
        }
      },
      "outputs": [
        {
          "output_type": "stream",
          "name": "stdout",
          "text": [
            "Finding tests in NoName\n",
            "Trying:\n",
            "    los(date(2019, 1, 3), date(2019, 1, 8), \"COPD\")\n",
            "Expecting:\n",
            "    5\n",
            "ok\n",
            "Trying:\n",
            "    los(date(2019, 1, 5), date(2019, 1, 9), \"Hypertension\")\n",
            "Expecting:\n",
            "    4\n",
            "ok\n",
            "Trying:\n",
            "    los(date(2019, 1, 12), date(2019, 1, 13), \"Anxiety\")\n",
            "Expecting:\n",
            "    1\n",
            "ok\n",
            "Trying:\n",
            "    los(date(2019, 1, 15), date(2019, 1, 16), \"Observation\")\n",
            "Expecting:\n",
            "    0\n",
            "ok\n",
            "Trying:\n",
            "    los(date(2019, 1, 4), date(2019, 1, 4), \"Anxiety\")\n",
            "Expecting:\n",
            "    0\n",
            "ok\n"
          ]
        }
      ],
      "source": [
        "import doctest\n",
        "doctest.run_docstring_examples(los, globals(), verbose=True)"
      ]
    },
    {
      "cell_type": "code",
      "execution_count": 22,
      "metadata": {
        "id": "4zhR0bl2EJ7L",
        "outputId": "e9c36baa-9777-41c0-852e-d11514c2bbfc",
        "colab": {
          "base_uri": "https://localhost:8080/"
        }
      },
      "outputs": [
        {
          "output_type": "stream",
          "name": "stdout",
          "text": [
            "5\n",
            "4\n",
            "1\n",
            "0\n",
            "0\n"
          ]
        }
      ],
      "source": [
        "encounters = {\n",
        "    \"E1234\": { \"admit\": date(2019,1,3), \"diagnosis\": \"COPD\", \"discharge\": date(2019,1,8) },\n",
        "    \"E8342\": { \"admit\": date(2019,1,5), \"diagnosis\": \"Hypertension\", \"discharge\": date(2019,1,9) },\n",
        "    \"E9231\": { \"admit\": date(2019,1,12), \"diagnosis\": \"Anxiety\", \"discharge\": date(2019,1,13) },\n",
        "    \"E8333\": { \"admit\": date(2019,1,15), \"diagnosis\": \"Observation\", \"discharge\": date(2019,1,16) },\n",
        "    \"E3342\": { \"admit\": date(2019,1,4), \"diagnosis\": \"Anxiety\", \"discharge\": date(2019,1,4)}\n",
        "}\n",
        "\n",
        "\n",
        "for e, v in encounters.items():\n",
        "    print(los(v['admit'],v['discharge'],v['diagnosis']))"
      ]
    },
    {
      "cell_type": "markdown",
      "metadata": {
        "id": "YKlG9r2lEJ7L"
      },
      "source": [
        "---\n",
        "---\n",
        "\n",
        "### 5.4 Average Length of Stay\n",
        "\n",
        "Create a function called `average_los` that returns the average of the LOS for the encounters in the provided dictionary. The encounters must be a dictionary that contains dictionaries that each contain at least an admit date and a discharge date.\n",
        "    \n",
        "If the length of stay of any individual encounter is 0, then it will not be counted toward the average."
      ]
    },
    {
      "cell_type": "code",
      "execution_count": 23,
      "metadata": {
        "id": "Iv42OjnlEJ7L"
      },
      "outputs": [],
      "source": [
        "test1 = {\n",
        "        \"E1234\": { \"admit\": date(2019,1,3), \"diagnosis\": \"COPD\", \"discharge\": date(2019,1,8) }\n",
        "}\n",
        "\n",
        "test2 = {\n",
        "        \"E1234\": { \"admit\": date(2019,1,3), \"diagnosis\": \"COPD\", \"discharge\": date(2019,1,8) }\n",
        "}\n",
        "\n",
        "### BEGIN SOLUTION\n",
        "from datetime import date\n",
        "\n",
        "\n",
        "def average_los(encounters):\n",
        "    \"\"\"\n",
        "    Calculates the average length of stay (LOS) for a given set of encounters.\n",
        "\n",
        "    Args:\n",
        "        encounters (dict): A dictionary containing encounter data.\n",
        "\n",
        "    Returns:\n",
        "        float: The average LOS, excluding encounters with 0 LOS.\n",
        "\n",
        "    Examples:\n",
        "        >>> test1 = {\n",
        "        ...     \"E1234\": {\"admit\": date(2019, 1, 3), \"diagnosis\": \"COPD\", \"discharge\": date(2019, 1, 8)}\n",
        "        ... }\n",
        "        >>> average_los(test1)\n",
        "        5.0\n",
        "    \"\"\"\n",
        "\n",
        "    total_los = 0\n",
        "    num_encounters = 0\n",
        "\n",
        "    for encounter in encounters.values():\n",
        "        admit_date = encounter[\"admit\"]\n",
        "        discharge_date = encounter[\"discharge\"]\n",
        "        los = (discharge_date - admit_date).days\n",
        "\n",
        "        if los > 0:\n",
        "            total_los += los\n",
        "            num_encounters += 1\n",
        "\n",
        "    if num_encounters > 0:\n",
        "        return total_los / num_encounters\n",
        "    else:\n",
        "        return 0\n",
        "\n",
        "\n",
        "### END SOLUTION"
      ]
    },
    {
      "cell_type": "code",
      "execution_count": 24,
      "metadata": {
        "id": "8eerlQqBEJ7L"
      },
      "outputs": [],
      "source": [
        "from datetime import date\n",
        "encounters = {\n",
        "    \"E1234\": { \"admit\": date(2019,1,3), \"diagnosis\": \"COPD\", \"discharge\": date(2019,1,8) },\n",
        "    \"E8342\": { \"admit\": date(2019,1,5), \"diagnosis\": \"Hypertension\", \"discharge\": date(2019,1,9) },\n",
        "    \"E9231\": { \"admit\": date(2019,1,12), \"diagnosis\": \"Anxiety\", \"discharge\": date(2019,1,13) },\n",
        "    \"E8333\": { \"admit\": date(2019,1,15), \"diagnosis\": \"Observation\", \"discharge\": date(2019,1,16) },\n",
        "    \"E3342\": { \"admit\": date(2019,1,4), \"diagnosis\": \"Anxiety\", \"discharge\": date(2019,1,4)}\n",
        "}\n",
        "\n",
        "assert(average_los(encounters)) == 2.75"
      ]
    },
    {
      "cell_type": "code",
      "execution_count": 25,
      "metadata": {
        "id": "-wTtCOqTEJ7L",
        "outputId": "c3d72dc4-4631-4f52-e3aa-42ab8ff87c8a",
        "colab": {
          "base_uri": "https://localhost:8080/"
        }
      },
      "outputs": [
        {
          "output_type": "stream",
          "name": "stdout",
          "text": [
            "Finding tests in NoName\n",
            "Trying:\n",
            "    test1 = {\n",
            "        \"E1234\": {\"admit\": date(2019, 1, 3), \"diagnosis\": \"COPD\", \"discharge\": date(2019, 1, 8)}\n",
            "    }\n",
            "Expecting nothing\n",
            "ok\n",
            "Trying:\n",
            "    average_los(test1)\n",
            "Expecting:\n",
            "    5.0\n",
            "ok\n"
          ]
        }
      ],
      "source": [
        "import doctest\n",
        "doctest.run_docstring_examples(average_los, globals(), verbose=True)"
      ]
    },
    {
      "cell_type": "markdown",
      "metadata": {
        "id": "S9vRpQx3EJ7L"
      },
      "source": [
        "---\n",
        "\n",
        "### 5.5 Celsius to Farenheit\n",
        "\n",
        "Write your own function called `c_to_f` that converts degrees Celsius to degrees Farenheit.  Include in your solution a series of doc tests that can verify the conversion using inputs of 100, 0, and 37 degrees Celsius"
      ]
    },
    {
      "cell_type": "code",
      "execution_count": 26,
      "metadata": {
        "id": "pnJzwqMDEJ7L"
      },
      "outputs": [],
      "source": [
        "### BEGIN SOLUTION\n",
        "def c_to_f(temp_c):\n",
        "    \"\"\"\n",
        "    Converts temperature from Celsius to Fahrenheit.\n",
        "\n",
        "    Args:\n",
        "        temp_c (float): The temperature in Celsius.\n",
        "\n",
        "    Returns:\n",
        "        float: The temperature converted to Fahrenheit.\n",
        "\n",
        "    Examples:\n",
        "    >>> c_to_f(100)\n",
        "    212.0\n",
        "    >>> c_to_f(0)\n",
        "    32.0\n",
        "    >>> c_to_f(37)\n",
        "    98.6\n",
        "    \"\"\"\n",
        "    temp_f = (9/5) * temp_c + 32\n",
        "    return round(temp_f, 1)\n",
        "\n",
        "\n",
        "### END SOLUTION"
      ]
    },
    {
      "cell_type": "code",
      "execution_count": 27,
      "metadata": {
        "id": "z75Yh90wEJ7L",
        "outputId": "3bf2092c-4d46-457f-a845-3566cf828e8c",
        "colab": {
          "base_uri": "https://localhost:8080/"
        }
      },
      "outputs": [
        {
          "output_type": "stream",
          "name": "stdout",
          "text": [
            "Finding tests in NoName\n",
            "Trying:\n",
            "    c_to_f(100)\n",
            "Expecting:\n",
            "    212.0\n",
            "ok\n",
            "Trying:\n",
            "    c_to_f(0)\n",
            "Expecting:\n",
            "    32.0\n",
            "ok\n",
            "Trying:\n",
            "    c_to_f(37)\n",
            "Expecting:\n",
            "    98.6\n",
            "ok\n"
          ]
        }
      ],
      "source": [
        "import doctest\n",
        "doctest.run_docstring_examples(c_to_f, globals(), verbose=True)"
      ]
    },
    {
      "cell_type": "code",
      "execution_count": 27,
      "metadata": {
        "id": "sViLdACXEJ7L"
      },
      "outputs": [],
      "source": []
    },
    {
      "cell_type": "markdown",
      "metadata": {
        "id": "P-YDv1ntEJ7L"
      },
      "source": [
        "---\n",
        "\n",
        "## Check your work above\n",
        "\n",
        "If you didn't get them all correct, take a few minutes to think through those that aren't correct.\n",
        "\n",
        "\n",
        "## Submitting Your Work\n",
        "\n",
        "In order to submit your work, you'll need to use the `git` command line program to **add** your homework file (this file) to your local repository, **commit** your changes to your local repository, and then **push** those changes up to github.com.  From there, I'll be able to **pull** the changes down and do my grading.  I'll provide some feedback, **commit** and **push** my comments back to you.  Next week, I'll show you how to **pull** down my comments.\n",
        "\n",
        "First run through everything one last time and submit your work:\n",
        "1. Use the `Kernel` -> `Restart Kernel and Run All Cells` menu option to run everything from top to bottom and stop here.\n",
        "2. Then open a new command line by clicking the `+` icon above the file list and chosing `Terminal`\n",
        "3. At the command line in the new Terminal, follow these steps:\n",
        "  1. Change directories to your project folder and the week03 subfolder (`cd <folder name>`)\n",
        "  2. Make sure your project folders are up to date with github.com (`git pull`)\n",
        "  3. Add the homework files for this week (`git add <file name>`)\n",
        "  4. Commit your changes (`git commit -a -m \"message\"`)\n",
        "  5. Push your changes (`git push`)\n",
        "  \n",
        "If anything fails along the way with this submission part of the process, let me know.  I'll help you troubleshoort."
      ]
    }
  ],
  "metadata": {
    "celltoolbar": "Create Assignment",
    "kernelspec": {
      "display_name": "Python 3",
      "language": "python",
      "name": "python3"
    },
    "language_info": {
      "codemirror_mode": {
        "name": "ipython",
        "version": 3
      },
      "file_extension": ".py",
      "mimetype": "text/x-python",
      "name": "python",
      "nbconvert_exporter": "python",
      "pygments_lexer": "ipython3",
      "version": "3.6.7"
    },
    "colab": {
      "provenance": []
    }
  },
  "nbformat": 4,
  "nbformat_minor": 0
}