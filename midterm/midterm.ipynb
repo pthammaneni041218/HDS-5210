{
  "cells": [
    {
      "cell_type": "markdown",
      "metadata": {
        "id": "RhEFNHt5cSUp"
      },
      "source": [
        "### Mid-term for HDS5210\n",
        "\n",
        "Your supervisor is concerned about 4-year survival risks for COPD. She has asked for you to do some analysis using a new metric, BODE. BODE is an improvement on a previous metric and promises to provide insight on survival risks.\n",
        "\n",
        "BODE is defined here. https://www.mdcalc.com/calc/3916/bode-index-copd-survival#evidence\n",
        "\n",
        "Your assignment is to create a BODE calculation, use it to calculate BODE scores and BODE survival rates for a group of patients. Then we want to evaluate the average BODE scores and BODE survival rates for each area hospital.\n",
        "\n",
        "Your patient input file will have the following columns:\n",
        "NAME,SSN,LANGUAGE,JOB,HEIGHT_M,WEIGHT_KG,fev_pct,dyspnea_description,distance_in_meters,hospital\n",
        "\n",
        "BODE calculations require a BMI value, so you will have to create a function for it.\n",
        "\n",
        "Your output should be in the form of two CSV files, patient_output.csv and hospital_output.csv.\n",
        "\n",
        "Patient_output will have the following columns:\n",
        "NAME,BODE_SCORE,BODE_RISK,HOSPITAL\n",
        "\n",
        "Hospital output will have the following columns:\n",
        "HOSPITAL_NAME, COPD_COUNT, PCT_OF_COPD_CASES_OVER_BEDS, AVG_SCORE, AVG_RISK\n",
        "\n",
        "Each function you create should have documentation and a suitable number of test cases. If the input data could be wrong, make sure to raise a Value Error.\n",
        "\n",
        "For this assignment, use the doctest, json, and csv libraries. Pandas is not allowed for this assignment."
      ]
    },
    {
      "cell_type": "code",
      "execution_count": 43,
      "metadata": {
        "id": "zRbSAmkScSUq"
      },
      "outputs": [],
      "source": [
        "import doctest\n",
        "import json\n",
        "import csv"
      ]
    },
    {
      "cell_type": "markdown",
      "metadata": {
        "id": "fY85CTN6cSUq"
      },
      "source": [
        "### Step 1: Calculate BMI"
      ]
    },
    {
      "cell_type": "code",
      "execution_count": 44,
      "metadata": {
        "id": "FqzTDIY4cSUq"
      },
      "outputs": [],
      "source": [
        "def calc_bmi(weight, height):\n",
        "    \"\"\"\n",
        "    This function calculate BMI for patient.\n",
        "\n",
        "    Args:\n",
        "    weight (float): This is weight of patient in kilogram.\n",
        "    height (float): This is height of patient in meters.\n",
        "\n",
        "    Returns:\n",
        "    float: The BMI of patient, rounded to 2 decimal places.\n",
        "    \"\"\"\n",
        "\n",
        "    # First we use the formula for BMI: weight / (height in meters squared) as per week 1 assignment\n",
        "    bmi_value = weight / (height ** 2)\n",
        "\n",
        "    # Now we need to round off the BMI to two decimal places to make it easy to read\n",
        "    return round(bmi_value, 2)\n"
      ]
    },
    {
      "cell_type": "markdown",
      "metadata": {
        "id": "tIQdlFmpcSUq"
      },
      "source": [
        "### Step 2: Calculate BODE Score"
      ]
    },
    {
      "cell_type": "code",
      "execution_count": 45,
      "metadata": {
        "id": "vqPaVeXZcSUq"
      },
      "outputs": [],
      "source": [
        "def calc_bode(bmi, fev1, dyspnea, walk_distance):\n",
        "    \"\"\"\n",
        "    This function calculate BODE score for COPD patient. BODE score helps to know how bad the patient condition is.\n",
        "\n",
        "    Args:\n",
        "    bmi (float): The BMI of patient.\n",
        "    fev1 (float): The breathing test result as percentage.\n",
        "    dyspnea (int): How much difficulty patient has in breathing, rated from 0 to 4.\n",
        "    walk_distance (int): Distance patient walked in meters during test.\n",
        "\n",
        "    Returns:\n",
        "    int: Total BODE score for patient. (sum of bmi, fev1, syspnea, walk_distance)\n",
        "    \"\"\"\n",
        "\n",
        "    # First we will start with a score of 0 and continue to add points based on the patient's condition.\n",
        "    score = 0\n",
        "\n",
        "    # If BMI is less than 21, patient gets 1 point because low weight is bad\n",
        "    if bmi < 21:\n",
        "        score += 1\n",
        "\n",
        "    # Next, we check FEV1 percent (how good lungs work). The worse it is, the more points\n",
        "    if fev1 < 36:\n",
        "        score += 3\n",
        "    elif fev1 < 50:\n",
        "        score += 2\n",
        "    elif fev1 < 65:\n",
        "        score += 1\n",
        "\n",
        "    # We add the dyspnea score directly, more difficulty breathing means more points\n",
        "    score += dyspnea\n",
        "\n",
        "    # Now check how far patient can walk. Less walking means more points because it shows weaker condition\n",
        "    if walk_distance < 150:\n",
        "        score += 3\n",
        "    elif walk_distance < 250:\n",
        "        score += 2\n",
        "    elif walk_distance < 350:\n",
        "        score += 1\n",
        "\n",
        "    # Return the total score after adding all the points\n",
        "    return score\n"
      ]
    },
    {
      "cell_type": "markdown",
      "metadata": {
        "id": "LMaRgbJfcSUr"
      },
      "source": [
        "### Step 3: Calculate BODE Risk"
      ]
    },
    {
      "cell_type": "code",
      "execution_count": 46,
      "metadata": {
        "id": "lLlnWqT1cSUr"
      },
      "outputs": [],
      "source": [
        "def calc_bode_risk(bode_score):\n",
        "    \"\"\"\n",
        "    This function calculates the BODE risk category based on the BODE score.\n",
        "\n",
        "    Args:\n",
        "    bode_score (int): The total BODE score of the patient.\n",
        "\n",
        "    Returns:\n",
        "    str: The risk category (\"Low\", \"Moderate\", \"High\", \"Very High\").\n",
        "\n",
        "    Example:\n",
        "    >>> calc_bode_risk(3)\n",
        "    'Moderate'\n",
        "    \"\"\"\n",
        "\n",
        "    # In this we mainly need to decide the risk category based on the BODE score obtained from the previous code in step 2\n",
        "    if bode_score <= 2:\n",
        "        return \"Low\"\n",
        "    elif bode_score <= 4:\n",
        "        return \"Moderate\"\n",
        "    elif bode_score <= 6:\n",
        "        return \"High\"\n",
        "    else:\n",
        "        return \"Very High\"\n"
      ]
    },
    {
      "cell_type": "markdown",
      "metadata": {
        "id": "x9W5li_zcSUr"
      },
      "source": [
        "### Step 4: Load Hospital Data"
      ]
    },
    {
      "cell_type": "code",
      "execution_count": 47,
      "metadata": {
        "id": "IDUaYVBycSUr"
      },
      "outputs": [],
      "source": [
        "def load_hospital_data(hospital_file):\n",
        "    \"\"\"\n",
        "    This function loads hospital data from a JSON file.\n",
        "\n",
        "    Args:\n",
        "    hospital_file (str): The path to the hospital JSON file.\n",
        "\n",
        "    Returns:\n",
        "    dict: The hospital data.\n",
        "\n",
        "    Example:\n",
        "    >>> load_hospital_data(\"hospitals.json\")\n",
        "    {'Hospital A': 100, 'Hospital B': 50}\n",
        "    \"\"\"\n",
        "\n",
        "    # In this we will open the JSON file and load the data into a Python dictionary for further analysis and review of the patient condition\n",
        "    with open(hospital_file, 'r') as file:\n",
        "        data = json.load(file)\n",
        "\n",
        "    return data\n"
      ]
    },
    {
      "cell_type": "markdown",
      "metadata": {
        "id": "c2coFDdIcSUr"
      },
      "source": [
        "### Step 5: Main business logic\n",
        "\n",
        "Call BODE Score, BODE Risk functions for each patient.\n",
        "\n",
        "For each hospital, calculate Avg BODE score and Avg BODE risk and count the number of cases for each hospital."
      ]
    },
    {
      "cell_type": "code",
      "execution_count": 48,
      "metadata": {
        "id": "J0eeKHlGcSUr"
      },
      "outputs": [],
      "source": [
        "def process_patients(patient_file, hospital_file, patient_output, hospital_output):\n",
        "    \"\"\"\n",
        "    This function processes the patient data to calculate BODE scores and risk levels.\n",
        "    It also generates hospital-level summaries.\n",
        "\n",
        "    Args:\n",
        "    patient_file (str): Path to the CSV file with patient data.\n",
        "    hospital_file (str): Path to the JSON file with hospital data.\n",
        "    patient_output (str): Path to save the patient output CSV file.\n",
        "    hospital_output (str): Path to save the hospital output CSV file.\n",
        "\n",
        "    Returns:\n",
        "    None\n",
        "    \"\"\"\n",
        "\n",
        "    # First we need to open the patient CSV file and read the data present to procede further\n",
        "    with open(patient_file, 'r') as file:\n",
        "        reader = csv.DictReader(file)\n",
        "\n",
        "        # Next we will create a list to store patient results\n",
        "        patient_results = []\n",
        "\n",
        "        # Then, create a dictionary to store hospital summary data\n",
        "        hospital_summary = {}\n",
        "\n",
        "        for row in reader:\n",
        "            # Extract patient details\n",
        "            name = row['NAME']\n",
        "            height = float(row['HEIGHT_M'])\n",
        "            weight = float(row['WEIGHT_KG'])\n",
        "            fev1 = float(row['fev_pct'])\n",
        "            dyspnea = int(row['dyspnea_description'])\n",
        "            walk_distance = int(row['distance_in_meters'])\n",
        "            hospital = row['hospital']\n",
        "\n",
        "            # Calculate BMI\n",
        "            bmi = calc_bmi(weight, height)\n",
        "\n",
        "            # Calculate BODE score\n",
        "            bode_score = calc_bode(bmi, fev1, dyspnea, walk_distance)\n",
        "\n",
        "            # Calculate BODE risk\n",
        "            bode_risk = calc_bode_risk(bode_score)\n",
        "\n",
        "            # Append the patient results to the list\n",
        "            patient_results.append({\n",
        "                'NAME': name,\n",
        "                'BODE_SCORE': bode_score,\n",
        "                'BODE_RISK': bode_risk,\n",
        "                'HOSPITAL': hospital\n",
        "            })\n",
        "\n",
        "            # Update the hospital summary data\n",
        "            if hospital not in hospital_summary:\n",
        "                hospital_summary[hospital] = {\n",
        "                    'COPD_COUNT': 0,\n",
        "                    'TOTAL_SCORE': 0,\n",
        "                    'TOTAL_RISK': 0\n",
        "                }\n",
        "\n",
        "            hospital_summary[hospital]['COPD_COUNT'] += 1\n",
        "            hospital_summary[hospital]['TOTAL_SCORE'] += bode_score\n",
        "            hospital_summary[hospital]['TOTAL_RISK'] += 1 if bode_risk == 'High' or bode_risk == 'Very High' else 0\n",
        "\n",
        "        # Write patient output to CSV file\n",
        "        with open(patient_output, 'w', newline='') as file:\n",
        "            writer = csv.DictWriter(file, fieldnames=['NAME', 'BODE_SCORE', 'BODE_RISK', 'HOSPITAL'])\n",
        "            writer.writeheader()\n",
        "            writer.writerows(patient_results)\n",
        "\n",
        "        # Write hospital output to CSV file\n",
        "        with open(hospital_output, 'w', newline='') as file:\n",
        "            writer = csv.DictWriter(file, fieldnames=['HOSPITAL_NAME', 'COPD_COUNT', 'AVG_SCORE', 'AVG_RISK'])\n",
        "            writer.writeheader()\n",
        "            for hospital, data in hospital_summary.items():\n",
        "                writer.writerow({\n",
        "                    'HOSPITAL_NAME': hospital,\n",
        "                    'COPD_COUNT': data['COPD_COUNT'],\n",
        "                    'AVG_SCORE': round(data['TOTAL_SCORE'] / data['COPD_COUNT'], 2),\n",
        "                    'AVG_RISK': round(data['TOTAL_RISK'] / data['COPD_COUNT'] * 100, 2)\n",
        "                })\n"
      ]
    }
  ],
  "metadata": {
    "language_info": {
      "name": "python"
    },
    "colab": {
      "provenance": []
    },
    "kernelspec": {
      "name": "python3",
      "display_name": "Python 3"
    }
  },
  "nbformat": 4,
  "nbformat_minor": 0
}