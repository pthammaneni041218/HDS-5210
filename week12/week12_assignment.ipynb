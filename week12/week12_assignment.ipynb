{
  "cells": [
    {
      "cell_type": "markdown",
      "metadata": {
        "id": "view-in-github",
        "colab_type": "text"
      },
      "source": [
        "<a href=\"https://colab.research.google.com/github/pthammaneni041218/HDS-5210/blob/main/week12/week12_assignment.ipynb\" target=\"_parent\"><img src=\"https://colab.research.google.com/assets/colab-badge.svg\" alt=\"Open In Colab\"/></a>"
      ]
    },
    {
      "cell_type": "markdown",
      "metadata": {
        "nbgrader": {
          "grade": false,
          "grade_id": "intro",
          "locked": true,
          "schema_version": 1,
          "solution": false
        },
        "id": "vXbZ485KlCr-"
      },
      "source": [
        "# Week 12 Assignment\n",
        "\n",
        "# PART 1 - Pivoting Data for Fun!\n",
        "\n",
        "In this exercise, we're going to work with data about condemned buildings in St. Louis.  This data set is in `/data/condemn.txt` in CSV format."
      ]
    },
    {
      "cell_type": "markdown",
      "metadata": {
        "nbgrader": {
          "grade": false,
          "grade_id": "q1-intro",
          "locked": true,
          "schema_version": 1,
          "solution": false
        },
        "id": "4j5MDV6LlCr_"
      },
      "source": [
        "## STEP 1: Load and Filter data\n",
        "\n",
        "For this analysis, we want to look only at a relevent range of years and only years that are in teh past.  So, let's first take a look at the data between 1986 and 2014 (inclusive of those dates).\n",
        "\n",
        "At the end of this step, you should have a data frame loaded from the condemnations file and filtered down to only the data between 1986 and 2014.  Put that into a dataframe named `condemnations`\n",
        "\n",
        "**Some helpful notes:**\n",
        "* Use the columns `InspectDate` to filter this date range"
      ]
    },
    {
      "cell_type": "code",
      "execution_count": 30,
      "metadata": {
        "nbgrader": {
          "grade": false,
          "grade_id": "q1-solution",
          "locked": false,
          "schema_version": 1,
          "solution": true
        },
        "colab": {
          "base_uri": "https://localhost:8080/"
        },
        "id": "nn7CPhlPlCsA",
        "outputId": "f5b1e75b-9d4f-47a7-8b1a-f89b733b24d6"
      },
      "outputs": [
        {
          "output_type": "stream",
          "name": "stderr",
          "text": [
            "<ipython-input-30-f6498e1707b1>:20: DtypeWarning: Columns (2,8,35,36) have mixed types. Specify dtype option on import or set low_memory=False.\n",
            "  condemnations = pd.read_csv(filepath, parse_dates=['InspectDate'])\n"
          ]
        }
      ],
      "source": [
        "import pandas as pd\n",
        "\n",
        "def load_and_filter_data(filepath):\n",
        "    \"\"\"\n",
        "    Load data from a CSV file and filter to include only dates between 1986 and 2014.\n",
        "\n",
        "    Args:\n",
        "        filepath (str): Path to the CSV file.\n",
        "\n",
        "    Returns:\n",
        "        pd.DataFrame: Filtered data frame.\n",
        "\n",
        "    >>> df = load_and_filter_data('/content/condemn.txt')\n",
        "    >>> df[df['InspectDate'] < '1986'].empty\n",
        "    True\n",
        "    >>> df[df['InspectDate'] >= '2015'].empty\n",
        "    True\n",
        "    \"\"\"\n",
        "    # First we need to load the data and parse the 'InspectDate' as datetime\n",
        "    condemnations = pd.read_csv(filepath, parse_dates=['InspectDate'])\n",
        "\n",
        "    # Next, we have to filter the data to only include records with InspectDate between 1986 and 2014\n",
        "    filtered_data = condemnations[\n",
        "        (condemnations['InspectDate'].dt.year >= 1986) &\n",
        "        (condemnations['InspectDate'].dt.year <= 2014)\n",
        "    ]\n",
        "    return filtered_data\n",
        "\n",
        "# This step, Loads and filter data\n",
        "condemnations = load_and_filter_data('/content/condemn.txt')\n"
      ]
    },
    {
      "cell_type": "code",
      "execution_count": 31,
      "metadata": {
        "nbgrader": {
          "grade": true,
          "grade_id": "q1-tests",
          "locked": true,
          "points": 6,
          "schema_version": 1,
          "solution": false
        },
        "id": "MDNL7U5rlCsA"
      },
      "outputs": [],
      "source": [
        "assert(condemnations.shape == (30232, 40))\n",
        "assert(len(condemnations[condemnations['InspectDate'] < '1986'])==0)\n",
        "assert(len(condemnations[condemnations['InspectDate'] >= '2015'])==0)"
      ]
    },
    {
      "cell_type": "markdown",
      "metadata": {
        "nbgrader": {
          "grade": false,
          "grade_id": "q2-intro",
          "locked": true,
          "schema_version": 1,
          "solution": false
        },
        "id": "ar3JVNs1lCsA"
      },
      "source": [
        "## STEP 2: Pivot and Summarize\n",
        "\n",
        "In this step we want to pivot our data so that we have one row per year, a column for each value that appears in the `Status` column, and a count of how many condemnations occurred of each type in each year.  Put your summary pivot table into a variable called `by_year`.\n",
        "\n",
        "**Some helpful notes:**\n",
        "* For some reason, Pandas is just kind of stubborn about count being the aggregate function.  You may need to tell it to `np.ma.count` specifically.  I've imported Numpy as np for you."
      ]
    },
    {
      "cell_type": "code",
      "execution_count": 32,
      "metadata": {
        "id": "u8VM8UuClCsA"
      },
      "outputs": [],
      "source": [
        "import numpy as np\n",
        "\n",
        "def pivot_data(df):\n",
        "    \"\"\"\n",
        "    Pivot the data to summarize condemnation counts by year and status type.\n",
        "\n",
        "    Args:\n",
        "        df (pd.DataFrame): Filtered data frame.\n",
        "\n",
        "    Returns:\n",
        "        pd.DataFrame: Pivot table with counts by year and status.\n",
        "\n",
        "    >>> by_year = pivot_data(condemnations)\n",
        "    >>> by_year.shape\n",
        "    (29, 4)\n",
        "    >>> list(by_year.columns)\n",
        "    ['B', 'L', 'R', 'W']\n",
        "    >>> list(by_year.sum())\n",
        "    [10572, 4966, 98, 9670]\n",
        "    \"\"\"\n",
        "    # In this step, we have to extract year from 'InspectDate' and add as a new column\n",
        "    df['Year'] = df['InspectDate'].dt.year\n",
        "\n",
        "    # Now, create a pivot table with 'Year' as the index, 'Status' as columns, and count each status type\n",
        "    by_year = df.pivot_table(index='Year', columns='Status', values='InspectDate', aggfunc=np.ma.count)\n",
        "\n",
        "    return by_year\n",
        "\n",
        "# Create pivot table\n",
        "by_year = pivot_data(condemnations)\n"
      ]
    },
    {
      "cell_type": "code",
      "execution_count": 33,
      "metadata": {
        "nbgrader": {
          "grade": true,
          "grade_id": "q2-tests",
          "locked": true,
          "points": 6,
          "schema_version": 1,
          "solution": false
        },
        "id": "k8uZ5NrDlCsA"
      },
      "outputs": [],
      "source": [
        "assert(by_year.shape == (29, 4))\n",
        "assert(list(by_year.columns) == ['B', 'L', 'R', 'W'])\n",
        "assert(list(by_year.sum()) == [10572, 4966, 98, 9670])"
      ]
    },
    {
      "cell_type": "markdown",
      "metadata": {
        "nbgrader": {
          "grade": false,
          "grade_id": "q3-intro",
          "locked": true,
          "schema_version": 1,
          "solution": false
        },
        "id": "fxPG5bCwlCsB"
      },
      "source": [
        "## STEP 3: Plot and see what you see\n",
        "\n",
        "Use Pandas built-in plotting capabilities to visualize this information in way that you think makes sense.  It might be that plotting a simple multi-series line chart would give you some insights.  Show your plot in the cell below, then use the text cell below that to write a few sentences about what you see.\n"
      ]
    },
    {
      "cell_type": "code",
      "execution_count": 34,
      "metadata": {
        "nbgrader": {
          "grade": true,
          "grade_id": "q3-manual",
          "locked": false,
          "points": 5,
          "schema_version": 1,
          "solution": true
        },
        "colab": {
          "base_uri": "https://localhost:8080/",
          "height": 466
        },
        "id": "OGGQLKDylCsB",
        "outputId": "f42331bc-3e96-49c9-9a0a-52524f797160"
      },
      "outputs": [
        {
          "output_type": "execute_result",
          "data": {
            "text/plain": [
              "<Axes: xlabel='Year'>"
            ]
          },
          "metadata": {},
          "execution_count": 34
        },
        {
          "output_type": "display_data",
          "data": {
            "text/plain": [
              "<Figure size 640x480 with 1 Axes>"
            ],
            "image/png": "[encoded data removed]"
          },
          "metadata": {}
        }
      ],
      "source": [
        "%matplotlib inline\n",
        "by_year.plot()"
      ]
    },
    {
      "cell_type": "markdown",
      "metadata": {
        "id": "RW3MdW7wlCsB"
      },
      "source": [
        "---"
      ]
    },
    {
      "cell_type": "code",
      "execution_count": 35,
      "metadata": {
        "colab": {
          "base_uri": "https://localhost:8080/",
          "height": 522
        },
        "id": "iJOHN0NslCsB",
        "outputId": "be1e0c62-78a3-413b-e58a-84c64111f16c"
      },
      "outputs": [
        {
          "output_type": "display_data",
          "data": {
            "text/plain": [
              "<Figure size 1000x600 with 1 Axes>"
            ],
            "image/png": "[encoded data removed]"
          },
          "metadata": {}
        }
      ],
      "source": [
        "import matplotlib.pyplot as plt\n",
        "\n",
        "def plot_data_bar(by_year):\n",
        "    \"\"\"\n",
        "    Plot the yearly condemnation counts by status using a bar chart.\n",
        "\n",
        "    Args:\n",
        "        by_year (pd.DataFrame): Pivoted data frame with yearly counts by status.\n",
        "    \"\"\"\n",
        "    ax = by_year.plot(kind='bar', title=\"Yearly Condemnation Counts by Status\", figsize=(10, 6))\n",
        "    plt.xlabel(\"Year\")\n",
        "    plt.ylabel(\"Count\")\n",
        "    plt.legend(title=\"Status\", bbox_to_anchor=(1.05, 1), loc='upper left')\n",
        "    plt.tight_layout()\n",
        "    plt.show()\n",
        "plot_data_bar(by_year)\n"
      ]
    },
    {
      "cell_type": "markdown",
      "metadata": {
        "id": "FH5l3deRlCsB"
      },
      "source": [
        "# PART 2 - Video Conference Usage\n",
        "\n",
        "In this next part of the assignment, we'll be looking at how video conference usage changed during the beginning of COVID-19.  This real data.  Please don't judge anyone based on the information here.  ;)  The data is in the `/data/meetings.csv` file.\n",
        "\n",
        "For the assignment, I want you to compare (by person) the number of meetings hosted by each user for the last two weeks of February and the last two weeks of March.  This might be a little complicated to think through HOW to do that, so the steps below are one approach.\n",
        "\n",
        "1. Create a new column called startDate that contains just the day part of the startTime column in the data.  You can do that using datetime functions if you want, but you'll notice that the date in this file is a string formatted YYYY-MM-DD-HH:mm:ss, so it's probably easier just to pull out the first 10 characters of the string instead.  `meetings['startTime'].str[0:10]`\n",
        "2. Create another new column.  This one should contain a label like \"BEFORE\" for the week 2/17 - 2/28 and \"DURING\" for the week of 3/16 - 3/27.  A hand tip on this is that you can set values for some rows in a data frame using `meetings.loc[row_filter,'Column Name'] = 'Value'` if you've created a `row_filter` as we discussed in prior weeks.\n",
        "3. From here, using `pivot_table()` is one good way to summarize the information.\n",
        "\n",
        "**FINAL RESULT**\n",
        "\n",
        "For a final result, I'd like you to produce a data frame named **summary** that contains:\n",
        "* One ROW for each userName.  The userName can either be the row index or a column in the data frame.\n",
        "* One COLUMN for the \"BEFORE\" week and one COLUMN for the \"DURING\" week.  Name those columns 'Before' and 'During'.\n",
        "* One more calculated column that shows the percent increase from BEFORE to DURING.  Name that column 'pctChange'.\n"
      ]
    },
    {
      "cell_type": "code",
      "execution_count": 36,
      "metadata": {
        "id": "cDKdvifJlCsB"
      },
      "outputs": [],
      "source": [
        "import pandas as pd\n",
        "\n",
        "def load_meeting_data(filepath):\n",
        "    \"\"\"\n",
        "    Load meeting data from the CSV file and create a 'startDate' column containing just the date part of the 'startTime'.\n",
        "\n",
        "    Args:\n",
        "        filepath (str): Path to the CSV file.\n",
        "\n",
        "    Returns:\n",
        "        pd.DataFrame: The data with the new 'startDate' column.\n",
        "\n",
        "    >>> df = load_meeting_data('/content/meetings.csv')\n",
        "    >>> 'startDate' in df.columns\n",
        "    True\n",
        "    >>> df['startDate'].iloc[0]\n",
        "    '2020-02-17'\n",
        "    \"\"\"\n",
        "    # Initially, we have to Load the meeting data\n",
        "    meetings = pd.read_csv(filepath)\n",
        "\n",
        "    # Then, we have to extract the date part from the 'startTime' column and create a new column 'startDate'\n",
        "    meetings['startDate'] = meetings['startTime'].str[0:10]\n",
        "\n",
        "    return meetings\n",
        "\n",
        "# Load the data\n",
        "meetings = load_meeting_data('/content/meetings.csv')"
      ]
    },
    {
      "cell_type": "code",
      "execution_count": 37,
      "metadata": {
        "id": "SW9fJlS4lCsB"
      },
      "outputs": [],
      "source": [
        "def label_weeks(df):\n",
        "    \"\"\"\n",
        "    Create a new column 'weekLabel' to categorize meetings as \"BEFORE\" or \"DURING\" the specified weeks.\n",
        "\n",
        "    Args:\n",
        "        df (pd.DataFrame): The meeting data with a 'startDate' column.\n",
        "\n",
        "    Returns:\n",
        "        pd.DataFrame: The data with the new 'weekLabel' column.\n",
        "\n",
        "    >>> df = label_weeks(meetings)\n",
        "    >>> df['weekLabel'].value_counts()\n",
        "    BEFORE     X\n",
        "    DURING     Y\n",
        "    \"\"\"\n",
        "    # First we have to define the date ranges for 'BEFORE' and 'DURING'\n",
        "    before = df['startDate'].between('2020-02-17', '2020-02-28')\n",
        "    during = df['startDate'].between('2020-03-16', '2020-03-27')\n",
        "\n",
        "    # Then assign labels to the 'weekLabel' column based on the date ranges\n",
        "    df.loc[before, 'weekLabel'] = 'BEFORE'\n",
        "    df.loc[during, 'weekLabel'] = 'DURING'\n",
        "\n",
        "    return df\n",
        "\n",
        "# Label the weeks\n",
        "meetings = label_weeks(meetings)\n"
      ]
    },
    {
      "cell_type": "markdown",
      "metadata": {
        "id": "cdzY2EZ7lCsB"
      },
      "source": [
        "---"
      ]
    },
    {
      "cell_type": "code",
      "source": [
        "def summarize_meetings(df):\n",
        "    \"\"\"\n",
        "    Create a pivot table to summarize the number of meetings hosted by each user before and during COVID-19.\n",
        "\n",
        "    Args:\n",
        "        df (pd.DataFrame): The meeting data with the 'weekLabel' column.\n",
        "\n",
        "    Returns:\n",
        "        pd.DataFrame: A summary DataFrame with the meeting counts for each user and week.\n",
        "\n",
        "    >>> summary = summarize_meetings(meetings)\n",
        "    >>> summary.shape\n",
        "    (22, 3)\n",
        "    >>> summary['Before'].sum()  # Check total meetings before\n",
        "    100  # Adjust based on actual data\n",
        "    >>> summary['During'].sum()  # Check total meetings during\n",
        "    150  # Adjust based on actual data\n",
        "    \"\"\"\n",
        "    # Now we have to reate a pivot table to summarize the number of meetings hosted by each user and week\n",
        "    summary = df.pivot_table(index='userName', columns='weekLabel', values='meeting_uuid', aggfunc='count')\n",
        "\n",
        "    # Then rename columns to 'Before' and 'During' for clarity\n",
        "    summary = summary.rename(columns={'BEFORE': 'Before', 'DURING': 'During'})\n",
        "\n",
        "    # Now handle missing values in 'Before' or 'During'\n",
        "    summary = summary.fillna(0)\n",
        "\n",
        "    # This step calculates the percentage change from Before to During\n",
        "    summary['pctChange'] = (summary['During'] - summary['Before']) / summary['Before']\n",
        "\n",
        "    # Returning the summary DataFrame\n",
        "    return summary\n",
        "\n",
        "# Summarize the meetings data\n",
        "summary = summarize_meetings(meetings)\n",
        "\n",
        "# Inspect the pctChange column\n",
        "print(\"Summary of pctChange:\")\n",
        "print(summary['pctChange'].describe())\n",
        "\n",
        "# Display the summary DataFrame\n",
        "print(\"Summary DataFrame:\")\n",
        "print(summary)"
      ],
      "metadata": {
        "colab": {
          "base_uri": "https://localhost:8080/"
        },
        "id": "x1tQHmAKorWX",
        "outputId": "e28f6392-6d08-4ecd-a946-195fd47bc48f"
      },
      "execution_count": 38,
      "outputs": [
        {
          "output_type": "stream",
          "name": "stdout",
          "text": [
            "Summary of pctChange:\n",
            "count    22.000000\n",
            "mean      0.915164\n",
            "std       1.835919\n",
            "min      -1.000000\n",
            "25%      -0.212500\n",
            "50%       0.782353\n",
            "75%       1.300000\n",
            "max       8.000000\n",
            "Name: pctChange, dtype: float64\n",
            "Summary DataFrame:\n",
            "weekLabel                       Before  During  pctChange\n",
            "userName                                                 \n",
            "Drew.Marco                        12.0    19.0   0.583333\n",
            "amit.bhagat                       17.0    30.0   0.764706\n",
            "andrea.bryant.amitechsolutions     5.0     3.0  -0.400000\n",
            "angie.warren                       5.0     9.0   0.800000\n",
            "chris.rogers.amitechsolutions      4.0     3.0  -0.250000\n",
            "eric.keeney                       15.0    27.0   0.800000\n",
            "eric.rodman                        4.0    12.0   2.000000\n",
            "jeff.hatfield.amitechsolutions    13.0    26.0   1.000000\n",
            "jennifer.patton.amitechs           5.0     7.0   0.400000\n",
            "jessica.sikora                     3.0     7.0   1.333333\n",
            "matt.allsup                        5.0     0.0  -1.000000\n",
            "matt.brown.amitechsolutions        1.0     2.0   1.000000\n",
            "melissa.menne                     10.0     9.0  -0.100000\n",
            "michael.demos                      5.0    11.0   1.200000\n",
            "paul.boal                         15.0    35.0   1.333333\n",
            "paul.smith.amitechsolutions       23.0    10.0  -0.565217\n",
            "pete.cornwell                      1.0     9.0   8.000000\n",
            "raghavender.tuniki                 6.0     2.0  -0.666667\n",
            "sandip.shaw                        9.0     2.0  -0.777778\n",
            "santhosh.kanala                    2.0     6.0   2.000000\n",
            "shawn.reilly.amitechsolutions      7.0    10.0   0.428571\n",
            "tejus.maduskar                    12.0    39.0   2.250000\n"
          ]
        }
      ]
    },
    {
      "cell_type": "code",
      "source": [
        "#This displays the summary DataFrame\n",
        "summary.head()\n"
      ],
      "metadata": {
        "colab": {
          "base_uri": "https://localhost:8080/",
          "height": 237
        },
        "id": "WqGHcoO3owar",
        "outputId": "04dec18e-e6c7-42b0-a29b-f3040064f2cc"
      },
      "execution_count": 39,
      "outputs": [
        {
          "output_type": "execute_result",
          "data": {
            "text/plain": [
              "weekLabel                       Before  During  pctChange\n",
              "userName                                                 \n",
              "Drew.Marco                        12.0    19.0   0.583333\n",
              "amit.bhagat                       17.0    30.0   0.764706\n",
              "andrea.bryant.amitechsolutions     5.0     3.0  -0.400000\n",
              "angie.warren                       5.0     9.0   0.800000\n",
              "chris.rogers.amitechsolutions      4.0     3.0  -0.250000"
            ],
            "text/html": [
              "\n",
              "  <div id=\"df-318cd4be-79fd-4a5e-942b-c09b6cd83859\" class=\"colab-df-container\">\n",
              "    <div>\n",
              "<style scoped>\n",
              "    .dataframe tbody tr th:only-of-type {\n",
              "        vertical-align: middle;\n",
              "    }\n",
              "\n",
              "    .dataframe tbody tr th {\n",
              "        vertical-align: top;\n",
              "    }\n",
              "\n",
              "    .dataframe thead th {\n",
              "        text-align: right;\n",
              "    }\n",
              "</style>\n",
              "<table border=\"1\" class=\"dataframe\">\n",
              "  <thead>\n",
              "    <tr style=\"text-align: right;\">\n",
              "      <th>weekLabel</th>\n",
              "      <th>Before</th>\n",
              "      <th>During</th>\n",
              "      <th>pctChange</th>\n",
              "    </tr>\n",
              "    <tr>\n",
              "      <th>userName</th>\n",
              "      <th></th>\n",
              "      <th></th>\n",
              "      <th></th>\n",
              "    </tr>\n",
              "  </thead>\n",
              "  <tbody>\n",
              "    <tr>\n",
              "      <th>Drew.Marco</th>\n",
              "      <td>12.0</td>\n",
              "      <td>19.0</td>\n",
              "      <td>0.583333</td>\n",
              "    </tr>\n",
              "    <tr>\n",
              "      <th>amit.bhagat</th>\n",
              "      <td>17.0</td>\n",
              "      <td>30.0</td>\n",
              "      <td>0.764706</td>\n",
              "    </tr>\n",
              "    <tr>\n",
              "      <th>andrea.bryant.amitechsolutions</th>\n",
              "      <td>5.0</td>\n",
              "      <td>3.0</td>\n",
              "      <td>-0.400000</td>\n",
              "    </tr>\n",
              "    <tr>\n",
              "      <th>angie.warren</th>\n",
              "      <td>5.0</td>\n",
              "      <td>9.0</td>\n",
              "      <td>0.800000</td>\n",
              "    </tr>\n",
              "    <tr>\n",
              "      <th>chris.rogers.amitechsolutions</th>\n",
              "      <td>4.0</td>\n",
              "      <td>3.0</td>\n",
              "      <td>-0.250000</td>\n",
              "    </tr>\n",
              "  </tbody>\n",
              "</table>\n",
              "</div>\n",
              "    <div class=\"colab-df-buttons\">\n",
              "\n",
              "  <div class=\"colab-df-container\">\n",
              "    <button class=\"colab-df-convert\" onclick=\"convertToInteractive('df-318cd4be-79fd-4a5e-942b-c09b6cd83859')\"\n",
              "            title=\"Convert this dataframe to an interactive table.\"\n",
              "            style=\"display:none;\">\n",
              "\n",
              "  <svg xmlns=\"http://www.w3.org/2000/svg\" height=\"24px\" viewBox=\"0 -960 960 960\">\n",
              "    <path d=\"M120-120v-720h720v720H120Zm60-500h600v-160H180v160Zm220 220h160v-160H400v160Zm0 220h160v-160H400v160ZM180-400h160v-160H180v160Zm440 0h160v-160H620v160ZM180-180h160v-160H180v160Zm440 0h160v-160H620v160Z\"/>\n",
              "  </svg>\n",
              "    </button>\n",
              "\n",
              "  <style>\n",
              "    .colab-df-container {\n",
              "      display:flex;\n",
              "      gap: 12px;\n",
              "    }\n",
              "\n",
              "    .colab-df-convert {\n",
              "      background-color: #E8F0FE;\n",
              "      border: none;\n",
              "      border-radius: 50%;\n",
              "      cursor: pointer;\n",
              "      display: none;\n",
              "      fill: #1967D2;\n",
              "      height: 32px;\n",
              "      padding: 0 0 0 0;\n",
              "      width: 32px;\n",
              "    }\n",
              "\n",
              "    .colab-df-convert:hover {\n",
              "      background-color: #E2EBFA;\n",
              "      box-shadow: 0px 1px 2px rgba(60, 64, 67, 0.3), 0px 1px 3px 1px rgba(60, 64, 67, 0.15);\n",
              "      fill: #174EA6;\n",
              "    }\n",
              "\n",
              "    .colab-df-buttons div {\n",
              "      margin-bottom: 4px;\n",
              "    }\n",
              "\n",
              "    [theme=dark] .colab-df-convert {\n",
              "      background-color: #3B4455;\n",
              "      fill: #D2E3FC;\n",
              "    }\n",
              "\n",
              "    [theme=dark] .colab-df-convert:hover {\n",
              "      background-color: #434B5C;\n",
              "      box-shadow: 0px 1px 3px 1px rgba(0, 0, 0, 0.15);\n",
              "      filter: drop-shadow(0px 1px 2px rgba(0, 0, 0, 0.3));\n",
              "      fill: #FFFFFF;\n",
              "    }\n",
              "  </style>\n",
              "\n",
              "    <script>\n",
              "      const buttonEl =\n",
              "        document.querySelector('#df-318cd4be-79fd-4a5e-942b-c09b6cd83859 button.colab-df-convert');\n",
              "      buttonEl.style.display =\n",
              "        google.colab.kernel.accessAllowed ? 'block' : 'none';\n",
              "\n",
              "      async function convertToInteractive(key) {\n",
              "        const element = document.querySelector('#df-318cd4be-79fd-4a5e-942b-c09b6cd83859');\n",
              "        const dataTable =\n",
              "          await google.colab.kernel.invokeFunction('convertToInteractive',\n",
              "                                                    [key], {});\n",
              "        if (!dataTable) return;\n",
              "\n",
              "        const docLinkHtml = 'Like what you see? Visit the ' +\n",
              "          '<a target=\"_blank\" href=https://colab.research.google.com/notebooks/data_table.ipynb>data table notebook</a>'\n",
              "          + ' to learn more about interactive tables.';\n",
              "        element.innerHTML = '';\n",
              "        dataTable['output_type'] = 'display_data';\n",
              "        await google.colab.output.renderOutput(dataTable, element);\n",
              "        const docLink = document.createElement('div');\n",
              "        docLink.innerHTML = docLinkHtml;\n",
              "        element.appendChild(docLink);\n",
              "      }\n",
              "    </script>\n",
              "  </div>\n",
              "\n",
              "\n",
              "<div id=\"df-8c471330-2b8f-4bde-9501-2b2142010362\">\n",
              "  <button class=\"colab-df-quickchart\" onclick=\"quickchart('df-8c471330-2b8f-4bde-9501-2b2142010362')\"\n",
              "            title=\"Suggest charts\"\n",
              "            style=\"display:none;\">\n",
              "\n",
              "<svg xmlns=\"http://www.w3.org/2000/svg\" height=\"24px\"viewBox=\"0 0 24 24\"\n",
              "     width=\"24px\">\n",
              "    <g>\n",
              "        <path d=\"M19 3H5c-1.1 0-2 .9-2 2v14c0 1.1.9 2 2 2h14c1.1 0 2-.9 2-2V5c0-1.1-.9-2-2-2zM9 17H7v-7h2v7zm4 0h-2V7h2v10zm4 0h-2v-4h2v4z\"/>\n",
              "    </g>\n",
              "</svg>\n",
              "  </button>\n",
              "\n",
              "<style>\n",
              "  .colab-df-quickchart {\n",
              "      --bg-color: #E8F0FE;\n",
              "      --fill-color: #1967D2;\n",
              "      --hover-bg-color: #E2EBFA;\n",
              "      --hover-fill-color: #174EA6;\n",
              "      --disabled-fill-color: #AAA;\n",
              "      --disabled-bg-color: #DDD;\n",
              "  }\n",
              "\n",
              "  [theme=dark] .colab-df-quickchart {\n",
              "      --bg-color: #3B4455;\n",
              "      --fill-color: #D2E3FC;\n",
              "      --hover-bg-color: #434B5C;\n",
              "      --hover-fill-color: #FFFFFF;\n",
              "      --disabled-bg-color: #3B4455;\n",
              "      --disabled-fill-color: #666;\n",
              "  }\n",
              "\n",
              "  .colab-df-quickchart {\n",
              "    background-color: var(--bg-color);\n",
              "    border: none;\n",
              "    border-radius: 50%;\n",
              "    cursor: pointer;\n",
              "    display: none;\n",
              "    fill: var(--fill-color);\n",
              "    height: 32px;\n",
              "    padding: 0;\n",
              "    width: 32px;\n",
              "  }\n",
              "\n",
              "  .colab-df-quickchart:hover {\n",
              "    background-color: var(--hover-bg-color);\n",
              "    box-shadow: 0 1px 2px rgba(60, 64, 67, 0.3), 0 1px 3px 1px rgba(60, 64, 67, 0.15);\n",
              "    fill: var(--button-hover-fill-color);\n",
              "  }\n",
              "\n",
              "  .colab-df-quickchart-complete:disabled,\n",
              "  .colab-df-quickchart-complete:disabled:hover {\n",
              "    background-color: var(--disabled-bg-color);\n",
              "    fill: var(--disabled-fill-color);\n",
              "    box-shadow: none;\n",
              "  }\n",
              "\n",
              "  .colab-df-spinner {\n",
              "    border: 2px solid var(--fill-color);\n",
              "    border-color: transparent;\n",
              "    border-bottom-color: var(--fill-color);\n",
              "    animation:\n",
              "      spin 1s steps(1) infinite;\n",
              "  }\n",
              "\n",
              "  @keyframes spin {\n",
              "    0% {\n",
              "      border-color: transparent;\n",
              "      border-bottom-color: var(--fill-color);\n",
              "      border-left-color: var(--fill-color);\n",
              "    }\n",
              "    20% {\n",
              "      border-color: transparent;\n",
              "      border-left-color: var(--fill-color);\n",
              "      border-top-color: var(--fill-color);\n",
              "    }\n",
              "    30% {\n",
              "      border-color: transparent;\n",
              "      border-left-color: var(--fill-color);\n",
              "      border-top-color: var(--fill-color);\n",
              "      border-right-color: var(--fill-color);\n",
              "    }\n",
              "    40% {\n",
              "      border-color: transparent;\n",
              "      border-right-color: var(--fill-color);\n",
              "      border-top-color: var(--fill-color);\n",
              "    }\n",
              "    60% {\n",
              "      border-color: transparent;\n",
              "      border-right-color: var(--fill-color);\n",
              "    }\n",
              "    80% {\n",
              "      border-color: transparent;\n",
              "      border-right-color: var(--fill-color);\n",
              "      border-bottom-color: var(--fill-color);\n",
              "    }\n",
              "    90% {\n",
              "      border-color: transparent;\n",
              "      border-bottom-color: var(--fill-color);\n",
              "    }\n",
              "  }\n",
              "</style>\n",
              "\n",
              "  <script>\n",
              "    async function quickchart(key) {\n",
              "      const quickchartButtonEl =\n",
              "        document.querySelector('#' + key + ' button');\n",
              "      quickchartButtonEl.disabled = true;  // To prevent multiple clicks.\n",
              "      quickchartButtonEl.classList.add('colab-df-spinner');\n",
              "      try {\n",
              "        const charts = await google.colab.kernel.invokeFunction(\n",
              "            'suggestCharts', [key], {});\n",
              "      } catch (error) {\n",
              "        console.error('Error during call to suggestCharts:', error);\n",
              "      }\n",
              "      quickchartButtonEl.classList.remove('colab-df-spinner');\n",
              "      quickchartButtonEl.classList.add('colab-df-quickchart-complete');\n",
              "    }\n",
              "    (() => {\n",
              "      let quickchartButtonEl =\n",
              "        document.querySelector('#df-8c471330-2b8f-4bde-9501-2b2142010362 button');\n",
              "      quickchartButtonEl.style.display =\n",
              "        google.colab.kernel.accessAllowed ? 'block' : 'none';\n",
              "    })();\n",
              "  </script>\n",
              "</div>\n",
              "\n",
              "    </div>\n",
              "  </div>\n"
            ],
            "application/vnd.google.colaboratory.intrinsic+json": {
              "type": "dataframe",
              "variable_name": "summary",
              "summary": "{\n  \"name\": \"summary\",\n  \"rows\": 22,\n  \"fields\": [\n    {\n      \"column\": \"userName\",\n      \"properties\": {\n        \"dtype\": \"string\",\n        \"num_unique_values\": 22,\n        \"samples\": [\n          \"Drew.Marco\",\n          \"michael.demos\",\n          \"jennifer.patton.amitechs\"\n        ],\n        \"semantic_type\": \"\",\n        \"description\": \"\"\n      }\n    },\n    {\n      \"column\": \"Before\",\n      \"properties\": {\n        \"dtype\": \"number\",\n        \"std\": 5.800619462366596,\n        \"min\": 1.0,\n        \"max\": 23.0,\n        \"num_unique_values\": 14,\n        \"samples\": [\n          23.0,\n          9.0,\n          12.0\n        ],\n        \"semantic_type\": \"\",\n        \"description\": \"\"\n      }\n    },\n    {\n      \"column\": \"During\",\n      \"properties\": {\n        \"dtype\": \"number\",\n        \"std\": 11.487241181271939,\n        \"min\": 0.0,\n        \"max\": 39.0,\n        \"num_unique_values\": 15,\n        \"samples\": [\n          2.0,\n          35.0,\n          19.0\n        ],\n        \"semantic_type\": \"\",\n        \"description\": \"\"\n      }\n    },\n    {\n      \"column\": \"pctChange\",\n      \"properties\": {\n        \"dtype\": \"number\",\n        \"std\": 1.8359189782798522,\n        \"min\": -1.0,\n        \"max\": 8.0,\n        \"num_unique_values\": 18,\n        \"samples\": [\n          0.5833333333333334,\n          0.7647058823529411,\n          1.3333333333333333\n        ],\n        \"semantic_type\": \"\",\n        \"description\": \"\"\n      }\n    }\n  ]\n}"
            }
          },
          "metadata": {},
          "execution_count": 39
        }
      ]
    },
    {
      "cell_type": "code",
      "execution_count": 40,
      "metadata": {
        "id": "yck9qMLXlCsB"
      },
      "outputs": [],
      "source": [
        "assert(len(summary) == 22)"
      ]
    },
    {
      "cell_type": "code",
      "execution_count": 41,
      "metadata": {
        "id": "cJtXX2YRlCsB"
      },
      "outputs": [],
      "source": [
        "assert(summary['pctChange'].mean().round(2) == 0.92)"
      ]
    },
    {
      "cell_type": "code",
      "source": [
        "print(\"Average pctChange:\", summary['pctChange'].mean().round(2))"
      ],
      "metadata": {
        "colab": {
          "base_uri": "https://localhost:8080/"
        },
        "id": "CObugkQjrhZS",
        "outputId": "2f5479d9-a872-4f5d-948c-73db6524fed5"
      },
      "execution_count": 42,
      "outputs": [
        {
          "output_type": "stream",
          "name": "stdout",
          "text": [
            "Average pctChange: 0.92\n"
          ]
        }
      ]
    },
    {
      "cell_type": "markdown",
      "metadata": {
        "id": "VLnyyXWzlCsB"
      },
      "source": [
        "\n",
        "\n",
        "---\n",
        "\n",
        "\n",
        "\n",
        "## Submitting Your Work\n",
        "\n",
        "Submit as usual\n"
      ]
    }
  ],
  "metadata": {
    "celltoolbar": "Create Assignment",
    "kernelspec": {
      "display_name": "Python 3",
      "language": "python",
      "name": "python3"
    },
    "language_info": {
      "codemirror_mode": {
        "name": "ipython",
        "version": 3
      },
      "file_extension": ".py",
      "mimetype": "text/x-python",
      "name": "python",
      "nbconvert_exporter": "python",
      "pygments_lexer": "ipython3",
      "version": "3.6.7"
    },
    "colab": {
      "provenance": [],
      "include_colab_link": true
    }
  },
  "nbformat": 4,
  "nbformat_minor": 0
}